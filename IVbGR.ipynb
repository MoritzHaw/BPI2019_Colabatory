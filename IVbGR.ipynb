{
  "nbformat": 4,
  "nbformat_minor": 0,
  "metadata": {
    "colab": {
      "name": "IVbGR.ipynb",
      "provenance": [],
      "collapsed_sections": [],
      "authorship_tag": "ABX9TyOszDsjaESKqi4y5fIqV6Kn",
      "include_colab_link": true
    },
    "kernelspec": {
      "name": "python3",
      "display_name": "Python 3"
    },
    "language_info": {
      "name": "python"
    },
    "widgets": {
      "application/vnd.jupyter.widget-state+json": {
        "2983a80f777645ad8f8fca44cb2550b3": {
          "model_module": "@jupyter-widgets/controls",
          "model_name": "HBoxModel",
          "model_module_version": "1.5.0",
          "state": {
            "_view_name": "HBoxView",
            "_dom_classes": [],
            "_model_name": "HBoxModel",
            "_view_module": "@jupyter-widgets/controls",
            "_model_module_version": "1.5.0",
            "_view_count": null,
            "_view_module_version": "1.5.0",
            "box_style": "",
            "layout": "IPY_MODEL_bec9eb99fef545058d9ee7ed5da472e4",
            "_model_module": "@jupyter-widgets/controls",
            "children": [
              "IPY_MODEL_6a681ce64f1c434887b84f334686717f",
              "IPY_MODEL_ef09f36e09024bb2af871d32b3cc6984",
              "IPY_MODEL_ccf0a9c1362342e4bed7ab27a412279a"
            ]
          }
        },
        "bec9eb99fef545058d9ee7ed5da472e4": {
          "model_module": "@jupyter-widgets/base",
          "model_name": "LayoutModel",
          "model_module_version": "1.2.0",
          "state": {
            "_view_name": "LayoutView",
            "grid_template_rows": null,
            "right": null,
            "justify_content": null,
            "_view_module": "@jupyter-widgets/base",
            "overflow": null,
            "_model_module_version": "1.2.0",
            "_view_count": null,
            "flex_flow": null,
            "width": null,
            "min_width": null,
            "border": null,
            "align_items": null,
            "bottom": null,
            "_model_module": "@jupyter-widgets/base",
            "top": null,
            "grid_column": null,
            "overflow_y": null,
            "overflow_x": null,
            "grid_auto_flow": null,
            "grid_area": null,
            "grid_template_columns": null,
            "flex": null,
            "_model_name": "LayoutModel",
            "justify_items": null,
            "grid_row": null,
            "max_height": null,
            "align_content": null,
            "visibility": null,
            "align_self": null,
            "height": null,
            "min_height": null,
            "padding": null,
            "grid_auto_rows": null,
            "grid_gap": null,
            "max_width": null,
            "order": null,
            "_view_module_version": "1.2.0",
            "grid_template_areas": null,
            "object_position": null,
            "object_fit": null,
            "grid_auto_columns": null,
            "margin": null,
            "display": null,
            "left": null
          }
        },
        "6a681ce64f1c434887b84f334686717f": {
          "model_module": "@jupyter-widgets/controls",
          "model_name": "HTMLModel",
          "model_module_version": "1.5.0",
          "state": {
            "_view_name": "HTMLView",
            "style": "IPY_MODEL_4fa76d5b1a5947dcbb216f20ab5e9788",
            "_dom_classes": [],
            "description": "",
            "_model_name": "HTMLModel",
            "placeholder": "​",
            "_view_module": "@jupyter-widgets/controls",
            "_model_module_version": "1.5.0",
            "value": "replaying log with TBR, completed variants :: 100%",
            "_view_count": null,
            "_view_module_version": "1.5.0",
            "description_tooltip": null,
            "_model_module": "@jupyter-widgets/controls",
            "layout": "IPY_MODEL_2463d6ef70d249cea010c424d51198c9"
          }
        },
        "ef09f36e09024bb2af871d32b3cc6984": {
          "model_module": "@jupyter-widgets/controls",
          "model_name": "FloatProgressModel",
          "model_module_version": "1.5.0",
          "state": {
            "_view_name": "ProgressView",
            "style": "IPY_MODEL_13b915138cab467ba252e3005f4c5285",
            "_dom_classes": [],
            "description": "",
            "_model_name": "FloatProgressModel",
            "bar_style": "success",
            "max": 4,
            "_view_module": "@jupyter-widgets/controls",
            "_model_module_version": "1.5.0",
            "value": 4,
            "_view_count": null,
            "_view_module_version": "1.5.0",
            "orientation": "horizontal",
            "min": 0,
            "description_tooltip": null,
            "_model_module": "@jupyter-widgets/controls",
            "layout": "IPY_MODEL_da8ffafab26d4898921d860e14012db5"
          }
        },
        "ccf0a9c1362342e4bed7ab27a412279a": {
          "model_module": "@jupyter-widgets/controls",
          "model_name": "HTMLModel",
          "model_module_version": "1.5.0",
          "state": {
            "_view_name": "HTMLView",
            "style": "IPY_MODEL_52ac631d2894481b8ce60bc63841541e",
            "_dom_classes": [],
            "description": "",
            "_model_name": "HTMLModel",
            "placeholder": "​",
            "_view_module": "@jupyter-widgets/controls",
            "_model_module_version": "1.5.0",
            "value": " 4/4 [00:00&lt;00:00, 65.75it/s]",
            "_view_count": null,
            "_view_module_version": "1.5.0",
            "description_tooltip": null,
            "_model_module": "@jupyter-widgets/controls",
            "layout": "IPY_MODEL_a0cdb1fdf2b64a89be22eca4ccece0f4"
          }
        },
        "4fa76d5b1a5947dcbb216f20ab5e9788": {
          "model_module": "@jupyter-widgets/controls",
          "model_name": "DescriptionStyleModel",
          "model_module_version": "1.5.0",
          "state": {
            "_view_name": "StyleView",
            "_model_name": "DescriptionStyleModel",
            "description_width": "",
            "_view_module": "@jupyter-widgets/base",
            "_model_module_version": "1.5.0",
            "_view_count": null,
            "_view_module_version": "1.2.0",
            "_model_module": "@jupyter-widgets/controls"
          }
        },
        "2463d6ef70d249cea010c424d51198c9": {
          "model_module": "@jupyter-widgets/base",
          "model_name": "LayoutModel",
          "model_module_version": "1.2.0",
          "state": {
            "_view_name": "LayoutView",
            "grid_template_rows": null,
            "right": null,
            "justify_content": null,
            "_view_module": "@jupyter-widgets/base",
            "overflow": null,
            "_model_module_version": "1.2.0",
            "_view_count": null,
            "flex_flow": null,
            "width": null,
            "min_width": null,
            "border": null,
            "align_items": null,
            "bottom": null,
            "_model_module": "@jupyter-widgets/base",
            "top": null,
            "grid_column": null,
            "overflow_y": null,
            "overflow_x": null,
            "grid_auto_flow": null,
            "grid_area": null,
            "grid_template_columns": null,
            "flex": null,
            "_model_name": "LayoutModel",
            "justify_items": null,
            "grid_row": null,
            "max_height": null,
            "align_content": null,
            "visibility": null,
            "align_self": null,
            "height": null,
            "min_height": null,
            "padding": null,
            "grid_auto_rows": null,
            "grid_gap": null,
            "max_width": null,
            "order": null,
            "_view_module_version": "1.2.0",
            "grid_template_areas": null,
            "object_position": null,
            "object_fit": null,
            "grid_auto_columns": null,
            "margin": null,
            "display": null,
            "left": null
          }
        },
        "13b915138cab467ba252e3005f4c5285": {
          "model_module": "@jupyter-widgets/controls",
          "model_name": "ProgressStyleModel",
          "model_module_version": "1.5.0",
          "state": {
            "_view_name": "StyleView",
            "_model_name": "ProgressStyleModel",
            "description_width": "",
            "_view_module": "@jupyter-widgets/base",
            "_model_module_version": "1.5.0",
            "_view_count": null,
            "_view_module_version": "1.2.0",
            "bar_color": null,
            "_model_module": "@jupyter-widgets/controls"
          }
        },
        "da8ffafab26d4898921d860e14012db5": {
          "model_module": "@jupyter-widgets/base",
          "model_name": "LayoutModel",
          "model_module_version": "1.2.0",
          "state": {
            "_view_name": "LayoutView",
            "grid_template_rows": null,
            "right": null,
            "justify_content": null,
            "_view_module": "@jupyter-widgets/base",
            "overflow": null,
            "_model_module_version": "1.2.0",
            "_view_count": null,
            "flex_flow": null,
            "width": null,
            "min_width": null,
            "border": null,
            "align_items": null,
            "bottom": null,
            "_model_module": "@jupyter-widgets/base",
            "top": null,
            "grid_column": null,
            "overflow_y": null,
            "overflow_x": null,
            "grid_auto_flow": null,
            "grid_area": null,
            "grid_template_columns": null,
            "flex": null,
            "_model_name": "LayoutModel",
            "justify_items": null,
            "grid_row": null,
            "max_height": null,
            "align_content": null,
            "visibility": null,
            "align_self": null,
            "height": null,
            "min_height": null,
            "padding": null,
            "grid_auto_rows": null,
            "grid_gap": null,
            "max_width": null,
            "order": null,
            "_view_module_version": "1.2.0",
            "grid_template_areas": null,
            "object_position": null,
            "object_fit": null,
            "grid_auto_columns": null,
            "margin": null,
            "display": null,
            "left": null
          }
        },
        "52ac631d2894481b8ce60bc63841541e": {
          "model_module": "@jupyter-widgets/controls",
          "model_name": "DescriptionStyleModel",
          "model_module_version": "1.5.0",
          "state": {
            "_view_name": "StyleView",
            "_model_name": "DescriptionStyleModel",
            "description_width": "",
            "_view_module": "@jupyter-widgets/base",
            "_model_module_version": "1.5.0",
            "_view_count": null,
            "_view_module_version": "1.2.0",
            "_model_module": "@jupyter-widgets/controls"
          }
        },
        "a0cdb1fdf2b64a89be22eca4ccece0f4": {
          "model_module": "@jupyter-widgets/base",
          "model_name": "LayoutModel",
          "model_module_version": "1.2.0",
          "state": {
            "_view_name": "LayoutView",
            "grid_template_rows": null,
            "right": null,
            "justify_content": null,
            "_view_module": "@jupyter-widgets/base",
            "overflow": null,
            "_model_module_version": "1.2.0",
            "_view_count": null,
            "flex_flow": null,
            "width": null,
            "min_width": null,
            "border": null,
            "align_items": null,
            "bottom": null,
            "_model_module": "@jupyter-widgets/base",
            "top": null,
            "grid_column": null,
            "overflow_y": null,
            "overflow_x": null,
            "grid_auto_flow": null,
            "grid_area": null,
            "grid_template_columns": null,
            "flex": null,
            "_model_name": "LayoutModel",
            "justify_items": null,
            "grid_row": null,
            "max_height": null,
            "align_content": null,
            "visibility": null,
            "align_self": null,
            "height": null,
            "min_height": null,
            "padding": null,
            "grid_auto_rows": null,
            "grid_gap": null,
            "max_width": null,
            "order": null,
            "_view_module_version": "1.2.0",
            "grid_template_areas": null,
            "object_position": null,
            "object_fit": null,
            "grid_auto_columns": null,
            "margin": null,
            "display": null,
            "left": null
          }
        },
        "af7a15a2977d47708308cfdf47ad4531": {
          "model_module": "@jupyter-widgets/controls",
          "model_name": "HBoxModel",
          "model_module_version": "1.5.0",
          "state": {
            "_view_name": "HBoxView",
            "_dom_classes": [],
            "_model_name": "HBoxModel",
            "_view_module": "@jupyter-widgets/controls",
            "_model_module_version": "1.5.0",
            "_view_count": null,
            "_view_module_version": "1.5.0",
            "box_style": "",
            "layout": "IPY_MODEL_c5f9939824a44c1fa8895cc255f5e505",
            "_model_module": "@jupyter-widgets/controls",
            "children": [
              "IPY_MODEL_18a2e22057ac4721baad764c1de97860",
              "IPY_MODEL_53470623796e4e0fb602c020c61fd39d",
              "IPY_MODEL_e111ad0be5c24d2f8c3df6e0092087f0"
            ]
          }
        },
        "c5f9939824a44c1fa8895cc255f5e505": {
          "model_module": "@jupyter-widgets/base",
          "model_name": "LayoutModel",
          "model_module_version": "1.2.0",
          "state": {
            "_view_name": "LayoutView",
            "grid_template_rows": null,
            "right": null,
            "justify_content": null,
            "_view_module": "@jupyter-widgets/base",
            "overflow": null,
            "_model_module_version": "1.2.0",
            "_view_count": null,
            "flex_flow": null,
            "width": null,
            "min_width": null,
            "border": null,
            "align_items": null,
            "bottom": null,
            "_model_module": "@jupyter-widgets/base",
            "top": null,
            "grid_column": null,
            "overflow_y": null,
            "overflow_x": null,
            "grid_auto_flow": null,
            "grid_area": null,
            "grid_template_columns": null,
            "flex": null,
            "_model_name": "LayoutModel",
            "justify_items": null,
            "grid_row": null,
            "max_height": null,
            "align_content": null,
            "visibility": null,
            "align_self": null,
            "height": null,
            "min_height": null,
            "padding": null,
            "grid_auto_rows": null,
            "grid_gap": null,
            "max_width": null,
            "order": null,
            "_view_module_version": "1.2.0",
            "grid_template_areas": null,
            "object_position": null,
            "object_fit": null,
            "grid_auto_columns": null,
            "margin": null,
            "display": null,
            "left": null
          }
        },
        "18a2e22057ac4721baad764c1de97860": {
          "model_module": "@jupyter-widgets/controls",
          "model_name": "HTMLModel",
          "model_module_version": "1.5.0",
          "state": {
            "_view_name": "HTMLView",
            "style": "IPY_MODEL_3a7346e2f1684bb38375b962d1e3077a",
            "_dom_classes": [],
            "description": "",
            "_model_name": "HTMLModel",
            "placeholder": "​",
            "_view_module": "@jupyter-widgets/controls",
            "_model_module_version": "1.5.0",
            "value": "replaying log with TBR, completed variants :: 100%",
            "_view_count": null,
            "_view_module_version": "1.5.0",
            "description_tooltip": null,
            "_model_module": "@jupyter-widgets/controls",
            "layout": "IPY_MODEL_db4435f1862349e09319a338897dc1ac"
          }
        },
        "53470623796e4e0fb602c020c61fd39d": {
          "model_module": "@jupyter-widgets/controls",
          "model_name": "FloatProgressModel",
          "model_module_version": "1.5.0",
          "state": {
            "_view_name": "ProgressView",
            "style": "IPY_MODEL_a52e38d47e854fc598142882cda9be15",
            "_dom_classes": [],
            "description": "",
            "_model_name": "FloatProgressModel",
            "bar_style": "success",
            "max": 4,
            "_view_module": "@jupyter-widgets/controls",
            "_model_module_version": "1.5.0",
            "value": 4,
            "_view_count": null,
            "_view_module_version": "1.5.0",
            "orientation": "horizontal",
            "min": 0,
            "description_tooltip": null,
            "_model_module": "@jupyter-widgets/controls",
            "layout": "IPY_MODEL_68c02b2efc1d43a0b002de4368ee5369"
          }
        },
        "e111ad0be5c24d2f8c3df6e0092087f0": {
          "model_module": "@jupyter-widgets/controls",
          "model_name": "HTMLModel",
          "model_module_version": "1.5.0",
          "state": {
            "_view_name": "HTMLView",
            "style": "IPY_MODEL_749e1ab72cf64570bd0d406e14c1e9ea",
            "_dom_classes": [],
            "description": "",
            "_model_name": "HTMLModel",
            "placeholder": "​",
            "_view_module": "@jupyter-widgets/controls",
            "_model_module_version": "1.5.0",
            "value": " 4/4 [00:00&lt;00:00, 84.58it/s]",
            "_view_count": null,
            "_view_module_version": "1.5.0",
            "description_tooltip": null,
            "_model_module": "@jupyter-widgets/controls",
            "layout": "IPY_MODEL_7daadda943814f2b9549675e47e7cacc"
          }
        },
        "3a7346e2f1684bb38375b962d1e3077a": {
          "model_module": "@jupyter-widgets/controls",
          "model_name": "DescriptionStyleModel",
          "model_module_version": "1.5.0",
          "state": {
            "_view_name": "StyleView",
            "_model_name": "DescriptionStyleModel",
            "description_width": "",
            "_view_module": "@jupyter-widgets/base",
            "_model_module_version": "1.5.0",
            "_view_count": null,
            "_view_module_version": "1.2.0",
            "_model_module": "@jupyter-widgets/controls"
          }
        },
        "db4435f1862349e09319a338897dc1ac": {
          "model_module": "@jupyter-widgets/base",
          "model_name": "LayoutModel",
          "model_module_version": "1.2.0",
          "state": {
            "_view_name": "LayoutView",
            "grid_template_rows": null,
            "right": null,
            "justify_content": null,
            "_view_module": "@jupyter-widgets/base",
            "overflow": null,
            "_model_module_version": "1.2.0",
            "_view_count": null,
            "flex_flow": null,
            "width": null,
            "min_width": null,
            "border": null,
            "align_items": null,
            "bottom": null,
            "_model_module": "@jupyter-widgets/base",
            "top": null,
            "grid_column": null,
            "overflow_y": null,
            "overflow_x": null,
            "grid_auto_flow": null,
            "grid_area": null,
            "grid_template_columns": null,
            "flex": null,
            "_model_name": "LayoutModel",
            "justify_items": null,
            "grid_row": null,
            "max_height": null,
            "align_content": null,
            "visibility": null,
            "align_self": null,
            "height": null,
            "min_height": null,
            "padding": null,
            "grid_auto_rows": null,
            "grid_gap": null,
            "max_width": null,
            "order": null,
            "_view_module_version": "1.2.0",
            "grid_template_areas": null,
            "object_position": null,
            "object_fit": null,
            "grid_auto_columns": null,
            "margin": null,
            "display": null,
            "left": null
          }
        },
        "a52e38d47e854fc598142882cda9be15": {
          "model_module": "@jupyter-widgets/controls",
          "model_name": "ProgressStyleModel",
          "model_module_version": "1.5.0",
          "state": {
            "_view_name": "StyleView",
            "_model_name": "ProgressStyleModel",
            "description_width": "",
            "_view_module": "@jupyter-widgets/base",
            "_model_module_version": "1.5.0",
            "_view_count": null,
            "_view_module_version": "1.2.0",
            "bar_color": null,
            "_model_module": "@jupyter-widgets/controls"
          }
        },
        "68c02b2efc1d43a0b002de4368ee5369": {
          "model_module": "@jupyter-widgets/base",
          "model_name": "LayoutModel",
          "model_module_version": "1.2.0",
          "state": {
            "_view_name": "LayoutView",
            "grid_template_rows": null,
            "right": null,
            "justify_content": null,
            "_view_module": "@jupyter-widgets/base",
            "overflow": null,
            "_model_module_version": "1.2.0",
            "_view_count": null,
            "flex_flow": null,
            "width": null,
            "min_width": null,
            "border": null,
            "align_items": null,
            "bottom": null,
            "_model_module": "@jupyter-widgets/base",
            "top": null,
            "grid_column": null,
            "overflow_y": null,
            "overflow_x": null,
            "grid_auto_flow": null,
            "grid_area": null,
            "grid_template_columns": null,
            "flex": null,
            "_model_name": "LayoutModel",
            "justify_items": null,
            "grid_row": null,
            "max_height": null,
            "align_content": null,
            "visibility": null,
            "align_self": null,
            "height": null,
            "min_height": null,
            "padding": null,
            "grid_auto_rows": null,
            "grid_gap": null,
            "max_width": null,
            "order": null,
            "_view_module_version": "1.2.0",
            "grid_template_areas": null,
            "object_position": null,
            "object_fit": null,
            "grid_auto_columns": null,
            "margin": null,
            "display": null,
            "left": null
          }
        },
        "749e1ab72cf64570bd0d406e14c1e9ea": {
          "model_module": "@jupyter-widgets/controls",
          "model_name": "DescriptionStyleModel",
          "model_module_version": "1.5.0",
          "state": {
            "_view_name": "StyleView",
            "_model_name": "DescriptionStyleModel",
            "description_width": "",
            "_view_module": "@jupyter-widgets/base",
            "_model_module_version": "1.5.0",
            "_view_count": null,
            "_view_module_version": "1.2.0",
            "_model_module": "@jupyter-widgets/controls"
          }
        },
        "7daadda943814f2b9549675e47e7cacc": {
          "model_module": "@jupyter-widgets/base",
          "model_name": "LayoutModel",
          "model_module_version": "1.2.0",
          "state": {
            "_view_name": "LayoutView",
            "grid_template_rows": null,
            "right": null,
            "justify_content": null,
            "_view_module": "@jupyter-widgets/base",
            "overflow": null,
            "_model_module_version": "1.2.0",
            "_view_count": null,
            "flex_flow": null,
            "width": null,
            "min_width": null,
            "border": null,
            "align_items": null,
            "bottom": null,
            "_model_module": "@jupyter-widgets/base",
            "top": null,
            "grid_column": null,
            "overflow_y": null,
            "overflow_x": null,
            "grid_auto_flow": null,
            "grid_area": null,
            "grid_template_columns": null,
            "flex": null,
            "_model_name": "LayoutModel",
            "justify_items": null,
            "grid_row": null,
            "max_height": null,
            "align_content": null,
            "visibility": null,
            "align_self": null,
            "height": null,
            "min_height": null,
            "padding": null,
            "grid_auto_rows": null,
            "grid_gap": null,
            "max_width": null,
            "order": null,
            "_view_module_version": "1.2.0",
            "grid_template_areas": null,
            "object_position": null,
            "object_fit": null,
            "grid_auto_columns": null,
            "margin": null,
            "display": null,
            "left": null
          }
        },
        "cb07332321074eddaa0442b6d80a2db3": {
          "model_module": "@jupyter-widgets/controls",
          "model_name": "HBoxModel",
          "model_module_version": "1.5.0",
          "state": {
            "_view_name": "HBoxView",
            "_dom_classes": [],
            "_model_name": "HBoxModel",
            "_view_module": "@jupyter-widgets/controls",
            "_model_module_version": "1.5.0",
            "_view_count": null,
            "_view_module_version": "1.5.0",
            "box_style": "",
            "layout": "IPY_MODEL_943172b0a5ee4f4094b24f38a260c2f5",
            "_model_module": "@jupyter-widgets/controls",
            "children": [
              "IPY_MODEL_a6faa04df04a4d6ba990dafd2d3fee9b",
              "IPY_MODEL_6ca1f010a4a24c508555432a57591d10",
              "IPY_MODEL_5a3cd28f50a345a9a324463a6fc1db08"
            ]
          }
        },
        "943172b0a5ee4f4094b24f38a260c2f5": {
          "model_module": "@jupyter-widgets/base",
          "model_name": "LayoutModel",
          "model_module_version": "1.2.0",
          "state": {
            "_view_name": "LayoutView",
            "grid_template_rows": null,
            "right": null,
            "justify_content": null,
            "_view_module": "@jupyter-widgets/base",
            "overflow": null,
            "_model_module_version": "1.2.0",
            "_view_count": null,
            "flex_flow": null,
            "width": null,
            "min_width": null,
            "border": null,
            "align_items": null,
            "bottom": null,
            "_model_module": "@jupyter-widgets/base",
            "top": null,
            "grid_column": null,
            "overflow_y": null,
            "overflow_x": null,
            "grid_auto_flow": null,
            "grid_area": null,
            "grid_template_columns": null,
            "flex": null,
            "_model_name": "LayoutModel",
            "justify_items": null,
            "grid_row": null,
            "max_height": null,
            "align_content": null,
            "visibility": null,
            "align_self": null,
            "height": null,
            "min_height": null,
            "padding": null,
            "grid_auto_rows": null,
            "grid_gap": null,
            "max_width": null,
            "order": null,
            "_view_module_version": "1.2.0",
            "grid_template_areas": null,
            "object_position": null,
            "object_fit": null,
            "grid_auto_columns": null,
            "margin": null,
            "display": null,
            "left": null
          }
        },
        "a6faa04df04a4d6ba990dafd2d3fee9b": {
          "model_module": "@jupyter-widgets/controls",
          "model_name": "HTMLModel",
          "model_module_version": "1.5.0",
          "state": {
            "_view_name": "HTMLView",
            "style": "IPY_MODEL_ba378b9255f447f1b5e21710aa30bcbb",
            "_dom_classes": [],
            "description": "",
            "_model_name": "HTMLModel",
            "placeholder": "​",
            "_view_module": "@jupyter-widgets/controls",
            "_model_module_version": "1.5.0",
            "value": "replaying log with TBR, completed variants :: 100%",
            "_view_count": null,
            "_view_module_version": "1.5.0",
            "description_tooltip": null,
            "_model_module": "@jupyter-widgets/controls",
            "layout": "IPY_MODEL_f83f19a265f847179a27d396fa9b8d08"
          }
        },
        "6ca1f010a4a24c508555432a57591d10": {
          "model_module": "@jupyter-widgets/controls",
          "model_name": "FloatProgressModel",
          "model_module_version": "1.5.0",
          "state": {
            "_view_name": "ProgressView",
            "style": "IPY_MODEL_21fb156d5ddc4bba82cd5f0c143a2f74",
            "_dom_classes": [],
            "description": "",
            "_model_name": "FloatProgressModel",
            "bar_style": "success",
            "max": 32,
            "_view_module": "@jupyter-widgets/controls",
            "_model_module_version": "1.5.0",
            "value": 32,
            "_view_count": null,
            "_view_module_version": "1.5.0",
            "orientation": "horizontal",
            "min": 0,
            "description_tooltip": null,
            "_model_module": "@jupyter-widgets/controls",
            "layout": "IPY_MODEL_3f53a635cd8945b39ac91c07a27ee99e"
          }
        },
        "5a3cd28f50a345a9a324463a6fc1db08": {
          "model_module": "@jupyter-widgets/controls",
          "model_name": "HTMLModel",
          "model_module_version": "1.5.0",
          "state": {
            "_view_name": "HTMLView",
            "style": "IPY_MODEL_c5cdddecd99a475e825508a266852dab",
            "_dom_classes": [],
            "description": "",
            "_model_name": "HTMLModel",
            "placeholder": "​",
            "_view_module": "@jupyter-widgets/controls",
            "_model_module_version": "1.5.0",
            "value": " 32/32 [00:00&lt;00:00, 369.34it/s]",
            "_view_count": null,
            "_view_module_version": "1.5.0",
            "description_tooltip": null,
            "_model_module": "@jupyter-widgets/controls",
            "layout": "IPY_MODEL_b388d67b22e146a89d918054dc987232"
          }
        },
        "ba378b9255f447f1b5e21710aa30bcbb": {
          "model_module": "@jupyter-widgets/controls",
          "model_name": "DescriptionStyleModel",
          "model_module_version": "1.5.0",
          "state": {
            "_view_name": "StyleView",
            "_model_name": "DescriptionStyleModel",
            "description_width": "",
            "_view_module": "@jupyter-widgets/base",
            "_model_module_version": "1.5.0",
            "_view_count": null,
            "_view_module_version": "1.2.0",
            "_model_module": "@jupyter-widgets/controls"
          }
        },
        "f83f19a265f847179a27d396fa9b8d08": {
          "model_module": "@jupyter-widgets/base",
          "model_name": "LayoutModel",
          "model_module_version": "1.2.0",
          "state": {
            "_view_name": "LayoutView",
            "grid_template_rows": null,
            "right": null,
            "justify_content": null,
            "_view_module": "@jupyter-widgets/base",
            "overflow": null,
            "_model_module_version": "1.2.0",
            "_view_count": null,
            "flex_flow": null,
            "width": null,
            "min_width": null,
            "border": null,
            "align_items": null,
            "bottom": null,
            "_model_module": "@jupyter-widgets/base",
            "top": null,
            "grid_column": null,
            "overflow_y": null,
            "overflow_x": null,
            "grid_auto_flow": null,
            "grid_area": null,
            "grid_template_columns": null,
            "flex": null,
            "_model_name": "LayoutModel",
            "justify_items": null,
            "grid_row": null,
            "max_height": null,
            "align_content": null,
            "visibility": null,
            "align_self": null,
            "height": null,
            "min_height": null,
            "padding": null,
            "grid_auto_rows": null,
            "grid_gap": null,
            "max_width": null,
            "order": null,
            "_view_module_version": "1.2.0",
            "grid_template_areas": null,
            "object_position": null,
            "object_fit": null,
            "grid_auto_columns": null,
            "margin": null,
            "display": null,
            "left": null
          }
        },
        "21fb156d5ddc4bba82cd5f0c143a2f74": {
          "model_module": "@jupyter-widgets/controls",
          "model_name": "ProgressStyleModel",
          "model_module_version": "1.5.0",
          "state": {
            "_view_name": "StyleView",
            "_model_name": "ProgressStyleModel",
            "description_width": "",
            "_view_module": "@jupyter-widgets/base",
            "_model_module_version": "1.5.0",
            "_view_count": null,
            "_view_module_version": "1.2.0",
            "bar_color": null,
            "_model_module": "@jupyter-widgets/controls"
          }
        },
        "3f53a635cd8945b39ac91c07a27ee99e": {
          "model_module": "@jupyter-widgets/base",
          "model_name": "LayoutModel",
          "model_module_version": "1.2.0",
          "state": {
            "_view_name": "LayoutView",
            "grid_template_rows": null,
            "right": null,
            "justify_content": null,
            "_view_module": "@jupyter-widgets/base",
            "overflow": null,
            "_model_module_version": "1.2.0",
            "_view_count": null,
            "flex_flow": null,
            "width": null,
            "min_width": null,
            "border": null,
            "align_items": null,
            "bottom": null,
            "_model_module": "@jupyter-widgets/base",
            "top": null,
            "grid_column": null,
            "overflow_y": null,
            "overflow_x": null,
            "grid_auto_flow": null,
            "grid_area": null,
            "grid_template_columns": null,
            "flex": null,
            "_model_name": "LayoutModel",
            "justify_items": null,
            "grid_row": null,
            "max_height": null,
            "align_content": null,
            "visibility": null,
            "align_self": null,
            "height": null,
            "min_height": null,
            "padding": null,
            "grid_auto_rows": null,
            "grid_gap": null,
            "max_width": null,
            "order": null,
            "_view_module_version": "1.2.0",
            "grid_template_areas": null,
            "object_position": null,
            "object_fit": null,
            "grid_auto_columns": null,
            "margin": null,
            "display": null,
            "left": null
          }
        },
        "c5cdddecd99a475e825508a266852dab": {
          "model_module": "@jupyter-widgets/controls",
          "model_name": "DescriptionStyleModel",
          "model_module_version": "1.5.0",
          "state": {
            "_view_name": "StyleView",
            "_model_name": "DescriptionStyleModel",
            "description_width": "",
            "_view_module": "@jupyter-widgets/base",
            "_model_module_version": "1.5.0",
            "_view_count": null,
            "_view_module_version": "1.2.0",
            "_model_module": "@jupyter-widgets/controls"
          }
        },
        "b388d67b22e146a89d918054dc987232": {
          "model_module": "@jupyter-widgets/base",
          "model_name": "LayoutModel",
          "model_module_version": "1.2.0",
          "state": {
            "_view_name": "LayoutView",
            "grid_template_rows": null,
            "right": null,
            "justify_content": null,
            "_view_module": "@jupyter-widgets/base",
            "overflow": null,
            "_model_module_version": "1.2.0",
            "_view_count": null,
            "flex_flow": null,
            "width": null,
            "min_width": null,
            "border": null,
            "align_items": null,
            "bottom": null,
            "_model_module": "@jupyter-widgets/base",
            "top": null,
            "grid_column": null,
            "overflow_y": null,
            "overflow_x": null,
            "grid_auto_flow": null,
            "grid_area": null,
            "grid_template_columns": null,
            "flex": null,
            "_model_name": "LayoutModel",
            "justify_items": null,
            "grid_row": null,
            "max_height": null,
            "align_content": null,
            "visibility": null,
            "align_self": null,
            "height": null,
            "min_height": null,
            "padding": null,
            "grid_auto_rows": null,
            "grid_gap": null,
            "max_width": null,
            "order": null,
            "_view_module_version": "1.2.0",
            "grid_template_areas": null,
            "object_position": null,
            "object_fit": null,
            "grid_auto_columns": null,
            "margin": null,
            "display": null,
            "left": null
          }
        },
        "fec262d2c61349eaa47811f4b307704b": {
          "model_module": "@jupyter-widgets/controls",
          "model_name": "HBoxModel",
          "model_module_version": "1.5.0",
          "state": {
            "_view_name": "HBoxView",
            "_dom_classes": [],
            "_model_name": "HBoxModel",
            "_view_module": "@jupyter-widgets/controls",
            "_model_module_version": "1.5.0",
            "_view_count": null,
            "_view_module_version": "1.5.0",
            "box_style": "",
            "layout": "IPY_MODEL_db7b3cf2cca04ddfad141ccd3333604b",
            "_model_module": "@jupyter-widgets/controls",
            "children": [
              "IPY_MODEL_3b1b9def73724d50996cd326750aa710",
              "IPY_MODEL_1586b816690f435b80c823d9e1b5b5ff",
              "IPY_MODEL_0e174f90d0d848de804c397b2b819c22"
            ]
          }
        },
        "db7b3cf2cca04ddfad141ccd3333604b": {
          "model_module": "@jupyter-widgets/base",
          "model_name": "LayoutModel",
          "model_module_version": "1.2.0",
          "state": {
            "_view_name": "LayoutView",
            "grid_template_rows": null,
            "right": null,
            "justify_content": null,
            "_view_module": "@jupyter-widgets/base",
            "overflow": null,
            "_model_module_version": "1.2.0",
            "_view_count": null,
            "flex_flow": null,
            "width": null,
            "min_width": null,
            "border": null,
            "align_items": null,
            "bottom": null,
            "_model_module": "@jupyter-widgets/base",
            "top": null,
            "grid_column": null,
            "overflow_y": null,
            "overflow_x": null,
            "grid_auto_flow": null,
            "grid_area": null,
            "grid_template_columns": null,
            "flex": null,
            "_model_name": "LayoutModel",
            "justify_items": null,
            "grid_row": null,
            "max_height": null,
            "align_content": null,
            "visibility": null,
            "align_self": null,
            "height": null,
            "min_height": null,
            "padding": null,
            "grid_auto_rows": null,
            "grid_gap": null,
            "max_width": null,
            "order": null,
            "_view_module_version": "1.2.0",
            "grid_template_areas": null,
            "object_position": null,
            "object_fit": null,
            "grid_auto_columns": null,
            "margin": null,
            "display": null,
            "left": null
          }
        },
        "3b1b9def73724d50996cd326750aa710": {
          "model_module": "@jupyter-widgets/controls",
          "model_name": "HTMLModel",
          "model_module_version": "1.5.0",
          "state": {
            "_view_name": "HTMLView",
            "style": "IPY_MODEL_e8d83d78e28a47cabe067de768f4cac3",
            "_dom_classes": [],
            "description": "",
            "_model_name": "HTMLModel",
            "placeholder": "​",
            "_view_module": "@jupyter-widgets/controls",
            "_model_module_version": "1.5.0",
            "value": "replaying log with TBR, completed variants :: 100%",
            "_view_count": null,
            "_view_module_version": "1.5.0",
            "description_tooltip": null,
            "_model_module": "@jupyter-widgets/controls",
            "layout": "IPY_MODEL_6a5070d1ebe94406be96d409ca11d319"
          }
        },
        "1586b816690f435b80c823d9e1b5b5ff": {
          "model_module": "@jupyter-widgets/controls",
          "model_name": "FloatProgressModel",
          "model_module_version": "1.5.0",
          "state": {
            "_view_name": "ProgressView",
            "style": "IPY_MODEL_04bf284c5876484c88d68338b58337d8",
            "_dom_classes": [],
            "description": "",
            "_model_name": "FloatProgressModel",
            "bar_style": "success",
            "max": 4,
            "_view_module": "@jupyter-widgets/controls",
            "_model_module_version": "1.5.0",
            "value": 4,
            "_view_count": null,
            "_view_module_version": "1.5.0",
            "orientation": "horizontal",
            "min": 0,
            "description_tooltip": null,
            "_model_module": "@jupyter-widgets/controls",
            "layout": "IPY_MODEL_65d6a546835040bc81e13457d48f75bf"
          }
        },
        "0e174f90d0d848de804c397b2b819c22": {
          "model_module": "@jupyter-widgets/controls",
          "model_name": "HTMLModel",
          "model_module_version": "1.5.0",
          "state": {
            "_view_name": "HTMLView",
            "style": "IPY_MODEL_18d5e753015c447a85b1daf6b70a81fe",
            "_dom_classes": [],
            "description": "",
            "_model_name": "HTMLModel",
            "placeholder": "​",
            "_view_module": "@jupyter-widgets/controls",
            "_model_module_version": "1.5.0",
            "value": " 4/4 [00:00&lt;00:00, 61.05it/s]",
            "_view_count": null,
            "_view_module_version": "1.5.0",
            "description_tooltip": null,
            "_model_module": "@jupyter-widgets/controls",
            "layout": "IPY_MODEL_5a1076d9c5f2498ebd7656576c98e2e0"
          }
        },
        "e8d83d78e28a47cabe067de768f4cac3": {
          "model_module": "@jupyter-widgets/controls",
          "model_name": "DescriptionStyleModel",
          "model_module_version": "1.5.0",
          "state": {
            "_view_name": "StyleView",
            "_model_name": "DescriptionStyleModel",
            "description_width": "",
            "_view_module": "@jupyter-widgets/base",
            "_model_module_version": "1.5.0",
            "_view_count": null,
            "_view_module_version": "1.2.0",
            "_model_module": "@jupyter-widgets/controls"
          }
        },
        "6a5070d1ebe94406be96d409ca11d319": {
          "model_module": "@jupyter-widgets/base",
          "model_name": "LayoutModel",
          "model_module_version": "1.2.0",
          "state": {
            "_view_name": "LayoutView",
            "grid_template_rows": null,
            "right": null,
            "justify_content": null,
            "_view_module": "@jupyter-widgets/base",
            "overflow": null,
            "_model_module_version": "1.2.0",
            "_view_count": null,
            "flex_flow": null,
            "width": null,
            "min_width": null,
            "border": null,
            "align_items": null,
            "bottom": null,
            "_model_module": "@jupyter-widgets/base",
            "top": null,
            "grid_column": null,
            "overflow_y": null,
            "overflow_x": null,
            "grid_auto_flow": null,
            "grid_area": null,
            "grid_template_columns": null,
            "flex": null,
            "_model_name": "LayoutModel",
            "justify_items": null,
            "grid_row": null,
            "max_height": null,
            "align_content": null,
            "visibility": null,
            "align_self": null,
            "height": null,
            "min_height": null,
            "padding": null,
            "grid_auto_rows": null,
            "grid_gap": null,
            "max_width": null,
            "order": null,
            "_view_module_version": "1.2.0",
            "grid_template_areas": null,
            "object_position": null,
            "object_fit": null,
            "grid_auto_columns": null,
            "margin": null,
            "display": null,
            "left": null
          }
        },
        "04bf284c5876484c88d68338b58337d8": {
          "model_module": "@jupyter-widgets/controls",
          "model_name": "ProgressStyleModel",
          "model_module_version": "1.5.0",
          "state": {
            "_view_name": "StyleView",
            "_model_name": "ProgressStyleModel",
            "description_width": "",
            "_view_module": "@jupyter-widgets/base",
            "_model_module_version": "1.5.0",
            "_view_count": null,
            "_view_module_version": "1.2.0",
            "bar_color": null,
            "_model_module": "@jupyter-widgets/controls"
          }
        },
        "65d6a546835040bc81e13457d48f75bf": {
          "model_module": "@jupyter-widgets/base",
          "model_name": "LayoutModel",
          "model_module_version": "1.2.0",
          "state": {
            "_view_name": "LayoutView",
            "grid_template_rows": null,
            "right": null,
            "justify_content": null,
            "_view_module": "@jupyter-widgets/base",
            "overflow": null,
            "_model_module_version": "1.2.0",
            "_view_count": null,
            "flex_flow": null,
            "width": null,
            "min_width": null,
            "border": null,
            "align_items": null,
            "bottom": null,
            "_model_module": "@jupyter-widgets/base",
            "top": null,
            "grid_column": null,
            "overflow_y": null,
            "overflow_x": null,
            "grid_auto_flow": null,
            "grid_area": null,
            "grid_template_columns": null,
            "flex": null,
            "_model_name": "LayoutModel",
            "justify_items": null,
            "grid_row": null,
            "max_height": null,
            "align_content": null,
            "visibility": null,
            "align_self": null,
            "height": null,
            "min_height": null,
            "padding": null,
            "grid_auto_rows": null,
            "grid_gap": null,
            "max_width": null,
            "order": null,
            "_view_module_version": "1.2.0",
            "grid_template_areas": null,
            "object_position": null,
            "object_fit": null,
            "grid_auto_columns": null,
            "margin": null,
            "display": null,
            "left": null
          }
        },
        "18d5e753015c447a85b1daf6b70a81fe": {
          "model_module": "@jupyter-widgets/controls",
          "model_name": "DescriptionStyleModel",
          "model_module_version": "1.5.0",
          "state": {
            "_view_name": "StyleView",
            "_model_name": "DescriptionStyleModel",
            "description_width": "",
            "_view_module": "@jupyter-widgets/base",
            "_model_module_version": "1.5.0",
            "_view_count": null,
            "_view_module_version": "1.2.0",
            "_model_module": "@jupyter-widgets/controls"
          }
        },
        "5a1076d9c5f2498ebd7656576c98e2e0": {
          "model_module": "@jupyter-widgets/base",
          "model_name": "LayoutModel",
          "model_module_version": "1.2.0",
          "state": {
            "_view_name": "LayoutView",
            "grid_template_rows": null,
            "right": null,
            "justify_content": null,
            "_view_module": "@jupyter-widgets/base",
            "overflow": null,
            "_model_module_version": "1.2.0",
            "_view_count": null,
            "flex_flow": null,
            "width": null,
            "min_width": null,
            "border": null,
            "align_items": null,
            "bottom": null,
            "_model_module": "@jupyter-widgets/base",
            "top": null,
            "grid_column": null,
            "overflow_y": null,
            "overflow_x": null,
            "grid_auto_flow": null,
            "grid_area": null,
            "grid_template_columns": null,
            "flex": null,
            "_model_name": "LayoutModel",
            "justify_items": null,
            "grid_row": null,
            "max_height": null,
            "align_content": null,
            "visibility": null,
            "align_self": null,
            "height": null,
            "min_height": null,
            "padding": null,
            "grid_auto_rows": null,
            "grid_gap": null,
            "max_width": null,
            "order": null,
            "_view_module_version": "1.2.0",
            "grid_template_areas": null,
            "object_position": null,
            "object_fit": null,
            "grid_auto_columns": null,
            "margin": null,
            "display": null,
            "left": null
          }
        },
        "6b599e2cc1284e7a9df3bfe135aa10e7": {
          "model_module": "@jupyter-widgets/controls",
          "model_name": "HBoxModel",
          "model_module_version": "1.5.0",
          "state": {
            "_view_name": "HBoxView",
            "_dom_classes": [],
            "_model_name": "HBoxModel",
            "_view_module": "@jupyter-widgets/controls",
            "_model_module_version": "1.5.0",
            "_view_count": null,
            "_view_module_version": "1.5.0",
            "box_style": "",
            "layout": "IPY_MODEL_4b9b3b5c9d4f4e2e87f389282092a72c",
            "_model_module": "@jupyter-widgets/controls",
            "children": [
              "IPY_MODEL_7b6f74e2403346e7bd926e33ce5eb6f6",
              "IPY_MODEL_e574b65145934fddac76a403de14ac98",
              "IPY_MODEL_e8fe99093bf94b1e838d625d703a1bc5"
            ]
          }
        },
        "4b9b3b5c9d4f4e2e87f389282092a72c": {
          "model_module": "@jupyter-widgets/base",
          "model_name": "LayoutModel",
          "model_module_version": "1.2.0",
          "state": {
            "_view_name": "LayoutView",
            "grid_template_rows": null,
            "right": null,
            "justify_content": null,
            "_view_module": "@jupyter-widgets/base",
            "overflow": null,
            "_model_module_version": "1.2.0",
            "_view_count": null,
            "flex_flow": null,
            "width": null,
            "min_width": null,
            "border": null,
            "align_items": null,
            "bottom": null,
            "_model_module": "@jupyter-widgets/base",
            "top": null,
            "grid_column": null,
            "overflow_y": null,
            "overflow_x": null,
            "grid_auto_flow": null,
            "grid_area": null,
            "grid_template_columns": null,
            "flex": null,
            "_model_name": "LayoutModel",
            "justify_items": null,
            "grid_row": null,
            "max_height": null,
            "align_content": null,
            "visibility": null,
            "align_self": null,
            "height": null,
            "min_height": null,
            "padding": null,
            "grid_auto_rows": null,
            "grid_gap": null,
            "max_width": null,
            "order": null,
            "_view_module_version": "1.2.0",
            "grid_template_areas": null,
            "object_position": null,
            "object_fit": null,
            "grid_auto_columns": null,
            "margin": null,
            "display": null,
            "left": null
          }
        },
        "7b6f74e2403346e7bd926e33ce5eb6f6": {
          "model_module": "@jupyter-widgets/controls",
          "model_name": "HTMLModel",
          "model_module_version": "1.5.0",
          "state": {
            "_view_name": "HTMLView",
            "style": "IPY_MODEL_a13669f9adc14ed7aec8b8cb443be5c2",
            "_dom_classes": [],
            "description": "",
            "_model_name": "HTMLModel",
            "placeholder": "​",
            "_view_module": "@jupyter-widgets/controls",
            "_model_module_version": "1.5.0",
            "value": "replaying log with TBR, completed variants :: 100%",
            "_view_count": null,
            "_view_module_version": "1.5.0",
            "description_tooltip": null,
            "_model_module": "@jupyter-widgets/controls",
            "layout": "IPY_MODEL_252fefbb6f8f475391883f891582612f"
          }
        },
        "e574b65145934fddac76a403de14ac98": {
          "model_module": "@jupyter-widgets/controls",
          "model_name": "FloatProgressModel",
          "model_module_version": "1.5.0",
          "state": {
            "_view_name": "ProgressView",
            "style": "IPY_MODEL_2324a4aaa81d4974a9700408b7c0ced2",
            "_dom_classes": [],
            "description": "",
            "_model_name": "FloatProgressModel",
            "bar_style": "success",
            "max": 4,
            "_view_module": "@jupyter-widgets/controls",
            "_model_module_version": "1.5.0",
            "value": 4,
            "_view_count": null,
            "_view_module_version": "1.5.0",
            "orientation": "horizontal",
            "min": 0,
            "description_tooltip": null,
            "_model_module": "@jupyter-widgets/controls",
            "layout": "IPY_MODEL_5a184eb1413c49b38ecfd7ad9055f5fc"
          }
        },
        "e8fe99093bf94b1e838d625d703a1bc5": {
          "model_module": "@jupyter-widgets/controls",
          "model_name": "HTMLModel",
          "model_module_version": "1.5.0",
          "state": {
            "_view_name": "HTMLView",
            "style": "IPY_MODEL_d505d717e40d49ca9abd63cc2fb569bc",
            "_dom_classes": [],
            "description": "",
            "_model_name": "HTMLModel",
            "placeholder": "​",
            "_view_module": "@jupyter-widgets/controls",
            "_model_module_version": "1.5.0",
            "value": " 4/4 [00:00&lt;00:00, 74.13it/s]",
            "_view_count": null,
            "_view_module_version": "1.5.0",
            "description_tooltip": null,
            "_model_module": "@jupyter-widgets/controls",
            "layout": "IPY_MODEL_3450fa31321d4159bc455df030934945"
          }
        },
        "a13669f9adc14ed7aec8b8cb443be5c2": {
          "model_module": "@jupyter-widgets/controls",
          "model_name": "DescriptionStyleModel",
          "model_module_version": "1.5.0",
          "state": {
            "_view_name": "StyleView",
            "_model_name": "DescriptionStyleModel",
            "description_width": "",
            "_view_module": "@jupyter-widgets/base",
            "_model_module_version": "1.5.0",
            "_view_count": null,
            "_view_module_version": "1.2.0",
            "_model_module": "@jupyter-widgets/controls"
          }
        },
        "252fefbb6f8f475391883f891582612f": {
          "model_module": "@jupyter-widgets/base",
          "model_name": "LayoutModel",
          "model_module_version": "1.2.0",
          "state": {
            "_view_name": "LayoutView",
            "grid_template_rows": null,
            "right": null,
            "justify_content": null,
            "_view_module": "@jupyter-widgets/base",
            "overflow": null,
            "_model_module_version": "1.2.0",
            "_view_count": null,
            "flex_flow": null,
            "width": null,
            "min_width": null,
            "border": null,
            "align_items": null,
            "bottom": null,
            "_model_module": "@jupyter-widgets/base",
            "top": null,
            "grid_column": null,
            "overflow_y": null,
            "overflow_x": null,
            "grid_auto_flow": null,
            "grid_area": null,
            "grid_template_columns": null,
            "flex": null,
            "_model_name": "LayoutModel",
            "justify_items": null,
            "grid_row": null,
            "max_height": null,
            "align_content": null,
            "visibility": null,
            "align_self": null,
            "height": null,
            "min_height": null,
            "padding": null,
            "grid_auto_rows": null,
            "grid_gap": null,
            "max_width": null,
            "order": null,
            "_view_module_version": "1.2.0",
            "grid_template_areas": null,
            "object_position": null,
            "object_fit": null,
            "grid_auto_columns": null,
            "margin": null,
            "display": null,
            "left": null
          }
        },
        "2324a4aaa81d4974a9700408b7c0ced2": {
          "model_module": "@jupyter-widgets/controls",
          "model_name": "ProgressStyleModel",
          "model_module_version": "1.5.0",
          "state": {
            "_view_name": "StyleView",
            "_model_name": "ProgressStyleModel",
            "description_width": "",
            "_view_module": "@jupyter-widgets/base",
            "_model_module_version": "1.5.0",
            "_view_count": null,
            "_view_module_version": "1.2.0",
            "bar_color": null,
            "_model_module": "@jupyter-widgets/controls"
          }
        },
        "5a184eb1413c49b38ecfd7ad9055f5fc": {
          "model_module": "@jupyter-widgets/base",
          "model_name": "LayoutModel",
          "model_module_version": "1.2.0",
          "state": {
            "_view_name": "LayoutView",
            "grid_template_rows": null,
            "right": null,
            "justify_content": null,
            "_view_module": "@jupyter-widgets/base",
            "overflow": null,
            "_model_module_version": "1.2.0",
            "_view_count": null,
            "flex_flow": null,
            "width": null,
            "min_width": null,
            "border": null,
            "align_items": null,
            "bottom": null,
            "_model_module": "@jupyter-widgets/base",
            "top": null,
            "grid_column": null,
            "overflow_y": null,
            "overflow_x": null,
            "grid_auto_flow": null,
            "grid_area": null,
            "grid_template_columns": null,
            "flex": null,
            "_model_name": "LayoutModel",
            "justify_items": null,
            "grid_row": null,
            "max_height": null,
            "align_content": null,
            "visibility": null,
            "align_self": null,
            "height": null,
            "min_height": null,
            "padding": null,
            "grid_auto_rows": null,
            "grid_gap": null,
            "max_width": null,
            "order": null,
            "_view_module_version": "1.2.0",
            "grid_template_areas": null,
            "object_position": null,
            "object_fit": null,
            "grid_auto_columns": null,
            "margin": null,
            "display": null,
            "left": null
          }
        },
        "d505d717e40d49ca9abd63cc2fb569bc": {
          "model_module": "@jupyter-widgets/controls",
          "model_name": "DescriptionStyleModel",
          "model_module_version": "1.5.0",
          "state": {
            "_view_name": "StyleView",
            "_model_name": "DescriptionStyleModel",
            "description_width": "",
            "_view_module": "@jupyter-widgets/base",
            "_model_module_version": "1.5.0",
            "_view_count": null,
            "_view_module_version": "1.2.0",
            "_model_module": "@jupyter-widgets/controls"
          }
        },
        "3450fa31321d4159bc455df030934945": {
          "model_module": "@jupyter-widgets/base",
          "model_name": "LayoutModel",
          "model_module_version": "1.2.0",
          "state": {
            "_view_name": "LayoutView",
            "grid_template_rows": null,
            "right": null,
            "justify_content": null,
            "_view_module": "@jupyter-widgets/base",
            "overflow": null,
            "_model_module_version": "1.2.0",
            "_view_count": null,
            "flex_flow": null,
            "width": null,
            "min_width": null,
            "border": null,
            "align_items": null,
            "bottom": null,
            "_model_module": "@jupyter-widgets/base",
            "top": null,
            "grid_column": null,
            "overflow_y": null,
            "overflow_x": null,
            "grid_auto_flow": null,
            "grid_area": null,
            "grid_template_columns": null,
            "flex": null,
            "_model_name": "LayoutModel",
            "justify_items": null,
            "grid_row": null,
            "max_height": null,
            "align_content": null,
            "visibility": null,
            "align_self": null,
            "height": null,
            "min_height": null,
            "padding": null,
            "grid_auto_rows": null,
            "grid_gap": null,
            "max_width": null,
            "order": null,
            "_view_module_version": "1.2.0",
            "grid_template_areas": null,
            "object_position": null,
            "object_fit": null,
            "grid_auto_columns": null,
            "margin": null,
            "display": null,
            "left": null
          }
        },
        "bb85266a91324a61808db5340da4289c": {
          "model_module": "@jupyter-widgets/controls",
          "model_name": "HBoxModel",
          "model_module_version": "1.5.0",
          "state": {
            "_view_name": "HBoxView",
            "_dom_classes": [],
            "_model_name": "HBoxModel",
            "_view_module": "@jupyter-widgets/controls",
            "_model_module_version": "1.5.0",
            "_view_count": null,
            "_view_module_version": "1.5.0",
            "box_style": "",
            "layout": "IPY_MODEL_02b0a56cebd543b484dc0bf3933e56cd",
            "_model_module": "@jupyter-widgets/controls",
            "children": [
              "IPY_MODEL_20fde60fc5a14abfabb8c1f1e5736a64",
              "IPY_MODEL_3f0649bc61324236901acceb4b39b8aa",
              "IPY_MODEL_c7a13917b7a5484f8c937d2b0943a163"
            ]
          }
        },
        "02b0a56cebd543b484dc0bf3933e56cd": {
          "model_module": "@jupyter-widgets/base",
          "model_name": "LayoutModel",
          "model_module_version": "1.2.0",
          "state": {
            "_view_name": "LayoutView",
            "grid_template_rows": null,
            "right": null,
            "justify_content": null,
            "_view_module": "@jupyter-widgets/base",
            "overflow": null,
            "_model_module_version": "1.2.0",
            "_view_count": null,
            "flex_flow": null,
            "width": null,
            "min_width": null,
            "border": null,
            "align_items": null,
            "bottom": null,
            "_model_module": "@jupyter-widgets/base",
            "top": null,
            "grid_column": null,
            "overflow_y": null,
            "overflow_x": null,
            "grid_auto_flow": null,
            "grid_area": null,
            "grid_template_columns": null,
            "flex": null,
            "_model_name": "LayoutModel",
            "justify_items": null,
            "grid_row": null,
            "max_height": null,
            "align_content": null,
            "visibility": null,
            "align_self": null,
            "height": null,
            "min_height": null,
            "padding": null,
            "grid_auto_rows": null,
            "grid_gap": null,
            "max_width": null,
            "order": null,
            "_view_module_version": "1.2.0",
            "grid_template_areas": null,
            "object_position": null,
            "object_fit": null,
            "grid_auto_columns": null,
            "margin": null,
            "display": null,
            "left": null
          }
        },
        "20fde60fc5a14abfabb8c1f1e5736a64": {
          "model_module": "@jupyter-widgets/controls",
          "model_name": "HTMLModel",
          "model_module_version": "1.5.0",
          "state": {
            "_view_name": "HTMLView",
            "style": "IPY_MODEL_be5f33621398416e8da09dc66f566a6e",
            "_dom_classes": [],
            "description": "",
            "_model_name": "HTMLModel",
            "placeholder": "​",
            "_view_module": "@jupyter-widgets/controls",
            "_model_module_version": "1.5.0",
            "value": "replaying log with TBR, completed variants :: 100%",
            "_view_count": null,
            "_view_module_version": "1.5.0",
            "description_tooltip": null,
            "_model_module": "@jupyter-widgets/controls",
            "layout": "IPY_MODEL_4cb7dc0f7a074943a61e2673f349eaa1"
          }
        },
        "3f0649bc61324236901acceb4b39b8aa": {
          "model_module": "@jupyter-widgets/controls",
          "model_name": "FloatProgressModel",
          "model_module_version": "1.5.0",
          "state": {
            "_view_name": "ProgressView",
            "style": "IPY_MODEL_a0090cdc401145a3b868430c034be93d",
            "_dom_classes": [],
            "description": "",
            "_model_name": "FloatProgressModel",
            "bar_style": "success",
            "max": 3433,
            "_view_module": "@jupyter-widgets/controls",
            "_model_module_version": "1.5.0",
            "value": 3433,
            "_view_count": null,
            "_view_module_version": "1.5.0",
            "orientation": "horizontal",
            "min": 0,
            "description_tooltip": null,
            "_model_module": "@jupyter-widgets/controls",
            "layout": "IPY_MODEL_4d64812167414b628f0c25f6130262db"
          }
        },
        "c7a13917b7a5484f8c937d2b0943a163": {
          "model_module": "@jupyter-widgets/controls",
          "model_name": "HTMLModel",
          "model_module_version": "1.5.0",
          "state": {
            "_view_name": "HTMLView",
            "style": "IPY_MODEL_f77d352d9ba84df58c2984c71c400c6b",
            "_dom_classes": [],
            "description": "",
            "_model_name": "HTMLModel",
            "placeholder": "​",
            "_view_module": "@jupyter-widgets/controls",
            "_model_module_version": "1.5.0",
            "value": " 3433/3433 [00:05&lt;00:00, 517.21it/s]",
            "_view_count": null,
            "_view_module_version": "1.5.0",
            "description_tooltip": null,
            "_model_module": "@jupyter-widgets/controls",
            "layout": "IPY_MODEL_35b839912c06446dbcde1059744aa9d9"
          }
        },
        "be5f33621398416e8da09dc66f566a6e": {
          "model_module": "@jupyter-widgets/controls",
          "model_name": "DescriptionStyleModel",
          "model_module_version": "1.5.0",
          "state": {
            "_view_name": "StyleView",
            "_model_name": "DescriptionStyleModel",
            "description_width": "",
            "_view_module": "@jupyter-widgets/base",
            "_model_module_version": "1.5.0",
            "_view_count": null,
            "_view_module_version": "1.2.0",
            "_model_module": "@jupyter-widgets/controls"
          }
        },
        "4cb7dc0f7a074943a61e2673f349eaa1": {
          "model_module": "@jupyter-widgets/base",
          "model_name": "LayoutModel",
          "model_module_version": "1.2.0",
          "state": {
            "_view_name": "LayoutView",
            "grid_template_rows": null,
            "right": null,
            "justify_content": null,
            "_view_module": "@jupyter-widgets/base",
            "overflow": null,
            "_model_module_version": "1.2.0",
            "_view_count": null,
            "flex_flow": null,
            "width": null,
            "min_width": null,
            "border": null,
            "align_items": null,
            "bottom": null,
            "_model_module": "@jupyter-widgets/base",
            "top": null,
            "grid_column": null,
            "overflow_y": null,
            "overflow_x": null,
            "grid_auto_flow": null,
            "grid_area": null,
            "grid_template_columns": null,
            "flex": null,
            "_model_name": "LayoutModel",
            "justify_items": null,
            "grid_row": null,
            "max_height": null,
            "align_content": null,
            "visibility": null,
            "align_self": null,
            "height": null,
            "min_height": null,
            "padding": null,
            "grid_auto_rows": null,
            "grid_gap": null,
            "max_width": null,
            "order": null,
            "_view_module_version": "1.2.0",
            "grid_template_areas": null,
            "object_position": null,
            "object_fit": null,
            "grid_auto_columns": null,
            "margin": null,
            "display": null,
            "left": null
          }
        },
        "a0090cdc401145a3b868430c034be93d": {
          "model_module": "@jupyter-widgets/controls",
          "model_name": "ProgressStyleModel",
          "model_module_version": "1.5.0",
          "state": {
            "_view_name": "StyleView",
            "_model_name": "ProgressStyleModel",
            "description_width": "",
            "_view_module": "@jupyter-widgets/base",
            "_model_module_version": "1.5.0",
            "_view_count": null,
            "_view_module_version": "1.2.0",
            "bar_color": null,
            "_model_module": "@jupyter-widgets/controls"
          }
        },
        "4d64812167414b628f0c25f6130262db": {
          "model_module": "@jupyter-widgets/base",
          "model_name": "LayoutModel",
          "model_module_version": "1.2.0",
          "state": {
            "_view_name": "LayoutView",
            "grid_template_rows": null,
            "right": null,
            "justify_content": null,
            "_view_module": "@jupyter-widgets/base",
            "overflow": null,
            "_model_module_version": "1.2.0",
            "_view_count": null,
            "flex_flow": null,
            "width": null,
            "min_width": null,
            "border": null,
            "align_items": null,
            "bottom": null,
            "_model_module": "@jupyter-widgets/base",
            "top": null,
            "grid_column": null,
            "overflow_y": null,
            "overflow_x": null,
            "grid_auto_flow": null,
            "grid_area": null,
            "grid_template_columns": null,
            "flex": null,
            "_model_name": "LayoutModel",
            "justify_items": null,
            "grid_row": null,
            "max_height": null,
            "align_content": null,
            "visibility": null,
            "align_self": null,
            "height": null,
            "min_height": null,
            "padding": null,
            "grid_auto_rows": null,
            "grid_gap": null,
            "max_width": null,
            "order": null,
            "_view_module_version": "1.2.0",
            "grid_template_areas": null,
            "object_position": null,
            "object_fit": null,
            "grid_auto_columns": null,
            "margin": null,
            "display": null,
            "left": null
          }
        },
        "f77d352d9ba84df58c2984c71c400c6b": {
          "model_module": "@jupyter-widgets/controls",
          "model_name": "DescriptionStyleModel",
          "model_module_version": "1.5.0",
          "state": {
            "_view_name": "StyleView",
            "_model_name": "DescriptionStyleModel",
            "description_width": "",
            "_view_module": "@jupyter-widgets/base",
            "_model_module_version": "1.5.0",
            "_view_count": null,
            "_view_module_version": "1.2.0",
            "_model_module": "@jupyter-widgets/controls"
          }
        },
        "35b839912c06446dbcde1059744aa9d9": {
          "model_module": "@jupyter-widgets/base",
          "model_name": "LayoutModel",
          "model_module_version": "1.2.0",
          "state": {
            "_view_name": "LayoutView",
            "grid_template_rows": null,
            "right": null,
            "justify_content": null,
            "_view_module": "@jupyter-widgets/base",
            "overflow": null,
            "_model_module_version": "1.2.0",
            "_view_count": null,
            "flex_flow": null,
            "width": null,
            "min_width": null,
            "border": null,
            "align_items": null,
            "bottom": null,
            "_model_module": "@jupyter-widgets/base",
            "top": null,
            "grid_column": null,
            "overflow_y": null,
            "overflow_x": null,
            "grid_auto_flow": null,
            "grid_area": null,
            "grid_template_columns": null,
            "flex": null,
            "_model_name": "LayoutModel",
            "justify_items": null,
            "grid_row": null,
            "max_height": null,
            "align_content": null,
            "visibility": null,
            "align_self": null,
            "height": null,
            "min_height": null,
            "padding": null,
            "grid_auto_rows": null,
            "grid_gap": null,
            "max_width": null,
            "order": null,
            "_view_module_version": "1.2.0",
            "grid_template_areas": null,
            "object_position": null,
            "object_fit": null,
            "grid_auto_columns": null,
            "margin": null,
            "display": null,
            "left": null
          }
        },
        "de059201581c4fea8eb594bb5b7fa442": {
          "model_module": "@jupyter-widgets/controls",
          "model_name": "HBoxModel",
          "model_module_version": "1.5.0",
          "state": {
            "_view_name": "HBoxView",
            "_dom_classes": [],
            "_model_name": "HBoxModel",
            "_view_module": "@jupyter-widgets/controls",
            "_model_module_version": "1.5.0",
            "_view_count": null,
            "_view_module_version": "1.5.0",
            "box_style": "",
            "layout": "IPY_MODEL_71382cc0f2a74b1d871f6f314770de8a",
            "_model_module": "@jupyter-widgets/controls",
            "children": [
              "IPY_MODEL_477eb56c0c5647108f67a46108a2dcff",
              "IPY_MODEL_c0cddd1199d747caa764f7397472fda6",
              "IPY_MODEL_82c4057541ea42f39363c577c3333a47"
            ]
          }
        },
        "71382cc0f2a74b1d871f6f314770de8a": {
          "model_module": "@jupyter-widgets/base",
          "model_name": "LayoutModel",
          "model_module_version": "1.2.0",
          "state": {
            "_view_name": "LayoutView",
            "grid_template_rows": null,
            "right": null,
            "justify_content": null,
            "_view_module": "@jupyter-widgets/base",
            "overflow": null,
            "_model_module_version": "1.2.0",
            "_view_count": null,
            "flex_flow": null,
            "width": null,
            "min_width": null,
            "border": null,
            "align_items": null,
            "bottom": null,
            "_model_module": "@jupyter-widgets/base",
            "top": null,
            "grid_column": null,
            "overflow_y": null,
            "overflow_x": null,
            "grid_auto_flow": null,
            "grid_area": null,
            "grid_template_columns": null,
            "flex": null,
            "_model_name": "LayoutModel",
            "justify_items": null,
            "grid_row": null,
            "max_height": null,
            "align_content": null,
            "visibility": null,
            "align_self": null,
            "height": null,
            "min_height": null,
            "padding": null,
            "grid_auto_rows": null,
            "grid_gap": null,
            "max_width": null,
            "order": null,
            "_view_module_version": "1.2.0",
            "grid_template_areas": null,
            "object_position": null,
            "object_fit": null,
            "grid_auto_columns": null,
            "margin": null,
            "display": null,
            "left": null
          }
        },
        "477eb56c0c5647108f67a46108a2dcff": {
          "model_module": "@jupyter-widgets/controls",
          "model_name": "HTMLModel",
          "model_module_version": "1.5.0",
          "state": {
            "_view_name": "HTMLView",
            "style": "IPY_MODEL_a041cb80a1b74558933f8c57f9b92e66",
            "_dom_classes": [],
            "description": "",
            "_model_name": "HTMLModel",
            "placeholder": "​",
            "_view_module": "@jupyter-widgets/controls",
            "_model_module_version": "1.5.0",
            "value": "replaying log with TBR, completed variants :: 100%",
            "_view_count": null,
            "_view_module_version": "1.5.0",
            "description_tooltip": null,
            "_model_module": "@jupyter-widgets/controls",
            "layout": "IPY_MODEL_3a6b20a0b31a4254a5d211bc2bfdb8be"
          }
        },
        "c0cddd1199d747caa764f7397472fda6": {
          "model_module": "@jupyter-widgets/controls",
          "model_name": "FloatProgressModel",
          "model_module_version": "1.5.0",
          "state": {
            "_view_name": "ProgressView",
            "style": "IPY_MODEL_4dbc806b6d724ea8896a118dbcc0283c",
            "_dom_classes": [],
            "description": "",
            "_model_name": "FloatProgressModel",
            "bar_style": "success",
            "max": 4,
            "_view_module": "@jupyter-widgets/controls",
            "_model_module_version": "1.5.0",
            "value": 4,
            "_view_count": null,
            "_view_module_version": "1.5.0",
            "orientation": "horizontal",
            "min": 0,
            "description_tooltip": null,
            "_model_module": "@jupyter-widgets/controls",
            "layout": "IPY_MODEL_5c9309bf76d24e07a0fe7f4a04c50b5e"
          }
        },
        "82c4057541ea42f39363c577c3333a47": {
          "model_module": "@jupyter-widgets/controls",
          "model_name": "HTMLModel",
          "model_module_version": "1.5.0",
          "state": {
            "_view_name": "HTMLView",
            "style": "IPY_MODEL_dc8323f0c02c4ea6bed96343900b0adc",
            "_dom_classes": [],
            "description": "",
            "_model_name": "HTMLModel",
            "placeholder": "​",
            "_view_module": "@jupyter-widgets/controls",
            "_model_module_version": "1.5.0",
            "value": " 4/4 [00:00&lt;00:00,  4.46it/s]",
            "_view_count": null,
            "_view_module_version": "1.5.0",
            "description_tooltip": null,
            "_model_module": "@jupyter-widgets/controls",
            "layout": "IPY_MODEL_f9ea3a8618cf4f0b81e330891f50eb79"
          }
        },
        "a041cb80a1b74558933f8c57f9b92e66": {
          "model_module": "@jupyter-widgets/controls",
          "model_name": "DescriptionStyleModel",
          "model_module_version": "1.5.0",
          "state": {
            "_view_name": "StyleView",
            "_model_name": "DescriptionStyleModel",
            "description_width": "",
            "_view_module": "@jupyter-widgets/base",
            "_model_module_version": "1.5.0",
            "_view_count": null,
            "_view_module_version": "1.2.0",
            "_model_module": "@jupyter-widgets/controls"
          }
        },
        "3a6b20a0b31a4254a5d211bc2bfdb8be": {
          "model_module": "@jupyter-widgets/base",
          "model_name": "LayoutModel",
          "model_module_version": "1.2.0",
          "state": {
            "_view_name": "LayoutView",
            "grid_template_rows": null,
            "right": null,
            "justify_content": null,
            "_view_module": "@jupyter-widgets/base",
            "overflow": null,
            "_model_module_version": "1.2.0",
            "_view_count": null,
            "flex_flow": null,
            "width": null,
            "min_width": null,
            "border": null,
            "align_items": null,
            "bottom": null,
            "_model_module": "@jupyter-widgets/base",
            "top": null,
            "grid_column": null,
            "overflow_y": null,
            "overflow_x": null,
            "grid_auto_flow": null,
            "grid_area": null,
            "grid_template_columns": null,
            "flex": null,
            "_model_name": "LayoutModel",
            "justify_items": null,
            "grid_row": null,
            "max_height": null,
            "align_content": null,
            "visibility": null,
            "align_self": null,
            "height": null,
            "min_height": null,
            "padding": null,
            "grid_auto_rows": null,
            "grid_gap": null,
            "max_width": null,
            "order": null,
            "_view_module_version": "1.2.0",
            "grid_template_areas": null,
            "object_position": null,
            "object_fit": null,
            "grid_auto_columns": null,
            "margin": null,
            "display": null,
            "left": null
          }
        },
        "4dbc806b6d724ea8896a118dbcc0283c": {
          "model_module": "@jupyter-widgets/controls",
          "model_name": "ProgressStyleModel",
          "model_module_version": "1.5.0",
          "state": {
            "_view_name": "StyleView",
            "_model_name": "ProgressStyleModel",
            "description_width": "",
            "_view_module": "@jupyter-widgets/base",
            "_model_module_version": "1.5.0",
            "_view_count": null,
            "_view_module_version": "1.2.0",
            "bar_color": null,
            "_model_module": "@jupyter-widgets/controls"
          }
        },
        "5c9309bf76d24e07a0fe7f4a04c50b5e": {
          "model_module": "@jupyter-widgets/base",
          "model_name": "LayoutModel",
          "model_module_version": "1.2.0",
          "state": {
            "_view_name": "LayoutView",
            "grid_template_rows": null,
            "right": null,
            "justify_content": null,
            "_view_module": "@jupyter-widgets/base",
            "overflow": null,
            "_model_module_version": "1.2.0",
            "_view_count": null,
            "flex_flow": null,
            "width": null,
            "min_width": null,
            "border": null,
            "align_items": null,
            "bottom": null,
            "_model_module": "@jupyter-widgets/base",
            "top": null,
            "grid_column": null,
            "overflow_y": null,
            "overflow_x": null,
            "grid_auto_flow": null,
            "grid_area": null,
            "grid_template_columns": null,
            "flex": null,
            "_model_name": "LayoutModel",
            "justify_items": null,
            "grid_row": null,
            "max_height": null,
            "align_content": null,
            "visibility": null,
            "align_self": null,
            "height": null,
            "min_height": null,
            "padding": null,
            "grid_auto_rows": null,
            "grid_gap": null,
            "max_width": null,
            "order": null,
            "_view_module_version": "1.2.0",
            "grid_template_areas": null,
            "object_position": null,
            "object_fit": null,
            "grid_auto_columns": null,
            "margin": null,
            "display": null,
            "left": null
          }
        },
        "dc8323f0c02c4ea6bed96343900b0adc": {
          "model_module": "@jupyter-widgets/controls",
          "model_name": "DescriptionStyleModel",
          "model_module_version": "1.5.0",
          "state": {
            "_view_name": "StyleView",
            "_model_name": "DescriptionStyleModel",
            "description_width": "",
            "_view_module": "@jupyter-widgets/base",
            "_model_module_version": "1.5.0",
            "_view_count": null,
            "_view_module_version": "1.2.0",
            "_model_module": "@jupyter-widgets/controls"
          }
        },
        "f9ea3a8618cf4f0b81e330891f50eb79": {
          "model_module": "@jupyter-widgets/base",
          "model_name": "LayoutModel",
          "model_module_version": "1.2.0",
          "state": {
            "_view_name": "LayoutView",
            "grid_template_rows": null,
            "right": null,
            "justify_content": null,
            "_view_module": "@jupyter-widgets/base",
            "overflow": null,
            "_model_module_version": "1.2.0",
            "_view_count": null,
            "flex_flow": null,
            "width": null,
            "min_width": null,
            "border": null,
            "align_items": null,
            "bottom": null,
            "_model_module": "@jupyter-widgets/base",
            "top": null,
            "grid_column": null,
            "overflow_y": null,
            "overflow_x": null,
            "grid_auto_flow": null,
            "grid_area": null,
            "grid_template_columns": null,
            "flex": null,
            "_model_name": "LayoutModel",
            "justify_items": null,
            "grid_row": null,
            "max_height": null,
            "align_content": null,
            "visibility": null,
            "align_self": null,
            "height": null,
            "min_height": null,
            "padding": null,
            "grid_auto_rows": null,
            "grid_gap": null,
            "max_width": null,
            "order": null,
            "_view_module_version": "1.2.0",
            "grid_template_areas": null,
            "object_position": null,
            "object_fit": null,
            "grid_auto_columns": null,
            "margin": null,
            "display": null,
            "left": null
          }
        },
        "e5fd816154754cf9a3ea3b6c6f05faab": {
          "model_module": "@jupyter-widgets/controls",
          "model_name": "HBoxModel",
          "model_module_version": "1.5.0",
          "state": {
            "_view_name": "HBoxView",
            "_dom_classes": [],
            "_model_name": "HBoxModel",
            "_view_module": "@jupyter-widgets/controls",
            "_model_module_version": "1.5.0",
            "_view_count": null,
            "_view_module_version": "1.5.0",
            "box_style": "",
            "layout": "IPY_MODEL_f85dad5b563d451799f7e5b4df3bf928",
            "_model_module": "@jupyter-widgets/controls",
            "children": [
              "IPY_MODEL_626f2864af4f4e08b1a6d17f222a1b91",
              "IPY_MODEL_39e7109af0054ccda4c42073231bc055",
              "IPY_MODEL_7354e873795c42fc8ab04cc169bb7a9c"
            ]
          }
        },
        "f85dad5b563d451799f7e5b4df3bf928": {
          "model_module": "@jupyter-widgets/base",
          "model_name": "LayoutModel",
          "model_module_version": "1.2.0",
          "state": {
            "_view_name": "LayoutView",
            "grid_template_rows": null,
            "right": null,
            "justify_content": null,
            "_view_module": "@jupyter-widgets/base",
            "overflow": null,
            "_model_module_version": "1.2.0",
            "_view_count": null,
            "flex_flow": null,
            "width": null,
            "min_width": null,
            "border": null,
            "align_items": null,
            "bottom": null,
            "_model_module": "@jupyter-widgets/base",
            "top": null,
            "grid_column": null,
            "overflow_y": null,
            "overflow_x": null,
            "grid_auto_flow": null,
            "grid_area": null,
            "grid_template_columns": null,
            "flex": null,
            "_model_name": "LayoutModel",
            "justify_items": null,
            "grid_row": null,
            "max_height": null,
            "align_content": null,
            "visibility": null,
            "align_self": null,
            "height": null,
            "min_height": null,
            "padding": null,
            "grid_auto_rows": null,
            "grid_gap": null,
            "max_width": null,
            "order": null,
            "_view_module_version": "1.2.0",
            "grid_template_areas": null,
            "object_position": null,
            "object_fit": null,
            "grid_auto_columns": null,
            "margin": null,
            "display": null,
            "left": null
          }
        },
        "626f2864af4f4e08b1a6d17f222a1b91": {
          "model_module": "@jupyter-widgets/controls",
          "model_name": "HTMLModel",
          "model_module_version": "1.5.0",
          "state": {
            "_view_name": "HTMLView",
            "style": "IPY_MODEL_646a224fad87497eb0b9b5a2b66ce185",
            "_dom_classes": [],
            "description": "",
            "_model_name": "HTMLModel",
            "placeholder": "​",
            "_view_module": "@jupyter-widgets/controls",
            "_model_module_version": "1.5.0",
            "value": "replaying log with TBR, completed variants :: 100%",
            "_view_count": null,
            "_view_module_version": "1.5.0",
            "description_tooltip": null,
            "_model_module": "@jupyter-widgets/controls",
            "layout": "IPY_MODEL_860932f7d67f494e964b2420d53cc6e0"
          }
        },
        "39e7109af0054ccda4c42073231bc055": {
          "model_module": "@jupyter-widgets/controls",
          "model_name": "FloatProgressModel",
          "model_module_version": "1.5.0",
          "state": {
            "_view_name": "ProgressView",
            "style": "IPY_MODEL_71e972bb72a54466a14a9dc8b25cd3ff",
            "_dom_classes": [],
            "description": "",
            "_model_name": "FloatProgressModel",
            "bar_style": "success",
            "max": 11,
            "_view_module": "@jupyter-widgets/controls",
            "_model_module_version": "1.5.0",
            "value": 11,
            "_view_count": null,
            "_view_module_version": "1.5.0",
            "orientation": "horizontal",
            "min": 0,
            "description_tooltip": null,
            "_model_module": "@jupyter-widgets/controls",
            "layout": "IPY_MODEL_7343186a2c7e408d98b0dc299291cb3b"
          }
        },
        "7354e873795c42fc8ab04cc169bb7a9c": {
          "model_module": "@jupyter-widgets/controls",
          "model_name": "HTMLModel",
          "model_module_version": "1.5.0",
          "state": {
            "_view_name": "HTMLView",
            "style": "IPY_MODEL_7872ff39590f4b9c9a26a41dc0481987",
            "_dom_classes": [],
            "description": "",
            "_model_name": "HTMLModel",
            "placeholder": "​",
            "_view_module": "@jupyter-widgets/controls",
            "_model_module_version": "1.5.0",
            "value": " 11/11 [00:00&lt;00:00, 243.84it/s]",
            "_view_count": null,
            "_view_module_version": "1.5.0",
            "description_tooltip": null,
            "_model_module": "@jupyter-widgets/controls",
            "layout": "IPY_MODEL_68de141a658b4041a20b10c19c5066f8"
          }
        },
        "646a224fad87497eb0b9b5a2b66ce185": {
          "model_module": "@jupyter-widgets/controls",
          "model_name": "DescriptionStyleModel",
          "model_module_version": "1.5.0",
          "state": {
            "_view_name": "StyleView",
            "_model_name": "DescriptionStyleModel",
            "description_width": "",
            "_view_module": "@jupyter-widgets/base",
            "_model_module_version": "1.5.0",
            "_view_count": null,
            "_view_module_version": "1.2.0",
            "_model_module": "@jupyter-widgets/controls"
          }
        },
        "860932f7d67f494e964b2420d53cc6e0": {
          "model_module": "@jupyter-widgets/base",
          "model_name": "LayoutModel",
          "model_module_version": "1.2.0",
          "state": {
            "_view_name": "LayoutView",
            "grid_template_rows": null,
            "right": null,
            "justify_content": null,
            "_view_module": "@jupyter-widgets/base",
            "overflow": null,
            "_model_module_version": "1.2.0",
            "_view_count": null,
            "flex_flow": null,
            "width": null,
            "min_width": null,
            "border": null,
            "align_items": null,
            "bottom": null,
            "_model_module": "@jupyter-widgets/base",
            "top": null,
            "grid_column": null,
            "overflow_y": null,
            "overflow_x": null,
            "grid_auto_flow": null,
            "grid_area": null,
            "grid_template_columns": null,
            "flex": null,
            "_model_name": "LayoutModel",
            "justify_items": null,
            "grid_row": null,
            "max_height": null,
            "align_content": null,
            "visibility": null,
            "align_self": null,
            "height": null,
            "min_height": null,
            "padding": null,
            "grid_auto_rows": null,
            "grid_gap": null,
            "max_width": null,
            "order": null,
            "_view_module_version": "1.2.0",
            "grid_template_areas": null,
            "object_position": null,
            "object_fit": null,
            "grid_auto_columns": null,
            "margin": null,
            "display": null,
            "left": null
          }
        },
        "71e972bb72a54466a14a9dc8b25cd3ff": {
          "model_module": "@jupyter-widgets/controls",
          "model_name": "ProgressStyleModel",
          "model_module_version": "1.5.0",
          "state": {
            "_view_name": "StyleView",
            "_model_name": "ProgressStyleModel",
            "description_width": "",
            "_view_module": "@jupyter-widgets/base",
            "_model_module_version": "1.5.0",
            "_view_count": null,
            "_view_module_version": "1.2.0",
            "bar_color": null,
            "_model_module": "@jupyter-widgets/controls"
          }
        },
        "7343186a2c7e408d98b0dc299291cb3b": {
          "model_module": "@jupyter-widgets/base",
          "model_name": "LayoutModel",
          "model_module_version": "1.2.0",
          "state": {
            "_view_name": "LayoutView",
            "grid_template_rows": null,
            "right": null,
            "justify_content": null,
            "_view_module": "@jupyter-widgets/base",
            "overflow": null,
            "_model_module_version": "1.2.0",
            "_view_count": null,
            "flex_flow": null,
            "width": null,
            "min_width": null,
            "border": null,
            "align_items": null,
            "bottom": null,
            "_model_module": "@jupyter-widgets/base",
            "top": null,
            "grid_column": null,
            "overflow_y": null,
            "overflow_x": null,
            "grid_auto_flow": null,
            "grid_area": null,
            "grid_template_columns": null,
            "flex": null,
            "_model_name": "LayoutModel",
            "justify_items": null,
            "grid_row": null,
            "max_height": null,
            "align_content": null,
            "visibility": null,
            "align_self": null,
            "height": null,
            "min_height": null,
            "padding": null,
            "grid_auto_rows": null,
            "grid_gap": null,
            "max_width": null,
            "order": null,
            "_view_module_version": "1.2.0",
            "grid_template_areas": null,
            "object_position": null,
            "object_fit": null,
            "grid_auto_columns": null,
            "margin": null,
            "display": null,
            "left": null
          }
        },
        "7872ff39590f4b9c9a26a41dc0481987": {
          "model_module": "@jupyter-widgets/controls",
          "model_name": "DescriptionStyleModel",
          "model_module_version": "1.5.0",
          "state": {
            "_view_name": "StyleView",
            "_model_name": "DescriptionStyleModel",
            "description_width": "",
            "_view_module": "@jupyter-widgets/base",
            "_model_module_version": "1.5.0",
            "_view_count": null,
            "_view_module_version": "1.2.0",
            "_model_module": "@jupyter-widgets/controls"
          }
        },
        "68de141a658b4041a20b10c19c5066f8": {
          "model_module": "@jupyter-widgets/base",
          "model_name": "LayoutModel",
          "model_module_version": "1.2.0",
          "state": {
            "_view_name": "LayoutView",
            "grid_template_rows": null,
            "right": null,
            "justify_content": null,
            "_view_module": "@jupyter-widgets/base",
            "overflow": null,
            "_model_module_version": "1.2.0",
            "_view_count": null,
            "flex_flow": null,
            "width": null,
            "min_width": null,
            "border": null,
            "align_items": null,
            "bottom": null,
            "_model_module": "@jupyter-widgets/base",
            "top": null,
            "grid_column": null,
            "overflow_y": null,
            "overflow_x": null,
            "grid_auto_flow": null,
            "grid_area": null,
            "grid_template_columns": null,
            "flex": null,
            "_model_name": "LayoutModel",
            "justify_items": null,
            "grid_row": null,
            "max_height": null,
            "align_content": null,
            "visibility": null,
            "align_self": null,
            "height": null,
            "min_height": null,
            "padding": null,
            "grid_auto_rows": null,
            "grid_gap": null,
            "max_width": null,
            "order": null,
            "_view_module_version": "1.2.0",
            "grid_template_areas": null,
            "object_position": null,
            "object_fit": null,
            "grid_auto_columns": null,
            "margin": null,
            "display": null,
            "left": null
          }
        },
        "c6878e6364cb4161978b8e49900aa51c": {
          "model_module": "@jupyter-widgets/controls",
          "model_name": "HBoxModel",
          "model_module_version": "1.5.0",
          "state": {
            "_view_name": "HBoxView",
            "_dom_classes": [],
            "_model_name": "HBoxModel",
            "_view_module": "@jupyter-widgets/controls",
            "_model_module_version": "1.5.0",
            "_view_count": null,
            "_view_module_version": "1.5.0",
            "box_style": "",
            "layout": "IPY_MODEL_a66f30e38f3b4f60adaf0271cc8dde5f",
            "_model_module": "@jupyter-widgets/controls",
            "children": [
              "IPY_MODEL_dd94ebb44a684745b746102454f251d9",
              "IPY_MODEL_13b5e63127ca49f989996dd86cd9e7d6",
              "IPY_MODEL_8d2e2fe694db4537822eb669795358a9"
            ]
          }
        },
        "a66f30e38f3b4f60adaf0271cc8dde5f": {
          "model_module": "@jupyter-widgets/base",
          "model_name": "LayoutModel",
          "model_module_version": "1.2.0",
          "state": {
            "_view_name": "LayoutView",
            "grid_template_rows": null,
            "right": null,
            "justify_content": null,
            "_view_module": "@jupyter-widgets/base",
            "overflow": null,
            "_model_module_version": "1.2.0",
            "_view_count": null,
            "flex_flow": null,
            "width": null,
            "min_width": null,
            "border": null,
            "align_items": null,
            "bottom": null,
            "_model_module": "@jupyter-widgets/base",
            "top": null,
            "grid_column": null,
            "overflow_y": null,
            "overflow_x": null,
            "grid_auto_flow": null,
            "grid_area": null,
            "grid_template_columns": null,
            "flex": null,
            "_model_name": "LayoutModel",
            "justify_items": null,
            "grid_row": null,
            "max_height": null,
            "align_content": null,
            "visibility": null,
            "align_self": null,
            "height": null,
            "min_height": null,
            "padding": null,
            "grid_auto_rows": null,
            "grid_gap": null,
            "max_width": null,
            "order": null,
            "_view_module_version": "1.2.0",
            "grid_template_areas": null,
            "object_position": null,
            "object_fit": null,
            "grid_auto_columns": null,
            "margin": null,
            "display": null,
            "left": null
          }
        },
        "dd94ebb44a684745b746102454f251d9": {
          "model_module": "@jupyter-widgets/controls",
          "model_name": "HTMLModel",
          "model_module_version": "1.5.0",
          "state": {
            "_view_name": "HTMLView",
            "style": "IPY_MODEL_7c5be9ed79d84805af7a0e8717f9db9b",
            "_dom_classes": [],
            "description": "",
            "_model_name": "HTMLModel",
            "placeholder": "​",
            "_view_module": "@jupyter-widgets/controls",
            "_model_module_version": "1.5.0",
            "value": "replaying log with TBR, completed variants :: 100%",
            "_view_count": null,
            "_view_module_version": "1.5.0",
            "description_tooltip": null,
            "_model_module": "@jupyter-widgets/controls",
            "layout": "IPY_MODEL_08b2289ae5124b9991ad1ccb66f75457"
          }
        },
        "13b5e63127ca49f989996dd86cd9e7d6": {
          "model_module": "@jupyter-widgets/controls",
          "model_name": "FloatProgressModel",
          "model_module_version": "1.5.0",
          "state": {
            "_view_name": "ProgressView",
            "style": "IPY_MODEL_ef603694e86f46f490acbac0e81ccc90",
            "_dom_classes": [],
            "description": "",
            "_model_name": "FloatProgressModel",
            "bar_style": "success",
            "max": 4,
            "_view_module": "@jupyter-widgets/controls",
            "_model_module_version": "1.5.0",
            "value": 4,
            "_view_count": null,
            "_view_module_version": "1.5.0",
            "orientation": "horizontal",
            "min": 0,
            "description_tooltip": null,
            "_model_module": "@jupyter-widgets/controls",
            "layout": "IPY_MODEL_6fc6329e26074684802961af6abd2811"
          }
        },
        "8d2e2fe694db4537822eb669795358a9": {
          "model_module": "@jupyter-widgets/controls",
          "model_name": "HTMLModel",
          "model_module_version": "1.5.0",
          "state": {
            "_view_name": "HTMLView",
            "style": "IPY_MODEL_99391b247d8340f59f06e9eea9e3ebcf",
            "_dom_classes": [],
            "description": "",
            "_model_name": "HTMLModel",
            "placeholder": "​",
            "_view_module": "@jupyter-widgets/controls",
            "_model_module_version": "1.5.0",
            "value": " 4/4 [00:00&lt;00:00,  4.43it/s]",
            "_view_count": null,
            "_view_module_version": "1.5.0",
            "description_tooltip": null,
            "_model_module": "@jupyter-widgets/controls",
            "layout": "IPY_MODEL_e68695e6edc7439c89e425ab2095a431"
          }
        },
        "7c5be9ed79d84805af7a0e8717f9db9b": {
          "model_module": "@jupyter-widgets/controls",
          "model_name": "DescriptionStyleModel",
          "model_module_version": "1.5.0",
          "state": {
            "_view_name": "StyleView",
            "_model_name": "DescriptionStyleModel",
            "description_width": "",
            "_view_module": "@jupyter-widgets/base",
            "_model_module_version": "1.5.0",
            "_view_count": null,
            "_view_module_version": "1.2.0",
            "_model_module": "@jupyter-widgets/controls"
          }
        },
        "08b2289ae5124b9991ad1ccb66f75457": {
          "model_module": "@jupyter-widgets/base",
          "model_name": "LayoutModel",
          "model_module_version": "1.2.0",
          "state": {
            "_view_name": "LayoutView",
            "grid_template_rows": null,
            "right": null,
            "justify_content": null,
            "_view_module": "@jupyter-widgets/base",
            "overflow": null,
            "_model_module_version": "1.2.0",
            "_view_count": null,
            "flex_flow": null,
            "width": null,
            "min_width": null,
            "border": null,
            "align_items": null,
            "bottom": null,
            "_model_module": "@jupyter-widgets/base",
            "top": null,
            "grid_column": null,
            "overflow_y": null,
            "overflow_x": null,
            "grid_auto_flow": null,
            "grid_area": null,
            "grid_template_columns": null,
            "flex": null,
            "_model_name": "LayoutModel",
            "justify_items": null,
            "grid_row": null,
            "max_height": null,
            "align_content": null,
            "visibility": null,
            "align_self": null,
            "height": null,
            "min_height": null,
            "padding": null,
            "grid_auto_rows": null,
            "grid_gap": null,
            "max_width": null,
            "order": null,
            "_view_module_version": "1.2.0",
            "grid_template_areas": null,
            "object_position": null,
            "object_fit": null,
            "grid_auto_columns": null,
            "margin": null,
            "display": null,
            "left": null
          }
        },
        "ef603694e86f46f490acbac0e81ccc90": {
          "model_module": "@jupyter-widgets/controls",
          "model_name": "ProgressStyleModel",
          "model_module_version": "1.5.0",
          "state": {
            "_view_name": "StyleView",
            "_model_name": "ProgressStyleModel",
            "description_width": "",
            "_view_module": "@jupyter-widgets/base",
            "_model_module_version": "1.5.0",
            "_view_count": null,
            "_view_module_version": "1.2.0",
            "bar_color": null,
            "_model_module": "@jupyter-widgets/controls"
          }
        },
        "6fc6329e26074684802961af6abd2811": {
          "model_module": "@jupyter-widgets/base",
          "model_name": "LayoutModel",
          "model_module_version": "1.2.0",
          "state": {
            "_view_name": "LayoutView",
            "grid_template_rows": null,
            "right": null,
            "justify_content": null,
            "_view_module": "@jupyter-widgets/base",
            "overflow": null,
            "_model_module_version": "1.2.0",
            "_view_count": null,
            "flex_flow": null,
            "width": null,
            "min_width": null,
            "border": null,
            "align_items": null,
            "bottom": null,
            "_model_module": "@jupyter-widgets/base",
            "top": null,
            "grid_column": null,
            "overflow_y": null,
            "overflow_x": null,
            "grid_auto_flow": null,
            "grid_area": null,
            "grid_template_columns": null,
            "flex": null,
            "_model_name": "LayoutModel",
            "justify_items": null,
            "grid_row": null,
            "max_height": null,
            "align_content": null,
            "visibility": null,
            "align_self": null,
            "height": null,
            "min_height": null,
            "padding": null,
            "grid_auto_rows": null,
            "grid_gap": null,
            "max_width": null,
            "order": null,
            "_view_module_version": "1.2.0",
            "grid_template_areas": null,
            "object_position": null,
            "object_fit": null,
            "grid_auto_columns": null,
            "margin": null,
            "display": null,
            "left": null
          }
        },
        "99391b247d8340f59f06e9eea9e3ebcf": {
          "model_module": "@jupyter-widgets/controls",
          "model_name": "DescriptionStyleModel",
          "model_module_version": "1.5.0",
          "state": {
            "_view_name": "StyleView",
            "_model_name": "DescriptionStyleModel",
            "description_width": "",
            "_view_module": "@jupyter-widgets/base",
            "_model_module_version": "1.5.0",
            "_view_count": null,
            "_view_module_version": "1.2.0",
            "_model_module": "@jupyter-widgets/controls"
          }
        },
        "e68695e6edc7439c89e425ab2095a431": {
          "model_module": "@jupyter-widgets/base",
          "model_name": "LayoutModel",
          "model_module_version": "1.2.0",
          "state": {
            "_view_name": "LayoutView",
            "grid_template_rows": null,
            "right": null,
            "justify_content": null,
            "_view_module": "@jupyter-widgets/base",
            "overflow": null,
            "_model_module_version": "1.2.0",
            "_view_count": null,
            "flex_flow": null,
            "width": null,
            "min_width": null,
            "border": null,
            "align_items": null,
            "bottom": null,
            "_model_module": "@jupyter-widgets/base",
            "top": null,
            "grid_column": null,
            "overflow_y": null,
            "overflow_x": null,
            "grid_auto_flow": null,
            "grid_area": null,
            "grid_template_columns": null,
            "flex": null,
            "_model_name": "LayoutModel",
            "justify_items": null,
            "grid_row": null,
            "max_height": null,
            "align_content": null,
            "visibility": null,
            "align_self": null,
            "height": null,
            "min_height": null,
            "padding": null,
            "grid_auto_rows": null,
            "grid_gap": null,
            "max_width": null,
            "order": null,
            "_view_module_version": "1.2.0",
            "grid_template_areas": null,
            "object_position": null,
            "object_fit": null,
            "grid_auto_columns": null,
            "margin": null,
            "display": null,
            "left": null
          }
        },
        "862007f1e560408cb92f336a7243515b": {
          "model_module": "@jupyter-widgets/controls",
          "model_name": "HBoxModel",
          "model_module_version": "1.5.0",
          "state": {
            "_view_name": "HBoxView",
            "_dom_classes": [],
            "_model_name": "HBoxModel",
            "_view_module": "@jupyter-widgets/controls",
            "_model_module_version": "1.5.0",
            "_view_count": null,
            "_view_module_version": "1.5.0",
            "box_style": "",
            "layout": "IPY_MODEL_6b3b8af71a424c128316d4b02305a99b",
            "_model_module": "@jupyter-widgets/controls",
            "children": [
              "IPY_MODEL_974f2a5582e64aedb926d3fd8da97913",
              "IPY_MODEL_7660de19b242447e8dc1f81092af99e9",
              "IPY_MODEL_146a53aaee8a4128a2bbd6a37b27d369"
            ]
          }
        },
        "6b3b8af71a424c128316d4b02305a99b": {
          "model_module": "@jupyter-widgets/base",
          "model_name": "LayoutModel",
          "model_module_version": "1.2.0",
          "state": {
            "_view_name": "LayoutView",
            "grid_template_rows": null,
            "right": null,
            "justify_content": null,
            "_view_module": "@jupyter-widgets/base",
            "overflow": null,
            "_model_module_version": "1.2.0",
            "_view_count": null,
            "flex_flow": null,
            "width": null,
            "min_width": null,
            "border": null,
            "align_items": null,
            "bottom": null,
            "_model_module": "@jupyter-widgets/base",
            "top": null,
            "grid_column": null,
            "overflow_y": null,
            "overflow_x": null,
            "grid_auto_flow": null,
            "grid_area": null,
            "grid_template_columns": null,
            "flex": null,
            "_model_name": "LayoutModel",
            "justify_items": null,
            "grid_row": null,
            "max_height": null,
            "align_content": null,
            "visibility": null,
            "align_self": null,
            "height": null,
            "min_height": null,
            "padding": null,
            "grid_auto_rows": null,
            "grid_gap": null,
            "max_width": null,
            "order": null,
            "_view_module_version": "1.2.0",
            "grid_template_areas": null,
            "object_position": null,
            "object_fit": null,
            "grid_auto_columns": null,
            "margin": null,
            "display": null,
            "left": null
          }
        },
        "974f2a5582e64aedb926d3fd8da97913": {
          "model_module": "@jupyter-widgets/controls",
          "model_name": "HTMLModel",
          "model_module_version": "1.5.0",
          "state": {
            "_view_name": "HTMLView",
            "style": "IPY_MODEL_765c07b3898b4b97a1af505f7a30f190",
            "_dom_classes": [],
            "description": "",
            "_model_name": "HTMLModel",
            "placeholder": "​",
            "_view_module": "@jupyter-widgets/controls",
            "_model_module_version": "1.5.0",
            "value": "replaying log with TBR, completed variants :: 100%",
            "_view_count": null,
            "_view_module_version": "1.5.0",
            "description_tooltip": null,
            "_model_module": "@jupyter-widgets/controls",
            "layout": "IPY_MODEL_1a34ebc9ecc748cb82fdac492aade34d"
          }
        },
        "7660de19b242447e8dc1f81092af99e9": {
          "model_module": "@jupyter-widgets/controls",
          "model_name": "FloatProgressModel",
          "model_module_version": "1.5.0",
          "state": {
            "_view_name": "ProgressView",
            "style": "IPY_MODEL_a58a553128874f20a1d1a03a53d436e5",
            "_dom_classes": [],
            "description": "",
            "_model_name": "FloatProgressModel",
            "bar_style": "success",
            "max": 4,
            "_view_module": "@jupyter-widgets/controls",
            "_model_module_version": "1.5.0",
            "value": 4,
            "_view_count": null,
            "_view_module_version": "1.5.0",
            "orientation": "horizontal",
            "min": 0,
            "description_tooltip": null,
            "_model_module": "@jupyter-widgets/controls",
            "layout": "IPY_MODEL_43bc44087bbe429984c78a333d3c1a18"
          }
        },
        "146a53aaee8a4128a2bbd6a37b27d369": {
          "model_module": "@jupyter-widgets/controls",
          "model_name": "HTMLModel",
          "model_module_version": "1.5.0",
          "state": {
            "_view_name": "HTMLView",
            "style": "IPY_MODEL_795bfec13e044676ba88beaf54b20bef",
            "_dom_classes": [],
            "description": "",
            "_model_name": "HTMLModel",
            "placeholder": "​",
            "_view_module": "@jupyter-widgets/controls",
            "_model_module_version": "1.5.0",
            "value": " 4/4 [00:00&lt;00:00,  4.42it/s]",
            "_view_count": null,
            "_view_module_version": "1.5.0",
            "description_tooltip": null,
            "_model_module": "@jupyter-widgets/controls",
            "layout": "IPY_MODEL_a20fde615a3b43909e30906c3647f715"
          }
        },
        "765c07b3898b4b97a1af505f7a30f190": {
          "model_module": "@jupyter-widgets/controls",
          "model_name": "DescriptionStyleModel",
          "model_module_version": "1.5.0",
          "state": {
            "_view_name": "StyleView",
            "_model_name": "DescriptionStyleModel",
            "description_width": "",
            "_view_module": "@jupyter-widgets/base",
            "_model_module_version": "1.5.0",
            "_view_count": null,
            "_view_module_version": "1.2.0",
            "_model_module": "@jupyter-widgets/controls"
          }
        },
        "1a34ebc9ecc748cb82fdac492aade34d": {
          "model_module": "@jupyter-widgets/base",
          "model_name": "LayoutModel",
          "model_module_version": "1.2.0",
          "state": {
            "_view_name": "LayoutView",
            "grid_template_rows": null,
            "right": null,
            "justify_content": null,
            "_view_module": "@jupyter-widgets/base",
            "overflow": null,
            "_model_module_version": "1.2.0",
            "_view_count": null,
            "flex_flow": null,
            "width": null,
            "min_width": null,
            "border": null,
            "align_items": null,
            "bottom": null,
            "_model_module": "@jupyter-widgets/base",
            "top": null,
            "grid_column": null,
            "overflow_y": null,
            "overflow_x": null,
            "grid_auto_flow": null,
            "grid_area": null,
            "grid_template_columns": null,
            "flex": null,
            "_model_name": "LayoutModel",
            "justify_items": null,
            "grid_row": null,
            "max_height": null,
            "align_content": null,
            "visibility": null,
            "align_self": null,
            "height": null,
            "min_height": null,
            "padding": null,
            "grid_auto_rows": null,
            "grid_gap": null,
            "max_width": null,
            "order": null,
            "_view_module_version": "1.2.0",
            "grid_template_areas": null,
            "object_position": null,
            "object_fit": null,
            "grid_auto_columns": null,
            "margin": null,
            "display": null,
            "left": null
          }
        },
        "a58a553128874f20a1d1a03a53d436e5": {
          "model_module": "@jupyter-widgets/controls",
          "model_name": "ProgressStyleModel",
          "model_module_version": "1.5.0",
          "state": {
            "_view_name": "StyleView",
            "_model_name": "ProgressStyleModel",
            "description_width": "",
            "_view_module": "@jupyter-widgets/base",
            "_model_module_version": "1.5.0",
            "_view_count": null,
            "_view_module_version": "1.2.0",
            "bar_color": null,
            "_model_module": "@jupyter-widgets/controls"
          }
        },
        "43bc44087bbe429984c78a333d3c1a18": {
          "model_module": "@jupyter-widgets/base",
          "model_name": "LayoutModel",
          "model_module_version": "1.2.0",
          "state": {
            "_view_name": "LayoutView",
            "grid_template_rows": null,
            "right": null,
            "justify_content": null,
            "_view_module": "@jupyter-widgets/base",
            "overflow": null,
            "_model_module_version": "1.2.0",
            "_view_count": null,
            "flex_flow": null,
            "width": null,
            "min_width": null,
            "border": null,
            "align_items": null,
            "bottom": null,
            "_model_module": "@jupyter-widgets/base",
            "top": null,
            "grid_column": null,
            "overflow_y": null,
            "overflow_x": null,
            "grid_auto_flow": null,
            "grid_area": null,
            "grid_template_columns": null,
            "flex": null,
            "_model_name": "LayoutModel",
            "justify_items": null,
            "grid_row": null,
            "max_height": null,
            "align_content": null,
            "visibility": null,
            "align_self": null,
            "height": null,
            "min_height": null,
            "padding": null,
            "grid_auto_rows": null,
            "grid_gap": null,
            "max_width": null,
            "order": null,
            "_view_module_version": "1.2.0",
            "grid_template_areas": null,
            "object_position": null,
            "object_fit": null,
            "grid_auto_columns": null,
            "margin": null,
            "display": null,
            "left": null
          }
        },
        "795bfec13e044676ba88beaf54b20bef": {
          "model_module": "@jupyter-widgets/controls",
          "model_name": "DescriptionStyleModel",
          "model_module_version": "1.5.0",
          "state": {
            "_view_name": "StyleView",
            "_model_name": "DescriptionStyleModel",
            "description_width": "",
            "_view_module": "@jupyter-widgets/base",
            "_model_module_version": "1.5.0",
            "_view_count": null,
            "_view_module_version": "1.2.0",
            "_model_module": "@jupyter-widgets/controls"
          }
        },
        "a20fde615a3b43909e30906c3647f715": {
          "model_module": "@jupyter-widgets/base",
          "model_name": "LayoutModel",
          "model_module_version": "1.2.0",
          "state": {
            "_view_name": "LayoutView",
            "grid_template_rows": null,
            "right": null,
            "justify_content": null,
            "_view_module": "@jupyter-widgets/base",
            "overflow": null,
            "_model_module_version": "1.2.0",
            "_view_count": null,
            "flex_flow": null,
            "width": null,
            "min_width": null,
            "border": null,
            "align_items": null,
            "bottom": null,
            "_model_module": "@jupyter-widgets/base",
            "top": null,
            "grid_column": null,
            "overflow_y": null,
            "overflow_x": null,
            "grid_auto_flow": null,
            "grid_area": null,
            "grid_template_columns": null,
            "flex": null,
            "_model_name": "LayoutModel",
            "justify_items": null,
            "grid_row": null,
            "max_height": null,
            "align_content": null,
            "visibility": null,
            "align_self": null,
            "height": null,
            "min_height": null,
            "padding": null,
            "grid_auto_rows": null,
            "grid_gap": null,
            "max_width": null,
            "order": null,
            "_view_module_version": "1.2.0",
            "grid_template_areas": null,
            "object_position": null,
            "object_fit": null,
            "grid_auto_columns": null,
            "margin": null,
            "display": null,
            "left": null
          }
        },
        "ff3dd61f8b374aaa9118c990140d6abf": {
          "model_module": "@jupyter-widgets/controls",
          "model_name": "HBoxModel",
          "model_module_version": "1.5.0",
          "state": {
            "_view_name": "HBoxView",
            "_dom_classes": [],
            "_model_name": "HBoxModel",
            "_view_module": "@jupyter-widgets/controls",
            "_model_module_version": "1.5.0",
            "_view_count": null,
            "_view_module_version": "1.5.0",
            "box_style": "",
            "layout": "IPY_MODEL_be906d40e1744fff85794fbaba183bf5",
            "_model_module": "@jupyter-widgets/controls",
            "children": [
              "IPY_MODEL_04eb0db5a54545b18427dc212d865483",
              "IPY_MODEL_6e9e349f23274912a0e89f8830059c44",
              "IPY_MODEL_fb002f6008a14bcb817e45b9c2df5493"
            ]
          }
        },
        "be906d40e1744fff85794fbaba183bf5": {
          "model_module": "@jupyter-widgets/base",
          "model_name": "LayoutModel",
          "model_module_version": "1.2.0",
          "state": {
            "_view_name": "LayoutView",
            "grid_template_rows": null,
            "right": null,
            "justify_content": null,
            "_view_module": "@jupyter-widgets/base",
            "overflow": null,
            "_model_module_version": "1.2.0",
            "_view_count": null,
            "flex_flow": null,
            "width": null,
            "min_width": null,
            "border": null,
            "align_items": null,
            "bottom": null,
            "_model_module": "@jupyter-widgets/base",
            "top": null,
            "grid_column": null,
            "overflow_y": null,
            "overflow_x": null,
            "grid_auto_flow": null,
            "grid_area": null,
            "grid_template_columns": null,
            "flex": null,
            "_model_name": "LayoutModel",
            "justify_items": null,
            "grid_row": null,
            "max_height": null,
            "align_content": null,
            "visibility": null,
            "align_self": null,
            "height": null,
            "min_height": null,
            "padding": null,
            "grid_auto_rows": null,
            "grid_gap": null,
            "max_width": null,
            "order": null,
            "_view_module_version": "1.2.0",
            "grid_template_areas": null,
            "object_position": null,
            "object_fit": null,
            "grid_auto_columns": null,
            "margin": null,
            "display": null,
            "left": null
          }
        },
        "04eb0db5a54545b18427dc212d865483": {
          "model_module": "@jupyter-widgets/controls",
          "model_name": "HTMLModel",
          "model_module_version": "1.5.0",
          "state": {
            "_view_name": "HTMLView",
            "style": "IPY_MODEL_2ae53e4093944dc2b363b4bc194c2f45",
            "_dom_classes": [],
            "description": "",
            "_model_name": "HTMLModel",
            "placeholder": "​",
            "_view_module": "@jupyter-widgets/controls",
            "_model_module_version": "1.5.0",
            "value": "replaying log with TBR, completed variants :: 100%",
            "_view_count": null,
            "_view_module_version": "1.5.0",
            "description_tooltip": null,
            "_model_module": "@jupyter-widgets/controls",
            "layout": "IPY_MODEL_ab5467f0b2284d5eb534ac82424f4680"
          }
        },
        "6e9e349f23274912a0e89f8830059c44": {
          "model_module": "@jupyter-widgets/controls",
          "model_name": "FloatProgressModel",
          "model_module_version": "1.5.0",
          "state": {
            "_view_name": "ProgressView",
            "style": "IPY_MODEL_e2b273c12a9b417c92ada65fc6a26c55",
            "_dom_classes": [],
            "description": "",
            "_model_name": "FloatProgressModel",
            "bar_style": "success",
            "max": 469,
            "_view_module": "@jupyter-widgets/controls",
            "_model_module_version": "1.5.0",
            "value": 469,
            "_view_count": null,
            "_view_module_version": "1.5.0",
            "orientation": "horizontal",
            "min": 0,
            "description_tooltip": null,
            "_model_module": "@jupyter-widgets/controls",
            "layout": "IPY_MODEL_036abb74f5ca4941b2b102ea2376501f"
          }
        },
        "fb002f6008a14bcb817e45b9c2df5493": {
          "model_module": "@jupyter-widgets/controls",
          "model_name": "HTMLModel",
          "model_module_version": "1.5.0",
          "state": {
            "_view_name": "HTMLView",
            "style": "IPY_MODEL_02ec74742651497ea0907026ea4588e9",
            "_dom_classes": [],
            "description": "",
            "_model_name": "HTMLModel",
            "placeholder": "​",
            "_view_module": "@jupyter-widgets/controls",
            "_model_module_version": "1.5.0",
            "value": " 469/469 [00:00&lt;00:00, 620.56it/s]",
            "_view_count": null,
            "_view_module_version": "1.5.0",
            "description_tooltip": null,
            "_model_module": "@jupyter-widgets/controls",
            "layout": "IPY_MODEL_f21fd8a25d0746bc96be12fe28fd986e"
          }
        },
        "2ae53e4093944dc2b363b4bc194c2f45": {
          "model_module": "@jupyter-widgets/controls",
          "model_name": "DescriptionStyleModel",
          "model_module_version": "1.5.0",
          "state": {
            "_view_name": "StyleView",
            "_model_name": "DescriptionStyleModel",
            "description_width": "",
            "_view_module": "@jupyter-widgets/base",
            "_model_module_version": "1.5.0",
            "_view_count": null,
            "_view_module_version": "1.2.0",
            "_model_module": "@jupyter-widgets/controls"
          }
        },
        "ab5467f0b2284d5eb534ac82424f4680": {
          "model_module": "@jupyter-widgets/base",
          "model_name": "LayoutModel",
          "model_module_version": "1.2.0",
          "state": {
            "_view_name": "LayoutView",
            "grid_template_rows": null,
            "right": null,
            "justify_content": null,
            "_view_module": "@jupyter-widgets/base",
            "overflow": null,
            "_model_module_version": "1.2.0",
            "_view_count": null,
            "flex_flow": null,
            "width": null,
            "min_width": null,
            "border": null,
            "align_items": null,
            "bottom": null,
            "_model_module": "@jupyter-widgets/base",
            "top": null,
            "grid_column": null,
            "overflow_y": null,
            "overflow_x": null,
            "grid_auto_flow": null,
            "grid_area": null,
            "grid_template_columns": null,
            "flex": null,
            "_model_name": "LayoutModel",
            "justify_items": null,
            "grid_row": null,
            "max_height": null,
            "align_content": null,
            "visibility": null,
            "align_self": null,
            "height": null,
            "min_height": null,
            "padding": null,
            "grid_auto_rows": null,
            "grid_gap": null,
            "max_width": null,
            "order": null,
            "_view_module_version": "1.2.0",
            "grid_template_areas": null,
            "object_position": null,
            "object_fit": null,
            "grid_auto_columns": null,
            "margin": null,
            "display": null,
            "left": null
          }
        },
        "e2b273c12a9b417c92ada65fc6a26c55": {
          "model_module": "@jupyter-widgets/controls",
          "model_name": "ProgressStyleModel",
          "model_module_version": "1.5.0",
          "state": {
            "_view_name": "StyleView",
            "_model_name": "ProgressStyleModel",
            "description_width": "",
            "_view_module": "@jupyter-widgets/base",
            "_model_module_version": "1.5.0",
            "_view_count": null,
            "_view_module_version": "1.2.0",
            "bar_color": null,
            "_model_module": "@jupyter-widgets/controls"
          }
        },
        "036abb74f5ca4941b2b102ea2376501f": {
          "model_module": "@jupyter-widgets/base",
          "model_name": "LayoutModel",
          "model_module_version": "1.2.0",
          "state": {
            "_view_name": "LayoutView",
            "grid_template_rows": null,
            "right": null,
            "justify_content": null,
            "_view_module": "@jupyter-widgets/base",
            "overflow": null,
            "_model_module_version": "1.2.0",
            "_view_count": null,
            "flex_flow": null,
            "width": null,
            "min_width": null,
            "border": null,
            "align_items": null,
            "bottom": null,
            "_model_module": "@jupyter-widgets/base",
            "top": null,
            "grid_column": null,
            "overflow_y": null,
            "overflow_x": null,
            "grid_auto_flow": null,
            "grid_area": null,
            "grid_template_columns": null,
            "flex": null,
            "_model_name": "LayoutModel",
            "justify_items": null,
            "grid_row": null,
            "max_height": null,
            "align_content": null,
            "visibility": null,
            "align_self": null,
            "height": null,
            "min_height": null,
            "padding": null,
            "grid_auto_rows": null,
            "grid_gap": null,
            "max_width": null,
            "order": null,
            "_view_module_version": "1.2.0",
            "grid_template_areas": null,
            "object_position": null,
            "object_fit": null,
            "grid_auto_columns": null,
            "margin": null,
            "display": null,
            "left": null
          }
        },
        "02ec74742651497ea0907026ea4588e9": {
          "model_module": "@jupyter-widgets/controls",
          "model_name": "DescriptionStyleModel",
          "model_module_version": "1.5.0",
          "state": {
            "_view_name": "StyleView",
            "_model_name": "DescriptionStyleModel",
            "description_width": "",
            "_view_module": "@jupyter-widgets/base",
            "_model_module_version": "1.5.0",
            "_view_count": null,
            "_view_module_version": "1.2.0",
            "_model_module": "@jupyter-widgets/controls"
          }
        },
        "f21fd8a25d0746bc96be12fe28fd986e": {
          "model_module": "@jupyter-widgets/base",
          "model_name": "LayoutModel",
          "model_module_version": "1.2.0",
          "state": {
            "_view_name": "LayoutView",
            "grid_template_rows": null,
            "right": null,
            "justify_content": null,
            "_view_module": "@jupyter-widgets/base",
            "overflow": null,
            "_model_module_version": "1.2.0",
            "_view_count": null,
            "flex_flow": null,
            "width": null,
            "min_width": null,
            "border": null,
            "align_items": null,
            "bottom": null,
            "_model_module": "@jupyter-widgets/base",
            "top": null,
            "grid_column": null,
            "overflow_y": null,
            "overflow_x": null,
            "grid_auto_flow": null,
            "grid_area": null,
            "grid_template_columns": null,
            "flex": null,
            "_model_name": "LayoutModel",
            "justify_items": null,
            "grid_row": null,
            "max_height": null,
            "align_content": null,
            "visibility": null,
            "align_self": null,
            "height": null,
            "min_height": null,
            "padding": null,
            "grid_auto_rows": null,
            "grid_gap": null,
            "max_width": null,
            "order": null,
            "_view_module_version": "1.2.0",
            "grid_template_areas": null,
            "object_position": null,
            "object_fit": null,
            "grid_auto_columns": null,
            "margin": null,
            "display": null,
            "left": null
          }
        },
        "b552c64d254642878c13bfdb1a6e3bc6": {
          "model_module": "@jupyter-widgets/controls",
          "model_name": "HBoxModel",
          "model_module_version": "1.5.0",
          "state": {
            "_view_name": "HBoxView",
            "_dom_classes": [],
            "_model_name": "HBoxModel",
            "_view_module": "@jupyter-widgets/controls",
            "_model_module_version": "1.5.0",
            "_view_count": null,
            "_view_module_version": "1.5.0",
            "box_style": "",
            "layout": "IPY_MODEL_2b9b7aebc4604c9194e11749f085922b",
            "_model_module": "@jupyter-widgets/controls",
            "children": [
              "IPY_MODEL_cf0530219aca4cbda9010e00943a0b45",
              "IPY_MODEL_b3cbc746c6c141d5bb302a08b55ccfb0",
              "IPY_MODEL_bc526d97ff8d4dcfb7b38d0f548cf311"
            ]
          }
        },
        "2b9b7aebc4604c9194e11749f085922b": {
          "model_module": "@jupyter-widgets/base",
          "model_name": "LayoutModel",
          "model_module_version": "1.2.0",
          "state": {
            "_view_name": "LayoutView",
            "grid_template_rows": null,
            "right": null,
            "justify_content": null,
            "_view_module": "@jupyter-widgets/base",
            "overflow": null,
            "_model_module_version": "1.2.0",
            "_view_count": null,
            "flex_flow": null,
            "width": null,
            "min_width": null,
            "border": null,
            "align_items": null,
            "bottom": null,
            "_model_module": "@jupyter-widgets/base",
            "top": null,
            "grid_column": null,
            "overflow_y": null,
            "overflow_x": null,
            "grid_auto_flow": null,
            "grid_area": null,
            "grid_template_columns": null,
            "flex": null,
            "_model_name": "LayoutModel",
            "justify_items": null,
            "grid_row": null,
            "max_height": null,
            "align_content": null,
            "visibility": null,
            "align_self": null,
            "height": null,
            "min_height": null,
            "padding": null,
            "grid_auto_rows": null,
            "grid_gap": null,
            "max_width": null,
            "order": null,
            "_view_module_version": "1.2.0",
            "grid_template_areas": null,
            "object_position": null,
            "object_fit": null,
            "grid_auto_columns": null,
            "margin": null,
            "display": null,
            "left": null
          }
        },
        "cf0530219aca4cbda9010e00943a0b45": {
          "model_module": "@jupyter-widgets/controls",
          "model_name": "HTMLModel",
          "model_module_version": "1.5.0",
          "state": {
            "_view_name": "HTMLView",
            "style": "IPY_MODEL_5e2eff8c4dd246889046f303767f8946",
            "_dom_classes": [],
            "description": "",
            "_model_name": "HTMLModel",
            "placeholder": "​",
            "_view_module": "@jupyter-widgets/controls",
            "_model_module_version": "1.5.0",
            "value": "replaying log with TBR, completed variants :: 100%",
            "_view_count": null,
            "_view_module_version": "1.5.0",
            "description_tooltip": null,
            "_model_module": "@jupyter-widgets/controls",
            "layout": "IPY_MODEL_b4d540c99f394dad811de8aeaf09d6e3"
          }
        },
        "b3cbc746c6c141d5bb302a08b55ccfb0": {
          "model_module": "@jupyter-widgets/controls",
          "model_name": "FloatProgressModel",
          "model_module_version": "1.5.0",
          "state": {
            "_view_name": "ProgressView",
            "style": "IPY_MODEL_03dc122b2bfe488f819fa6b002f589b8",
            "_dom_classes": [],
            "description": "",
            "_model_name": "FloatProgressModel",
            "bar_style": "success",
            "max": 3208,
            "_view_module": "@jupyter-widgets/controls",
            "_model_module_version": "1.5.0",
            "value": 3208,
            "_view_count": null,
            "_view_module_version": "1.5.0",
            "orientation": "horizontal",
            "min": 0,
            "description_tooltip": null,
            "_model_module": "@jupyter-widgets/controls",
            "layout": "IPY_MODEL_d73591364f2f431087a69064e792e05c"
          }
        },
        "bc526d97ff8d4dcfb7b38d0f548cf311": {
          "model_module": "@jupyter-widgets/controls",
          "model_name": "HTMLModel",
          "model_module_version": "1.5.0",
          "state": {
            "_view_name": "HTMLView",
            "style": "IPY_MODEL_850c2176e0ca46cd86347cdcec2a4535",
            "_dom_classes": [],
            "description": "",
            "_model_name": "HTMLModel",
            "placeholder": "​",
            "_view_module": "@jupyter-widgets/controls",
            "_model_module_version": "1.5.0",
            "value": " 3208/3208 [00:01&lt;00:00, 2664.56it/s]",
            "_view_count": null,
            "_view_module_version": "1.5.0",
            "description_tooltip": null,
            "_model_module": "@jupyter-widgets/controls",
            "layout": "IPY_MODEL_e3069a325d5249cc9167a2c7b7d7fba3"
          }
        },
        "5e2eff8c4dd246889046f303767f8946": {
          "model_module": "@jupyter-widgets/controls",
          "model_name": "DescriptionStyleModel",
          "model_module_version": "1.5.0",
          "state": {
            "_view_name": "StyleView",
            "_model_name": "DescriptionStyleModel",
            "description_width": "",
            "_view_module": "@jupyter-widgets/base",
            "_model_module_version": "1.5.0",
            "_view_count": null,
            "_view_module_version": "1.2.0",
            "_model_module": "@jupyter-widgets/controls"
          }
        },
        "b4d540c99f394dad811de8aeaf09d6e3": {
          "model_module": "@jupyter-widgets/base",
          "model_name": "LayoutModel",
          "model_module_version": "1.2.0",
          "state": {
            "_view_name": "LayoutView",
            "grid_template_rows": null,
            "right": null,
            "justify_content": null,
            "_view_module": "@jupyter-widgets/base",
            "overflow": null,
            "_model_module_version": "1.2.0",
            "_view_count": null,
            "flex_flow": null,
            "width": null,
            "min_width": null,
            "border": null,
            "align_items": null,
            "bottom": null,
            "_model_module": "@jupyter-widgets/base",
            "top": null,
            "grid_column": null,
            "overflow_y": null,
            "overflow_x": null,
            "grid_auto_flow": null,
            "grid_area": null,
            "grid_template_columns": null,
            "flex": null,
            "_model_name": "LayoutModel",
            "justify_items": null,
            "grid_row": null,
            "max_height": null,
            "align_content": null,
            "visibility": null,
            "align_self": null,
            "height": null,
            "min_height": null,
            "padding": null,
            "grid_auto_rows": null,
            "grid_gap": null,
            "max_width": null,
            "order": null,
            "_view_module_version": "1.2.0",
            "grid_template_areas": null,
            "object_position": null,
            "object_fit": null,
            "grid_auto_columns": null,
            "margin": null,
            "display": null,
            "left": null
          }
        },
        "03dc122b2bfe488f819fa6b002f589b8": {
          "model_module": "@jupyter-widgets/controls",
          "model_name": "ProgressStyleModel",
          "model_module_version": "1.5.0",
          "state": {
            "_view_name": "StyleView",
            "_model_name": "ProgressStyleModel",
            "description_width": "",
            "_view_module": "@jupyter-widgets/base",
            "_model_module_version": "1.5.0",
            "_view_count": null,
            "_view_module_version": "1.2.0",
            "bar_color": null,
            "_model_module": "@jupyter-widgets/controls"
          }
        },
        "d73591364f2f431087a69064e792e05c": {
          "model_module": "@jupyter-widgets/base",
          "model_name": "LayoutModel",
          "model_module_version": "1.2.0",
          "state": {
            "_view_name": "LayoutView",
            "grid_template_rows": null,
            "right": null,
            "justify_content": null,
            "_view_module": "@jupyter-widgets/base",
            "overflow": null,
            "_model_module_version": "1.2.0",
            "_view_count": null,
            "flex_flow": null,
            "width": null,
            "min_width": null,
            "border": null,
            "align_items": null,
            "bottom": null,
            "_model_module": "@jupyter-widgets/base",
            "top": null,
            "grid_column": null,
            "overflow_y": null,
            "overflow_x": null,
            "grid_auto_flow": null,
            "grid_area": null,
            "grid_template_columns": null,
            "flex": null,
            "_model_name": "LayoutModel",
            "justify_items": null,
            "grid_row": null,
            "max_height": null,
            "align_content": null,
            "visibility": null,
            "align_self": null,
            "height": null,
            "min_height": null,
            "padding": null,
            "grid_auto_rows": null,
            "grid_gap": null,
            "max_width": null,
            "order": null,
            "_view_module_version": "1.2.0",
            "grid_template_areas": null,
            "object_position": null,
            "object_fit": null,
            "grid_auto_columns": null,
            "margin": null,
            "display": null,
            "left": null
          }
        },
        "850c2176e0ca46cd86347cdcec2a4535": {
          "model_module": "@jupyter-widgets/controls",
          "model_name": "DescriptionStyleModel",
          "model_module_version": "1.5.0",
          "state": {
            "_view_name": "StyleView",
            "_model_name": "DescriptionStyleModel",
            "description_width": "",
            "_view_module": "@jupyter-widgets/base",
            "_model_module_version": "1.5.0",
            "_view_count": null,
            "_view_module_version": "1.2.0",
            "_model_module": "@jupyter-widgets/controls"
          }
        },
        "e3069a325d5249cc9167a2c7b7d7fba3": {
          "model_module": "@jupyter-widgets/base",
          "model_name": "LayoutModel",
          "model_module_version": "1.2.0",
          "state": {
            "_view_name": "LayoutView",
            "grid_template_rows": null,
            "right": null,
            "justify_content": null,
            "_view_module": "@jupyter-widgets/base",
            "overflow": null,
            "_model_module_version": "1.2.0",
            "_view_count": null,
            "flex_flow": null,
            "width": null,
            "min_width": null,
            "border": null,
            "align_items": null,
            "bottom": null,
            "_model_module": "@jupyter-widgets/base",
            "top": null,
            "grid_column": null,
            "overflow_y": null,
            "overflow_x": null,
            "grid_auto_flow": null,
            "grid_area": null,
            "grid_template_columns": null,
            "flex": null,
            "_model_name": "LayoutModel",
            "justify_items": null,
            "grid_row": null,
            "max_height": null,
            "align_content": null,
            "visibility": null,
            "align_self": null,
            "height": null,
            "min_height": null,
            "padding": null,
            "grid_auto_rows": null,
            "grid_gap": null,
            "max_width": null,
            "order": null,
            "_view_module_version": "1.2.0",
            "grid_template_areas": null,
            "object_position": null,
            "object_fit": null,
            "grid_auto_columns": null,
            "margin": null,
            "display": null,
            "left": null
          }
        },
        "c1c7744ac6214b00ac2178937a29eecd": {
          "model_module": "@jupyter-widgets/controls",
          "model_name": "HBoxModel",
          "model_module_version": "1.5.0",
          "state": {
            "_view_name": "HBoxView",
            "_dom_classes": [],
            "_model_name": "HBoxModel",
            "_view_module": "@jupyter-widgets/controls",
            "_model_module_version": "1.5.0",
            "_view_count": null,
            "_view_module_version": "1.5.0",
            "box_style": "",
            "layout": "IPY_MODEL_8e6f07acacc0412ebdab0be0ec3594f5",
            "_model_module": "@jupyter-widgets/controls",
            "children": [
              "IPY_MODEL_d03b6731603b41d796eee0e0209e5320",
              "IPY_MODEL_a884b13791264f969f5db6bc4031d40d",
              "IPY_MODEL_157f4cfb1810460aac377e002ffd9fb9"
            ]
          }
        },
        "8e6f07acacc0412ebdab0be0ec3594f5": {
          "model_module": "@jupyter-widgets/base",
          "model_name": "LayoutModel",
          "model_module_version": "1.2.0",
          "state": {
            "_view_name": "LayoutView",
            "grid_template_rows": null,
            "right": null,
            "justify_content": null,
            "_view_module": "@jupyter-widgets/base",
            "overflow": null,
            "_model_module_version": "1.2.0",
            "_view_count": null,
            "flex_flow": null,
            "width": null,
            "min_width": null,
            "border": null,
            "align_items": null,
            "bottom": null,
            "_model_module": "@jupyter-widgets/base",
            "top": null,
            "grid_column": null,
            "overflow_y": null,
            "overflow_x": null,
            "grid_auto_flow": null,
            "grid_area": null,
            "grid_template_columns": null,
            "flex": null,
            "_model_name": "LayoutModel",
            "justify_items": null,
            "grid_row": null,
            "max_height": null,
            "align_content": null,
            "visibility": null,
            "align_self": null,
            "height": null,
            "min_height": null,
            "padding": null,
            "grid_auto_rows": null,
            "grid_gap": null,
            "max_width": null,
            "order": null,
            "_view_module_version": "1.2.0",
            "grid_template_areas": null,
            "object_position": null,
            "object_fit": null,
            "grid_auto_columns": null,
            "margin": null,
            "display": null,
            "left": null
          }
        },
        "d03b6731603b41d796eee0e0209e5320": {
          "model_module": "@jupyter-widgets/controls",
          "model_name": "HTMLModel",
          "model_module_version": "1.5.0",
          "state": {
            "_view_name": "HTMLView",
            "style": "IPY_MODEL_909169b38f9f40a2b08a159b3c911fae",
            "_dom_classes": [],
            "description": "",
            "_model_name": "HTMLModel",
            "placeholder": "​",
            "_view_module": "@jupyter-widgets/controls",
            "_model_module_version": "1.5.0",
            "value": "replaying log with TBR, completed variants :: 100%",
            "_view_count": null,
            "_view_module_version": "1.5.0",
            "description_tooltip": null,
            "_model_module": "@jupyter-widgets/controls",
            "layout": "IPY_MODEL_381b9e118b0d4f94ba20d9f32e934fdd"
          }
        },
        "a884b13791264f969f5db6bc4031d40d": {
          "model_module": "@jupyter-widgets/controls",
          "model_name": "FloatProgressModel",
          "model_module_version": "1.5.0",
          "state": {
            "_view_name": "ProgressView",
            "style": "IPY_MODEL_25827578d35743b69f25671b04a0bafa",
            "_dom_classes": [],
            "description": "",
            "_model_name": "FloatProgressModel",
            "bar_style": "success",
            "max": 469,
            "_view_module": "@jupyter-widgets/controls",
            "_model_module_version": "1.5.0",
            "value": 469,
            "_view_count": null,
            "_view_module_version": "1.5.0",
            "orientation": "horizontal",
            "min": 0,
            "description_tooltip": null,
            "_model_module": "@jupyter-widgets/controls",
            "layout": "IPY_MODEL_fe55002e8c17470e9e16e2187098a04a"
          }
        },
        "157f4cfb1810460aac377e002ffd9fb9": {
          "model_module": "@jupyter-widgets/controls",
          "model_name": "HTMLModel",
          "model_module_version": "1.5.0",
          "state": {
            "_view_name": "HTMLView",
            "style": "IPY_MODEL_7fe66f831ff2418b88805aa36d7e88a4",
            "_dom_classes": [],
            "description": "",
            "_model_name": "HTMLModel",
            "placeholder": "​",
            "_view_module": "@jupyter-widgets/controls",
            "_model_module_version": "1.5.0",
            "value": " 469/469 [00:00&lt;00:00, 633.25it/s]",
            "_view_count": null,
            "_view_module_version": "1.5.0",
            "description_tooltip": null,
            "_model_module": "@jupyter-widgets/controls",
            "layout": "IPY_MODEL_edc415ec856c4e49908fdcb09f539727"
          }
        },
        "909169b38f9f40a2b08a159b3c911fae": {
          "model_module": "@jupyter-widgets/controls",
          "model_name": "DescriptionStyleModel",
          "model_module_version": "1.5.0",
          "state": {
            "_view_name": "StyleView",
            "_model_name": "DescriptionStyleModel",
            "description_width": "",
            "_view_module": "@jupyter-widgets/base",
            "_model_module_version": "1.5.0",
            "_view_count": null,
            "_view_module_version": "1.2.0",
            "_model_module": "@jupyter-widgets/controls"
          }
        },
        "381b9e118b0d4f94ba20d9f32e934fdd": {
          "model_module": "@jupyter-widgets/base",
          "model_name": "LayoutModel",
          "model_module_version": "1.2.0",
          "state": {
            "_view_name": "LayoutView",
            "grid_template_rows": null,
            "right": null,
            "justify_content": null,
            "_view_module": "@jupyter-widgets/base",
            "overflow": null,
            "_model_module_version": "1.2.0",
            "_view_count": null,
            "flex_flow": null,
            "width": null,
            "min_width": null,
            "border": null,
            "align_items": null,
            "bottom": null,
            "_model_module": "@jupyter-widgets/base",
            "top": null,
            "grid_column": null,
            "overflow_y": null,
            "overflow_x": null,
            "grid_auto_flow": null,
            "grid_area": null,
            "grid_template_columns": null,
            "flex": null,
            "_model_name": "LayoutModel",
            "justify_items": null,
            "grid_row": null,
            "max_height": null,
            "align_content": null,
            "visibility": null,
            "align_self": null,
            "height": null,
            "min_height": null,
            "padding": null,
            "grid_auto_rows": null,
            "grid_gap": null,
            "max_width": null,
            "order": null,
            "_view_module_version": "1.2.0",
            "grid_template_areas": null,
            "object_position": null,
            "object_fit": null,
            "grid_auto_columns": null,
            "margin": null,
            "display": null,
            "left": null
          }
        },
        "25827578d35743b69f25671b04a0bafa": {
          "model_module": "@jupyter-widgets/controls",
          "model_name": "ProgressStyleModel",
          "model_module_version": "1.5.0",
          "state": {
            "_view_name": "StyleView",
            "_model_name": "ProgressStyleModel",
            "description_width": "",
            "_view_module": "@jupyter-widgets/base",
            "_model_module_version": "1.5.0",
            "_view_count": null,
            "_view_module_version": "1.2.0",
            "bar_color": null,
            "_model_module": "@jupyter-widgets/controls"
          }
        },
        "fe55002e8c17470e9e16e2187098a04a": {
          "model_module": "@jupyter-widgets/base",
          "model_name": "LayoutModel",
          "model_module_version": "1.2.0",
          "state": {
            "_view_name": "LayoutView",
            "grid_template_rows": null,
            "right": null,
            "justify_content": null,
            "_view_module": "@jupyter-widgets/base",
            "overflow": null,
            "_model_module_version": "1.2.0",
            "_view_count": null,
            "flex_flow": null,
            "width": null,
            "min_width": null,
            "border": null,
            "align_items": null,
            "bottom": null,
            "_model_module": "@jupyter-widgets/base",
            "top": null,
            "grid_column": null,
            "overflow_y": null,
            "overflow_x": null,
            "grid_auto_flow": null,
            "grid_area": null,
            "grid_template_columns": null,
            "flex": null,
            "_model_name": "LayoutModel",
            "justify_items": null,
            "grid_row": null,
            "max_height": null,
            "align_content": null,
            "visibility": null,
            "align_self": null,
            "height": null,
            "min_height": null,
            "padding": null,
            "grid_auto_rows": null,
            "grid_gap": null,
            "max_width": null,
            "order": null,
            "_view_module_version": "1.2.0",
            "grid_template_areas": null,
            "object_position": null,
            "object_fit": null,
            "grid_auto_columns": null,
            "margin": null,
            "display": null,
            "left": null
          }
        },
        "7fe66f831ff2418b88805aa36d7e88a4": {
          "model_module": "@jupyter-widgets/controls",
          "model_name": "DescriptionStyleModel",
          "model_module_version": "1.5.0",
          "state": {
            "_view_name": "StyleView",
            "_model_name": "DescriptionStyleModel",
            "description_width": "",
            "_view_module": "@jupyter-widgets/base",
            "_model_module_version": "1.5.0",
            "_view_count": null,
            "_view_module_version": "1.2.0",
            "_model_module": "@jupyter-widgets/controls"
          }
        },
        "edc415ec856c4e49908fdcb09f539727": {
          "model_module": "@jupyter-widgets/base",
          "model_name": "LayoutModel",
          "model_module_version": "1.2.0",
          "state": {
            "_view_name": "LayoutView",
            "grid_template_rows": null,
            "right": null,
            "justify_content": null,
            "_view_module": "@jupyter-widgets/base",
            "overflow": null,
            "_model_module_version": "1.2.0",
            "_view_count": null,
            "flex_flow": null,
            "width": null,
            "min_width": null,
            "border": null,
            "align_items": null,
            "bottom": null,
            "_model_module": "@jupyter-widgets/base",
            "top": null,
            "grid_column": null,
            "overflow_y": null,
            "overflow_x": null,
            "grid_auto_flow": null,
            "grid_area": null,
            "grid_template_columns": null,
            "flex": null,
            "_model_name": "LayoutModel",
            "justify_items": null,
            "grid_row": null,
            "max_height": null,
            "align_content": null,
            "visibility": null,
            "align_self": null,
            "height": null,
            "min_height": null,
            "padding": null,
            "grid_auto_rows": null,
            "grid_gap": null,
            "max_width": null,
            "order": null,
            "_view_module_version": "1.2.0",
            "grid_template_areas": null,
            "object_position": null,
            "object_fit": null,
            "grid_auto_columns": null,
            "margin": null,
            "display": null,
            "left": null
          }
        }
      }
    }
  },
  "cells": [
    {
      "cell_type": "markdown",
      "metadata": {
        "id": "view-in-github",
        "colab_type": "text"
      },
      "source": [
        "<a href=\"https://colab.research.google.com/github/MoritzHaw/BPI2019_Colabatory/blob/main/IVbGR.ipynb\" target=\"_parent\"><img src=\"https://colab.research.google.com/assets/colab-badge.svg\" alt=\"Open In Colab\"/></a>"
      ]
    },
    {
      "cell_type": "code",
      "execution_count": null,
      "metadata": {
        "id": "WifNu__T-Q46"
      },
      "outputs": [],
      "source": [
        "%pip install pm4py"
      ]
    },
    {
      "cell_type": "code",
      "source": [
        "import pm4py\n",
        "import numpy as np\n",
        "import pandas as pd\n",
        "import zipfile"
      ],
      "metadata": {
        "id": "Mk7xpqUe-UmL"
      },
      "execution_count": null,
      "outputs": []
    },
    {
      "cell_type": "code",
      "source": [
        "from pm4py.objects.log.util import dataframe_utils\n",
        "from pm4py.objects.conversion.log import converter as log_converter\n",
        "\n",
        "zf = zipfile.ZipFile('/content/CSV_IVbGR_filtered.zip') \n",
        "#log_csv = pd.read_pickle('/content/PKL_IVbGR_filtered')\n",
        "log_csv = pd.read_csv(zf.open('CSV_IVbGR_filtered'), encoding='cp1252',sep=',')\n",
        "log_csv = dataframe_utils.convert_timestamp_columns_in_df(log_csv)"
      ],
      "metadata": {
        "id": "92Q79pa_-X6T"
      },
      "execution_count": null,
      "outputs": []
    },
    {
      "cell_type": "code",
      "source": [
        "log_csv"
      ],
      "metadata": {
        "id": "gdNWkfaX-q2x"
      },
      "execution_count": null,
      "outputs": []
    },
    {
      "cell_type": "code",
      "source": [
        "def to_eventlog(dataset):\n",
        "  # Convert log_csv to event_log\n",
        "  parameters = {log_converter.Variants.TO_EVENT_LOG.value.Parameters.CASE_ID_KEY: 'case:concept:name'}  # identify the case_id_key name (if not change it will simply be the nane of the coloumn)\n",
        "  event_log = log_converter.apply(dataset, parameters=parameters, variant=log_converter.Variants.TO_EVENT_LOG)\n",
        "  return event_log"
      ],
      "metadata": {
        "id": "rAzOVCKE-rf1"
      },
      "execution_count": null,
      "outputs": []
    },
    {
      "cell_type": "code",
      "source": [
        "event_log = to_eventlog(log_csv)"
      ],
      "metadata": {
        "id": "oOBRuolb-8lU"
      },
      "execution_count": null,
      "outputs": []
    },
    {
      "cell_type": "code",
      "source": [
        "from pm4py.statistics.traces.generic.pandas import case_statistics  # filter variants\n",
        "\n",
        "def filter_by_variants(dataset):\n",
        "        variants = case_statistics.get_variants_df(dataset, parameters={\n",
        "            case_statistics.Parameters.CASE_ID_KEY: \"case:concept:name\",\n",
        "            case_statistics.Parameters.ACTIVITY_KEY: \"concept:name\"})\n",
        "        return variants\n"
      ],
      "metadata": {
        "id": "Rme1E2UjwW3B"
      },
      "execution_count": null,
      "outputs": []
    },
    {
      "cell_type": "markdown",
      "source": [
        "# Miner & Graphen"
      ],
      "metadata": {
        "id": "BxOFgtmP_G64"
      }
    },
    {
      "cell_type": "code",
      "source": [
        "def direct_follow_graph(e_log):\n",
        "\n",
        "  # visualize as direct follow graph\n",
        "\n",
        "    from pm4py.algo.discovery.dfg import algorithm as dfg_discovery\n",
        "    dfg = dfg_discovery.apply(e_log)\n",
        "\n",
        "    # Filter direct followed graph\n",
        "    dfg, sa, ea = pm4py.discover_directly_follows_graph(e_log)\n",
        "    activities_count = pm4py.get_event_attribute_values(e_log, \"concept:name\")\n",
        "\n",
        "    # filter activites - only top 10 percent\n",
        "\n",
        "    from pm4py.algo.filtering.dfg import dfg_filtering\n",
        "    dfg, sa, ea, activities_count = dfg_filtering.filter_dfg_on_activities_percentage(dfg, sa, ea, activities_count, 0.2)\n",
        "\n",
        "    # filter paths - only 10 percent\n",
        "\n",
        "    dfg, sa, ea, activities_count = dfg_filtering.filter_dfg_on_paths_percentage(dfg, sa, ea, activities_count, 0.1)\n",
        "                                        \n",
        "                                        \n",
        "\n",
        "    from pm4py.visualization.dfg import visualizer as dfg_visualization\n",
        "    gviz = dfg_visualization.apply(dfg, log=e_log, variant=dfg_visualization.Variants.FREQUENCY)\n",
        "    dfg_visualization.view(gviz)"
      ],
      "metadata": {
        "id": "xs138uF8_Jl1"
      },
      "execution_count": null,
      "outputs": []
    },
    {
      "cell_type": "code",
      "source": [
        "# Heuristic miner\n",
        "from pm4py.algo.discovery.heuristics import algorithm as heuristics_miner\n",
        "import matplotlib.pyplot as plt\n",
        "from pm4py.visualization.heuristics_net import visualizer as hn_visualizer\n",
        "\n",
        "\n",
        "def heuristic_miner(e_log):\n",
        "\n",
        "    heu_net = heuristics_miner.apply_heu(event_log, parameters={heuristics_miner.Variants.CLASSIC.value.Parameters.DEPENDENCY_THRESH: 0.99, heuristics_miner.Variants.CLASSIC.value.Parameters.MIN_ACT_COUNT: 1000,\n",
        "                                                              heuristics_miner.Variants.CLASSIC.value.Parameters.MIN_DFG_OCCURRENCES: 1000})\n",
        "    plt.figure(figsize=(5,5))\n",
        "                        \n",
        "    gviz = hn_visualizer.apply(heu_net)\n",
        "    hn_visualizer.view(gviz)"
      ],
      "metadata": {
        "id": "TXkZdaoQ_Phd"
      },
      "execution_count": null,
      "outputs": []
    },
    {
      "cell_type": "code",
      "source": [
        "# petri net from heuristic miner\n",
        "from pm4py.visualization.petri_net import visualizer as pn_visualizer\n",
        "\n",
        "\n",
        "  # Visualise a Petri Net\n",
        "def visualize_petri_heu(e_log, net, im, fm):\n",
        "    gviz = pn_visualizer.apply(net, im, fm, log=e_log, variant=pn_visualizer.Variants.FREQUENCY)\n",
        "    pn_visualizer.view(gviz)\n",
        "\n",
        "def petri_from_heu(e_log, tresh: float, min_act_count, min_dfg_occurences):\n",
        "\n",
        "    parameters = {heuristics_miner.Variants.CLASSIC.value.Parameters.DEPENDENCY_THRESH: tresh, heuristics_miner.Variants.CLASSIC.value.Parameters.MIN_ACT_COUNT: min_act_count, heuristics_miner.Variants.CLASSIC.value.Parameters.MIN_DFG_OCCURRENCES: min_dfg_occurences} \n",
        "    net, im, fm = heuristics_miner.apply(e_log, parameters=parameters)\n",
        "\n",
        "    return net, im, fm      "
      ],
      "metadata": {
        "id": "Of6EKuVC_Rum"
      },
      "execution_count": null,
      "outputs": []
    },
    {
      "cell_type": "code",
      "source": [
        "# process tree from inductive miner\n",
        "\n",
        "from pm4py.algo.discovery.inductive import algorithm as inductive_miner\n",
        "from pm4py.visualization.process_tree import visualizer as pt_visualizer\n",
        "\n",
        "def visualize_pt(tree):\n",
        "    gviz = pt_visualizer.apply(tree, parameters={pt_visualizer.Variants.WO_DECORATION.value.Parameters.FORMAT: \"png\"})\n",
        "    pt_visualizer.view(gviz)\n",
        " \n",
        "def pt_from_inductive_im(e_log): # Produces a model with perfect replay fitness.\n",
        "\n",
        "    net, im, fm = inductive_miner.apply(e_log, variant=inductive_miner.Variants.IM)\n",
        "    tree = inductive_miner.apply_tree(e_log, variant=inductive_miner.Variants.IM)  \n",
        "          \n",
        "\n",
        "    #visualize_pt(tree)    \n",
        "  \n",
        "    return net, im, fm, tree\n",
        "\n",
        "def pt_from_inductive_imf(e_log, tresh): # Produces a more precise model, without fitness guarantees, by eliminating some behavior.\n",
        "    net, im, fm = inductive_miner.apply(e_log, variant=inductive_miner.Variants.IMf, parameters={inductive_miner.Variants.IMf.value.Parameters.NOISE_THRESHOLD: tresh})\n",
        "    tree = inductive_miner.apply_tree(e_log, variant=inductive_miner.Variants.IMf,\n",
        "                                          parameters={inductive_miner.Variants.IMf.value.Parameters.NOISE_THRESHOLD: tresh})  #The noise threshold (between 0.0 and 1.0) to be used. Default: 0.2\n",
        "          \n",
        " \n",
        "    #visualize_pt(tree) \n",
        "  \n",
        "    return net, im, fm, tree  \n",
        "\n",
        "\n",
        "def pt_from_inductive_imd(e_log, tresh): # A variant of inductive miner that considers only the directly-follows graph, for maximum performance. However, replay fitness guarantees are lost.\n",
        "    net, im, fm = inductive_miner.apply(e_log, variant=inductive_miner.Variants.IMd, parameters={inductive_miner.Variants.IMd.value.Parameters.NOISE_THRESHOLD: tresh})\n",
        "    tree = inductive_miner.apply_tree(e_log, variant=inductive_miner.Variants.IMd,\n",
        "                                          parameters={inductive_miner.Variants.IMd.value.Parameters.NOISE_THRESHOLD: tresh})  #The noise threshold (between 0.0 and 1.0) to be used. Default: 0.2\n",
        "          \n",
        "\n",
        "    #visualize_pt(tree) \n",
        "  \n",
        "    return net, im, fm, tree  \n"
      ],
      "metadata": {
        "id": "BW4Y6zn-_UxZ"
      },
      "execution_count": null,
      "outputs": []
    },
    {
      "cell_type": "code",
      "source": [
        "# Convert process tree into a Petri Net\n",
        "from pm4py.objects.conversion.process_tree import converter as pt_converter\n",
        "\n",
        "def petri_from_pt(tree, e_log):\n",
        "  \n",
        "  net, im, fm = pt_converter.apply(tree)\n",
        "  ## Visualise\n",
        "  gviz = pn_visualizer.apply(net, im, fm, \n",
        "                            variant=pn_visualizer.Variants.FREQUENCY, \n",
        "                            log=e_log)\n",
        "  pn_visualizer.view(gviz)\n",
        "\n",
        "  return net, im, fm"
      ],
      "metadata": {
        "id": "eO6aSPwla4-v"
      },
      "execution_count": null,
      "outputs": []
    },
    {
      "cell_type": "code",
      "source": [
        "\n",
        "from pm4py.objects.conversion.wf_net import converter as wf_net_converter\n",
        "\n",
        "def pt_from_alpha(e_log):\n",
        "  net, im, fm = pm4py.discover_petri_net_alpha(log)\n",
        "  \n",
        "\n",
        "  tree = wf_net_converter.apply(net, im, fm)\n",
        "  print(tree)"
      ],
      "metadata": {
        "id": "IHyHpPi7IIa6"
      },
      "execution_count": null,
      "outputs": []
    },
    {
      "cell_type": "markdown",
      "source": [
        "# BPMN"
      ],
      "metadata": {
        "id": "naqynk4gTk8N"
      }
    },
    {
      "cell_type": "code",
      "source": [
        "#bpmn\n",
        "\n",
        "from pm4py.objects.conversion.process_tree import converter\n",
        "from pm4py.objects.bpmn.layout import layouter\n",
        "\n",
        "\n",
        "def to_bpmn(pt_tree, name: str):\n",
        "\n",
        "  bpmn = converter.apply(pt_tree, variant=converter.Variants.TO_BPMN)\n",
        "  bpmn = layouter.apply(bpmn, variant=layouter.Variants.GRAPHVIZ)\n",
        "  #pm4py.visualization.bpmn.visualizer.matplotlib_view(bpmn)\n",
        "  pm4py.write_bpmn(bpmn, name, enable_layout=True)"
      ],
      "metadata": {
        "id": "ZlrQoAYNTmtY"
      },
      "execution_count": null,
      "outputs": []
    },
    {
      "cell_type": "markdown",
      "source": [
        "# Testing"
      ],
      "metadata": {
        "id": "1v6st8t5_gGg"
      }
    },
    {
      "cell_type": "code",
      "source": [
        "def calculate_score(fitness, prec, gen, simp):\n",
        "    fit_sum = fitness.get('perc_fit_traces') + (fitness.get('average_trace_fitness')*100) + (fitness.get('log_fitness')*100) + fitness.get('percentage_of_fitting_traces')\n",
        "    fit = (fit_sum/4)/100\n",
        "    score = (fit + prec + gen + simp)/4\n",
        "    return score"
      ],
      "metadata": {
        "id": "YSHz_Yln_hKz"
      },
      "execution_count": null,
      "outputs": []
    },
    {
      "cell_type": "code",
      "source": [
        "from pm4py.algo.evaluation.replay_fitness import algorithm as replay_fitness_evaluator\n",
        "from pm4py.algo.evaluation.precision import algorithm as precision_evaluator\n",
        "from pm4py.algo.evaluation.generalization import algorithm as generalization_evaluator\n",
        "from pm4py.algo.evaluation.simplicity import algorithm as simplicity_evaluator\n",
        "\n",
        "def test(e_log, net, im, fm):\n",
        "        fitness = replay_fitness_evaluator.apply(e_log, net, im, fm, variant=replay_fitness_evaluator.Variants.TOKEN_BASED)\n",
        "        print('Fitness: ', fitness)\n",
        "        \n",
        "        #perc_fit_traces': 87.56476683937824, 'average_trace_fitness': 0.9990753857628418, 'log_fitness': 0.9983287356471942, 'percentage_of_fitting_traces'\n",
        "        prec = precision_evaluator.apply(e_log, net, im, fm, variant=precision_evaluator.Variants.ETCONFORMANCE_TOKEN)\n",
        "        print('Precision: ', prec)\n",
        "\n",
        "        gen = generalization_evaluator.apply(e_log, net, im, fm)\n",
        "        print('Generalization: ', gen)\n",
        "\n",
        "        simp = simplicity_evaluator.apply(net)\n",
        "        print('Simplicity: ', simp)\n",
        "\n",
        "        score = calculate_score(fitness, prec, gen, simp)\n",
        "        return score"
      ],
      "metadata": {
        "id": "ozCwrxEJ_lVF"
      },
      "execution_count": null,
      "outputs": []
    },
    {
      "cell_type": "code",
      "source": [
        "\n",
        "def get_best_petri(e_log):\n",
        "\n",
        "   highest_score = []\n",
        "   min_dfg_occurences = [0, 300, 600]\n",
        "   min_act_count = [0,300, 600]\n",
        "   dependency_tresh = [0.0, 0.5, 0.99]\n",
        "   score = 0\n",
        "   \n",
        "   for k in dependency_tresh:\n",
        "    for j in min_act_count:\n",
        "     for i in min_dfg_occurences:\n",
        "          net, im, fm = petri_from_heu(e_log, k, j, i)\n",
        "          calc_score = test(e_log, net, im, fm)\n",
        "          if calc_score > score:\n",
        "            score = calc_score\n",
        "            highest_score.clear()\n",
        "            highest_score.append([k, j, i, score])\n",
        "\n",
        "   print(highest_score)\n",
        "   return highest_score"
      ],
      "metadata": {
        "id": "d7JFSRJB_n7m"
      },
      "execution_count": null,
      "outputs": []
    },
    {
      "cell_type": "code",
      "source": [
        "def get_best_pt_from_inductive(e_log):\n",
        "   \n",
        "   \n",
        "   dependency_tresh = [0.0, 0.19,  0.39,  0.59,  0.79, 0.99]\n",
        "   \n",
        "\n",
        "   def test_im():\n",
        "      score = 0\n",
        "      highest_score = []\n",
        "      net, im, fm, tree = pt_from_inductive_im(e_log)\n",
        "      calc_score = test(e_log, net, im, fm)\n",
        "      highest_score.append([calc_score])\n",
        "      return highest_score\n",
        "\n",
        "   def test_imf():\n",
        "      score = 0\n",
        "      highest_score = []\n",
        "      for k in dependency_tresh:\n",
        "              net, im, fm, tree = pt_from_inductive_imf(e_log, k)\n",
        "              calc_score = test(e_log, net, im, fm)\n",
        "              if calc_score > score:\n",
        "                score = calc_score\n",
        "                highest_score.clear()\n",
        "                highest_score.append([k, score])\n",
        "      return highest_score\n",
        "\n",
        "   def test_imd():\n",
        "      score = 0\n",
        "      highest_score = []\n",
        "      for k in dependency_tresh:\n",
        "              net, im, fm, tree = pt_from_inductive_imd(e_log, k)\n",
        "              calc_score = test(e_log, net, im, fm)\n",
        "              if calc_score > score:\n",
        "                score = calc_score\n",
        "                highest_score.clear()\n",
        "                highest_score.append([k, score])\n",
        "      return highest_score\n",
        "\n",
        "   im_score = test_im()\n",
        "   imf_score = test_imf()\n",
        "   imd_score = test_imd()\n",
        "\n",
        "   print('im_score: ', im_score)\n",
        "   print('imf_score: ', imf_score)\n",
        "   print('imd_score: ', imd_score)\n",
        "   return im_score, imf_score, imd_score"
      ],
      "metadata": {
        "id": "9N--Uysf__NA"
      },
      "execution_count": null,
      "outputs": []
    },
    {
      "cell_type": "code",
      "source": [
        ""
      ],
      "metadata": {
        "id": "uGIUlNp1PZeu"
      },
      "execution_count": null,
      "outputs": []
    },
    {
      "cell_type": "markdown",
      "source": [
        "# Filter Mehtods to improve visibility"
      ],
      "metadata": {
        "id": "xrUQC79cm2Fo"
      }
    },
    {
      "cell_type": "code",
      "source": [
        "# filter between EC Purchase Orders(SRM) and without SRM\n",
        "\n",
        "from pm4py.algo.filtering.pandas.attributes import attributes_filter\n",
        "\n",
        "def filter_log_by_x(dataset, doc_type: str, attr_key: str, pos_neg: bool):\n",
        "\n",
        "    df_traces = attributes_filter.apply(dataset, [doc_type],\n",
        "                                          parameters={attributes_filter.Parameters.CASE_ID_KEY: \"case:concept:name\", attributes_filter.Parameters.ATTRIBUTE_KEY: attr_key, attributes_filter.Parameters.POSITIVE: pos_neg})\n",
        "    \n",
        "    return df_traces\n",
        "\n",
        "\n",
        "def filter_eventlog_by_docType(e_log, doc_type: str):\n",
        "   \n",
        "  \n",
        "    tracefilter_pos = attributes_filter.apply(e_log, doc_Type,\n",
        "                                          parameters={attributes_filter.Parameters.ATTRIBUTE_KEY: \"case:doc:type\", attributes_filter.Parameters.POSITIVE: True})\n",
        "    \n",
        "    #tracefilter_neg = attributes_filter.apply(e_log, [doc_type],parameters={\n",
        "    #                                                  attributes_filter.Parameters.ATTRIBUTE_KEY: \"case:doc:type\", attributes_filter.Parameters.POSITIVE: False})\n",
        "    \n",
        "    return tracefilter_pos# tracefilter_neg"
      ],
      "metadata": {
        "id": "xV-lxtdCGWIc"
      },
      "execution_count": null,
      "outputs": []
    },
    {
      "cell_type": "code",
      "source": [
        "# compare before and after filtering date \n",
        "\n",
        "import matplotlib.pyplot as plt\n",
        "import seaborn as sns\n",
        "\n",
        "def comp_value_in_data(dataset1):\n",
        "\n",
        "    data = dict(dataset1)\n",
        "\n",
        "    plt.style.use('ggplot')\n",
        "\n",
        "    x = list(data.keys())\n",
        "    events = list(dataset1)\n",
        "\n",
        "    x_pos = [i for i, _ in enumerate(x)]\n",
        "    sns.set(rc={'axes.facecolor':'white', 'figure.facecolor':'white'})\n",
        "    color = sns.color_palette(\"muted\")\n",
        "    plt.figure(1, figsize=(5, 5))  # size\n",
        "    plt.bar(x_pos, events, color=color)\n",
        "    \n",
        " \n",
        "    plt.ylabel(\"Events\")\n",
        "    #plt.title(\"Energy output from various fuel sources\")\n",
        "    plt.grid(False)\n",
        "\n",
        "    plt.xticks(x_pos, x, rotation='vertical')\n",
        "    plt.axhline(y=0, color='black')\n",
        "\n",
        "    plt.show()"
      ],
      "metadata": {
        "id": "se3x1bd2tuGU"
      },
      "execution_count": null,
      "outputs": []
    },
    {
      "cell_type": "code",
      "source": [
        "from pm4py.algo.filtering.log.variants import variants_filter\n",
        "\n",
        "def filter_log_frequency(e_log, dataset):\n",
        "   filtered_log = variants_filter.filter_log_variants_percentage(e_log, percentage=calc_percentage_varfilter(dataset))\n",
        "   return filtered_log"
      ],
      "metadata": {
        "id": "VjpdfjtKKMpo"
      },
      "execution_count": null,
      "outputs": []
    },
    {
      "cell_type": "code",
      "source": [
        "# 5 most frequent variant \n",
        "\n",
        "def calc_percentage_varfilter(dataset):\n",
        "  share_of_frequent = 0\n",
        "  for i in range(0,4): \n",
        "    share_of_frequent = (dataset['variant'].value_counts()[i]/dataset['variant'].count()) + share_of_frequent\n",
        "  #if share_of_frequent < 0.5:\n",
        "    #share_of_frequent = share_of_frequent + (0.5-share_of_frequent)\n",
        "  print(share_of_frequent)\n",
        "  return share_of_frequent\n"
      ],
      "metadata": {
        "id": "ex2bgKGoEXZ0"
      },
      "execution_count": null,
      "outputs": []
    },
    {
      "cell_type": "markdown",
      "source": [
        "# MAIN"
      ],
      "metadata": {
        "id": "l_pGJWCXctTc"
      }
    },
    {
      "cell_type": "markdown",
      "source": [
        "1. Filter SRM --> case:doc:type\n"
      ],
      "metadata": {
        "id": "N0HnYMifnMu1"
      }
    },
    {
      "cell_type": "code",
      "source": [
        "log_SRM = filter_log_by_x(log_csv, \"EC Purchase order\", \"case:doc:type\", True)\n",
        "log_noSRM = filter_log_by_x(log_csv, \"EC Purchase order\", \"case:doc:type\", False)\n",
        "event_log_SRM = to_eventlog(log_SRM)\n",
        "event_log_noSRM = to_eventlog(log_noSRM)"
      ],
      "metadata": {
        "id": "u3AI5USZGZTu"
      },
      "execution_count": null,
      "outputs": []
    },
    {
      "cell_type": "markdown",
      "source": [
        "2. Filter filtered Data --> case:item:type "
      ],
      "metadata": {
        "id": "DlD2KswuohUV"
      }
    },
    {
      "cell_type": "code",
      "source": [
        "log_noSRM['case:concept:name'].nunique()\n",
        "log_SRM['case:concept:name'].nunique()"
      ],
      "metadata": {
        "colab": {
          "base_uri": "https://localhost:8080/"
        },
        "id": "Jd_5NFy4eN_I",
        "outputId": "53ba2d55-4260-4200-f50a-8cdc68d186f6"
      },
      "execution_count": null,
      "outputs": [
        {
          "output_type": "execute_result",
          "data": {
            "text/plain": [
              "652"
            ]
          },
          "metadata": {},
          "execution_count": 27
        }
      ]
    },
    {
      "cell_type": "code",
      "source": [
        "log_csv[log_csv['variant'].str.contains('SRM')].value_counts('case:doc:type') \n",
        "log_csv.value_counts('case:doc:type')\n",
        "\n",
        "\n"
      ],
      "metadata": {
        "colab": {
          "base_uri": "https://localhost:8080/"
        },
        "id": "Y6E661EXgAsd",
        "outputId": "3ea30570-6b4d-4355-db98-3c63bb3fe222"
      },
      "execution_count": null,
      "outputs": [
        {
          "output_type": "execute_result",
          "data": {
            "text/plain": [
              "case:doc:type\n",
              "Standard PO          881873\n",
              "EC Purchase order      7993\n",
              "dtype: int64"
            ]
          },
          "metadata": {},
          "execution_count": 29
        }
      ]
    },
    {
      "cell_type": "markdown",
      "source": [
        "# SRM"
      ],
      "metadata": {
        "id": "plfGCL961ecJ"
      }
    },
    {
      "cell_type": "markdown",
      "source": [
        "1. Filter by 5 most frequent variants"
      ],
      "metadata": {
        "id": "lXvqsatKI7d9"
      }
    },
    {
      "cell_type": "code",
      "source": [
        "filtered_log_SRM = filter_log_frequency(event_log_SRM, log_SRM)"
      ],
      "metadata": {
        "id": "oE1JOIreTXQX",
        "colab": {
          "base_uri": "https://localhost:8080/"
        },
        "outputId": "909afef5-3003-4d29-eb7b-bef665edf5fc"
      },
      "execution_count": null,
      "outputs": [
        {
          "output_type": "stream",
          "name": "stdout",
          "text": [
            "0.15000625547353935\n"
          ]
        }
      ]
    },
    {
      "cell_type": "code",
      "source": [
        "score_inductive_SRM = get_best_pt_from_inductive(filtered_log_SRM) \n",
        "#im_score:  [[0.7450537307760647]]\n",
        "#imf_score:  [[0.79, 0.7640748697818389]]\n",
        "#md_score:  [[0.0, 0.6786300165112903]]"
      ],
      "metadata": {
        "id": "Iwz3JasZz5w6"
      },
      "execution_count": null,
      "outputs": []
    },
    {
      "cell_type": "code",
      "source": [
        "# calculation of user = user \n",
        "y = log_SRM[(log_SRM['concept:name'].str.contains('SRM')==False) & (log_SRM['event:user'].str.contains('user'))]['event:user'].count()/log_SRM[(log_SRM['concept:name'].str.contains('SRM')== False)]['event:user'].count()\n",
        "print(y)"
      ],
      "metadata": {
        "colab": {
          "base_uri": "https://localhost:8080/"
        },
        "id": "PHatX54JimeQ",
        "outputId": "38c32c6f-2af7-49dc-f6e3-e344aff6e447"
      },
      "execution_count": null,
      "outputs": [
        {
          "output_type": "stream",
          "name": "stdout",
          "text": [
            "0.7898108602806589\n"
          ]
        }
      ]
    },
    {
      "cell_type": "code",
      "source": [
        "# calculate share of batch\n",
        "x = log_SRM[(log_SRM['concept:name'].str.contains('SRM') & (log_SRM['event:user'].str.contains('batch')))]['event:user'].count()/log_SRM[(log_SRM['concept:name'].str.contains('SRM'))]['event:user'].count()\n",
        "print(x)"
      ],
      "metadata": {
        "colab": {
          "base_uri": "https://localhost:8080/"
        },
        "id": "Ja3tmOF-jBM7",
        "outputId": "f187aab2-3528-4f27-87e0-2760c3e75c39"
      },
      "execution_count": null,
      "outputs": [
        {
          "output_type": "stream",
          "name": "stdout",
          "text": [
            "0.9823966065747614\n"
          ]
        }
      ]
    },
    {
      "cell_type": "code",
      "source": [
        "net, im, fm, tree = pt_from_inductive_imf(filtered_log_SRM, 0.79)\n",
        "visualize_pt(tree)\n",
        "test(event_log_SRM, net, im, fm)\n",
        "#to_bpmn(tree, \"filtered_log_SRM.bpmn\")"
      ],
      "metadata": {
        "colab": {
          "base_uri": "https://localhost:8080/",
          "height": 476,
          "referenced_widgets": [
            "ff3dd61f8b374aaa9118c990140d6abf",
            "be906d40e1744fff85794fbaba183bf5",
            "04eb0db5a54545b18427dc212d865483",
            "6e9e349f23274912a0e89f8830059c44",
            "fb002f6008a14bcb817e45b9c2df5493",
            "2ae53e4093944dc2b363b4bc194c2f45",
            "ab5467f0b2284d5eb534ac82424f4680",
            "e2b273c12a9b417c92ada65fc6a26c55",
            "036abb74f5ca4941b2b102ea2376501f",
            "02ec74742651497ea0907026ea4588e9",
            "f21fd8a25d0746bc96be12fe28fd986e",
            "b552c64d254642878c13bfdb1a6e3bc6",
            "2b9b7aebc4604c9194e11749f085922b",
            "cf0530219aca4cbda9010e00943a0b45",
            "b3cbc746c6c141d5bb302a08b55ccfb0",
            "bc526d97ff8d4dcfb7b38d0f548cf311",
            "5e2eff8c4dd246889046f303767f8946",
            "b4d540c99f394dad811de8aeaf09d6e3",
            "03dc122b2bfe488f819fa6b002f589b8",
            "d73591364f2f431087a69064e792e05c",
            "850c2176e0ca46cd86347cdcec2a4535",
            "e3069a325d5249cc9167a2c7b7d7fba3",
            "c1c7744ac6214b00ac2178937a29eecd",
            "8e6f07acacc0412ebdab0be0ec3594f5",
            "d03b6731603b41d796eee0e0209e5320",
            "a884b13791264f969f5db6bc4031d40d",
            "157f4cfb1810460aac377e002ffd9fb9",
            "909169b38f9f40a2b08a159b3c911fae",
            "381b9e118b0d4f94ba20d9f32e934fdd",
            "25827578d35743b69f25671b04a0bafa",
            "fe55002e8c17470e9e16e2187098a04a",
            "7fe66f831ff2418b88805aa36d7e88a4",
            "edc415ec856c4e49908fdcb09f539727"
          ]
        },
        "id": "DIaCla0fu7et",
        "outputId": "590575df-ba4b-4375-de9b-e664c8b9b3b3"
      },
      "execution_count": null,
      "outputs": [
        {
          "output_type": "display_data",
          "data": {
            "image/png": "[encoded data removed]",
            "text/plain": [
              "<IPython.core.display.Image object>"
            ]
          },
          "metadata": {}
        },
        {
          "output_type": "display_data",
          "data": {
            "application/vnd.jupyter.widget-view+json": {
              "model_id": "ff3dd61f8b374aaa9118c990140d6abf",
              "version_minor": 0,
              "version_major": 2
            },
            "text/plain": [
              "replaying log with TBR, completed variants ::   0%|          | 0/469 [00:00<?, ?it/s]"
            ]
          },
          "metadata": {}
        },
        {
          "output_type": "stream",
          "name": "stdout",
          "text": [
            "Fitness:  {'perc_fit_traces': 9.815950920245399, 'average_trace_fitness': 0.82159715537095, 'log_fitness': 0.8248618554810389, 'percentage_of_fitting_traces': 9.815950920245399}\n"
          ]
        },
        {
          "output_type": "display_data",
          "data": {
            "application/vnd.jupyter.widget-view+json": {
              "model_id": "b552c64d254642878c13bfdb1a6e3bc6",
              "version_minor": 0,
              "version_major": 2
            },
            "text/plain": [
              "replaying log with TBR, completed variants ::   0%|          | 0/3208 [00:00<?, ?it/s]"
            ]
          },
          "metadata": {}
        },
        {
          "output_type": "stream",
          "name": "stdout",
          "text": [
            "Precision:  0.9123605736398817\n"
          ]
        },
        {
          "output_type": "display_data",
          "data": {
            "application/vnd.jupyter.widget-view+json": {
              "model_id": "c1c7744ac6214b00ac2178937a29eecd",
              "version_minor": 0,
              "version_major": 2
            },
            "text/plain": [
              "replaying log with TBR, completed variants ::   0%|          | 0/469 [00:00<?, ?it/s]"
            ]
          },
          "metadata": {}
        },
        {
          "output_type": "stream",
          "name": "stdout",
          "text": [
            "Generalization:  0.9558439444114283\n",
            "Simplicity:  0.7894736842105263\n"
          ]
        },
        {
          "output_type": "execute_result",
          "data": {
            "text/plain": [
              "0.7795931773940152"
            ]
          },
          "metadata": {},
          "execution_count": 30
        }
      ]
    },
    {
      "cell_type": "code",
      "source": [
        "score_petri_SRM = get_best_petri(filtered_log_SRM) # [[0.0, 0, 0, 3.048656374638318]]"
      ],
      "metadata": {
        "id": "Npxq_7mESmTV"
      },
      "execution_count": null,
      "outputs": []
    },
    {
      "cell_type": "code",
      "source": [
        "net,im,fm = petri_from_heu(filtered_log_SRM, 0, 0, 0)\n",
        "visualize_petri_heu(filtered_log_SRM, net, im, fm) #### event_log\n",
        "test(filtered_log_SRM, net, im, fm)"
      ],
      "metadata": {
        "colab": {
          "base_uri": "https://localhost:8080/",
          "height": 317,
          "referenced_widgets": [
            "2983a80f777645ad8f8fca44cb2550b3",
            "bec9eb99fef545058d9ee7ed5da472e4",
            "6a681ce64f1c434887b84f334686717f",
            "ef09f36e09024bb2af871d32b3cc6984",
            "ccf0a9c1362342e4bed7ab27a412279a",
            "4fa76d5b1a5947dcbb216f20ab5e9788",
            "2463d6ef70d249cea010c424d51198c9",
            "13b915138cab467ba252e3005f4c5285",
            "da8ffafab26d4898921d860e14012db5",
            "52ac631d2894481b8ce60bc63841541e",
            "a0cdb1fdf2b64a89be22eca4ccece0f4",
            "af7a15a2977d47708308cfdf47ad4531",
            "c5f9939824a44c1fa8895cc255f5e505",
            "18a2e22057ac4721baad764c1de97860",
            "53470623796e4e0fb602c020c61fd39d",
            "e111ad0be5c24d2f8c3df6e0092087f0",
            "3a7346e2f1684bb38375b962d1e3077a",
            "db4435f1862349e09319a338897dc1ac",
            "a52e38d47e854fc598142882cda9be15",
            "68c02b2efc1d43a0b002de4368ee5369",
            "749e1ab72cf64570bd0d406e14c1e9ea",
            "7daadda943814f2b9549675e47e7cacc",
            "cb07332321074eddaa0442b6d80a2db3",
            "943172b0a5ee4f4094b24f38a260c2f5",
            "a6faa04df04a4d6ba990dafd2d3fee9b",
            "6ca1f010a4a24c508555432a57591d10",
            "5a3cd28f50a345a9a324463a6fc1db08",
            "ba378b9255f447f1b5e21710aa30bcbb",
            "f83f19a265f847179a27d396fa9b8d08",
            "21fb156d5ddc4bba82cd5f0c143a2f74",
            "3f53a635cd8945b39ac91c07a27ee99e",
            "c5cdddecd99a475e825508a266852dab",
            "b388d67b22e146a89d918054dc987232",
            "fec262d2c61349eaa47811f4b307704b",
            "db7b3cf2cca04ddfad141ccd3333604b",
            "3b1b9def73724d50996cd326750aa710",
            "1586b816690f435b80c823d9e1b5b5ff",
            "0e174f90d0d848de804c397b2b819c22",
            "e8d83d78e28a47cabe067de768f4cac3",
            "6a5070d1ebe94406be96d409ca11d319",
            "04bf284c5876484c88d68338b58337d8",
            "65d6a546835040bc81e13457d48f75bf",
            "18d5e753015c447a85b1daf6b70a81fe",
            "5a1076d9c5f2498ebd7656576c98e2e0"
          ]
        },
        "id": "elLKx6tfTMqA",
        "outputId": "71586784-8c55-4dc8-82df-88fb2fea39c6"
      },
      "execution_count": null,
      "outputs": [
        {
          "output_type": "display_data",
          "data": {
            "application/vnd.jupyter.widget-view+json": {
              "model_id": "2983a80f777645ad8f8fca44cb2550b3",
              "version_minor": 0,
              "version_major": 2
            },
            "text/plain": [
              "replaying log with TBR, completed variants ::   0%|          | 0/4 [00:00<?, ?it/s]"
            ]
          },
          "metadata": {}
        },
        {
          "output_type": "display_data",
          "data": {
            "image/png": "[encoded data removed]",
            "text/plain": [
              "<IPython.core.display.Image object>"
            ]
          },
          "metadata": {}
        },
        {
          "output_type": "display_data",
          "data": {
            "application/vnd.jupyter.widget-view+json": {
              "model_id": "af7a15a2977d47708308cfdf47ad4531",
              "version_minor": 0,
              "version_major": 2
            },
            "text/plain": [
              "replaying log with TBR, completed variants ::   0%|          | 0/4 [00:00<?, ?it/s]"
            ]
          },
          "metadata": {}
        },
        {
          "output_type": "stream",
          "name": "stdout",
          "text": [
            "Fitness:  {'perc_fit_traces': 46.464646464646464, 'average_trace_fitness': 0.8433229352347, 'log_fitness': 0.8335443037974684, 'percentage_of_fitting_traces': 46.464646464646464}\n"
          ]
        },
        {
          "output_type": "display_data",
          "data": {
            "application/vnd.jupyter.widget-view+json": {
              "model_id": "cb07332321074eddaa0442b6d80a2db3",
              "version_minor": 0,
              "version_major": 2
            },
            "text/plain": [
              "replaying log with TBR, completed variants ::   0%|          | 0/32 [00:00<?, ?it/s]"
            ]
          },
          "metadata": {}
        },
        {
          "output_type": "stream",
          "name": "stdout",
          "text": [
            "Precision:  0.8170289855072463\n"
          ]
        },
        {
          "output_type": "display_data",
          "data": {
            "application/vnd.jupyter.widget-view+json": {
              "model_id": "fec262d2c61349eaa47811f4b307704b",
              "version_minor": 0,
              "version_major": 2
            },
            "text/plain": [
              "replaying log with TBR, completed variants ::   0%|          | 0/4 [00:00<?, ?it/s]"
            ]
          },
          "metadata": {}
        },
        {
          "output_type": "stream",
          "name": "stdout",
          "text": [
            "Generalization:  0.8239897860741874\n",
            "Simplicity:  0.7560975609756097\n"
          ]
        },
        {
          "output_type": "execute_result",
          "data": {
            "text/plain": [
              "3.048656374638318"
            ]
          },
          "metadata": {},
          "execution_count": 35
        }
      ]
    },
    {
      "cell_type": "code",
      "source": [
        "petri_from_pt(tree, filtered_log_SRM) # event_log???"
      ],
      "metadata": {
        "colab": {
          "base_uri": "https://localhost:8080/",
          "height": 245,
          "referenced_widgets": [
            "6b599e2cc1284e7a9df3bfe135aa10e7",
            "4b9b3b5c9d4f4e2e87f389282092a72c",
            "7b6f74e2403346e7bd926e33ce5eb6f6",
            "e574b65145934fddac76a403de14ac98",
            "e8fe99093bf94b1e838d625d703a1bc5",
            "a13669f9adc14ed7aec8b8cb443be5c2",
            "252fefbb6f8f475391883f891582612f",
            "2324a4aaa81d4974a9700408b7c0ced2",
            "5a184eb1413c49b38ecfd7ad9055f5fc",
            "d505d717e40d49ca9abd63cc2fb569bc",
            "3450fa31321d4159bc455df030934945"
          ]
        },
        "id": "OUzrukGHTmSK",
        "outputId": "66218985-ceee-4d6f-ad00-b285afca4653"
      },
      "execution_count": null,
      "outputs": [
        {
          "output_type": "display_data",
          "data": {
            "application/vnd.jupyter.widget-view+json": {
              "model_id": "6b599e2cc1284e7a9df3bfe135aa10e7",
              "version_minor": 0,
              "version_major": 2
            },
            "text/plain": [
              "replaying log with TBR, completed variants ::   0%|          | 0/4 [00:00<?, ?it/s]"
            ]
          },
          "metadata": {}
        },
        {
          "output_type": "display_data",
          "data": {
            "image/png": "[encoded data removed]",
            "text/plain": [
              "<IPython.core.display.Image object>"
            ]
          },
          "metadata": {}
        },
        {
          "output_type": "execute_result",
          "data": {
            "text/plain": [
              "(places: [ p_10, p_11, p_12, p_13, p_14, p_16, p_17, p_18, p_19, p_20, p_21, p_7, p_8, sink, source ]\n",
              " transitions: [ (19471738-e073-43b7-8488-0f6eb9e41cba, 'SRM: Complete'), (4de95680-7521-457e-a9c2-2213585e55bf, 'SRM: Change was Transmitted'), (6d18d91f-fcca-4b9c-b23f-67ae8d4c294c, 'Remove Payment Block'), (72f332bf-ade3-42a7-aef5-53040190328a, 'SRM: In Transfer to Execution Syst.'), (8996fd1e-bdc0-47de-a6b7-dbb1c560266e, 'SRM: Awaiting Approval'), (b76a5738-660e-4ed1-a6bb-437cf0e306b5, 'Vendor creates invoice'), (baaa1f82-6087-404f-a65d-147f24d2aac6, 'Record Invoice Receipt'), (bc07d2d4-0421-4312-814a-df2226a6a331, 'SRM: Document Completed'), (bc46cc94-f8ee-4326-8b97-f7f6c362ef20, 'SRM: Ordered'), (cb65a91f-b86e-4a45-a604-1d88a36b1338, 'Create Purchase Order Item'), (de4f3c6e-a0ea-4d38-bc8f-424e1ab487cd, 'SRM: Created'), (e52e597a-5001-4c2f-89cf-182d98c75877, 'Record Goods Receipt'), (ea235dd3-f0bc-494e-85ca-9ab7e9490cf3, 'Clear Invoice'), (skip_8, None), (tauJoin_7, None) ]\n",
              " arcs: [ (19471738-e073-43b7-8488-0f6eb9e41cba, 'SRM: Complete')->p_14, (4de95680-7521-457e-a9c2-2213585e55bf, 'SRM: Change was Transmitted')->p_7, (6d18d91f-fcca-4b9c-b23f-67ae8d4c294c, 'Remove Payment Block')->p_21, (72f332bf-ade3-42a7-aef5-53040190328a, 'SRM: In Transfer to Execution Syst.')->p_11, (8996fd1e-bdc0-47de-a6b7-dbb1c560266e, 'SRM: Awaiting Approval')->p_13, (b76a5738-660e-4ed1-a6bb-437cf0e306b5, 'Vendor creates invoice')->p_17, (b76a5738-660e-4ed1-a6bb-437cf0e306b5, 'Vendor creates invoice')->p_19, (baaa1f82-6087-404f-a65d-147f24d2aac6, 'Record Invoice Receipt')->p_20, (bc07d2d4-0421-4312-814a-df2226a6a331, 'SRM: Document Completed')->p_12, (bc46cc94-f8ee-4326-8b97-f7f6c362ef20, 'SRM: Ordered')->p_8, (cb65a91f-b86e-4a45-a604-1d88a36b1338, 'Create Purchase Order Item')->p_8, (de4f3c6e-a0ea-4d38-bc8f-424e1ab487cd, 'SRM: Created')->p_10, (de4f3c6e-a0ea-4d38-bc8f-424e1ab487cd, 'SRM: Created')->p_7, (e52e597a-5001-4c2f-89cf-182d98c75877, 'Record Goods Receipt')->p_18, (ea235dd3-f0bc-494e-85ca-9ab7e9490cf3, 'Clear Invoice')->sink, (skip_8, None)->p_21, (tauJoin_7, None)->p_16, p_10->(72f332bf-ade3-42a7-aef5-53040190328a, 'SRM: In Transfer to Execution Syst.'), p_11->(bc07d2d4-0421-4312-814a-df2226a6a331, 'SRM: Document Completed'), p_12->(8996fd1e-bdc0-47de-a6b7-dbb1c560266e, 'SRM: Awaiting Approval'), p_13->(19471738-e073-43b7-8488-0f6eb9e41cba, 'SRM: Complete'), p_14->(b76a5738-660e-4ed1-a6bb-437cf0e306b5, 'Vendor creates invoice'), p_16->(6d18d91f-fcca-4b9c-b23f-67ae8d4c294c, 'Remove Payment Block'), p_16->(skip_8, None), p_17->(e52e597a-5001-4c2f-89cf-182d98c75877, 'Record Goods Receipt'), p_18->(tauJoin_7, None), p_19->(baaa1f82-6087-404f-a65d-147f24d2aac6, 'Record Invoice Receipt'), p_20->(tauJoin_7, None), p_21->(ea235dd3-f0bc-494e-85ca-9ab7e9490cf3, 'Clear Invoice'), p_7->(bc46cc94-f8ee-4326-8b97-f7f6c362ef20, 'SRM: Ordered'), p_7->(cb65a91f-b86e-4a45-a604-1d88a36b1338, 'Create Purchase Order Item'), p_8->(4de95680-7521-457e-a9c2-2213585e55bf, 'SRM: Change was Transmitted'), p_8->(bc07d2d4-0421-4312-814a-df2226a6a331, 'SRM: Document Completed'), source->(de4f3c6e-a0ea-4d38-bc8f-424e1ab487cd, 'SRM: Created') ],\n",
              " Marking({source: 1}),\n",
              " Marking({sink: 1}))"
            ]
          },
          "metadata": {},
          "execution_count": 38
        }
      ]
    },
    {
      "cell_type": "markdown",
      "source": [
        "Find best Process Tree"
      ],
      "metadata": {
        "id": "y7_3W5bK1hZR"
      }
    },
    {
      "cell_type": "markdown",
      "source": [
        "# noSRM\n"
      ],
      "metadata": {
        "id": "HcV8cMGs7fce"
      }
    },
    {
      "cell_type": "code",
      "source": [
        "filtered_log_noSRM = filter_log_frequency(event_log_noSRM, log_noSRM)"
      ],
      "metadata": {
        "id": "jukqHYmoVGcJ",
        "colab": {
          "base_uri": "https://localhost:8080/"
        },
        "outputId": "f3940c0d-b143-4105-c7d1-ae8f4d543b11"
      },
      "execution_count": null,
      "outputs": [
        {
          "output_type": "stream",
          "name": "stdout",
          "text": [
            "0.5495031597520277\n"
          ]
        }
      ]
    },
    {
      "cell_type": "code",
      "source": [
        "score_inductive_noSRM = get_best_pt_from_inductive(filtered_log_noSRM)\n",
        "#im_score:  [[3.8416593358055984]]\n",
        "#imf_score:  [[0.0, 3.8416593358055984]]\n",
        "#imd_score:  [[0.0, 3.8416593358055984]]"
      ],
      "metadata": {
        "id": "SlMo7slIVRIO"
      },
      "execution_count": null,
      "outputs": []
    },
    {
      "cell_type": "code",
      "source": [
        "log_noSRM['variant'].value_counts()"
      ],
      "metadata": {
        "colab": {
          "base_uri": "https://localhost:8080/"
        },
        "id": "u1VEoKF8xren",
        "outputId": "ba2f744c-20e7-4fbe-8e67-33d4a41a83a4"
      },
      "execution_count": null,
      "outputs": [
        {
          "output_type": "execute_result",
          "data": {
            "text/plain": [
              "Create Purchase Order Item,Vendor creates invoice,Record Goods Receipt,Record Invoice Receipt,Clear Invoice                               233095\n",
              "Create Purchase Order Item,Record Goods Receipt,Vendor creates invoice,Record Invoice Receipt,Clear Invoice                               138175\n",
              "Create Purchase Order Item,Vendor creates invoice,Record Goods Receipt,Record Invoice Receipt,Remove Payment Block,Clear Invoice           61524\n",
              "Create Purchase Order Item,Vendor creates invoice,Record Invoice Receipt,Record Goods Receipt,Remove Payment Block,Clear Invoice           51798\n",
              "Create Purchase Order Item,Receive Order Confirmation,Record Goods Receipt,Vendor creates invoice,Record Invoice Receipt,Clear Invoice     50490\n",
              "                                                                                                                                           ...  \n",
              "Create Purchase Order Item,Change Final Invoice Indicator,Record Goods Receipt                                                                 3\n",
              "Receive Order Confirmation,Create Purchase Order Item,Record Goods Receipt                                                                     3\n",
              "Create Purchase Order Item,Record Goods Receipt,Block Purchase Order Item                                                                      3\n",
              "Create Purchase Order Item,Cancel Goods Receipt,Change Price                                                                                   3\n",
              "Create Purchase Order Item,Cancel Goods Receipt,Cancel Goods Receipt                                                                           3\n",
              "Name: variant, Length: 3433, dtype: int64"
            ]
          },
          "metadata": {},
          "execution_count": 44
        }
      ]
    },
    {
      "cell_type": "code",
      "source": [
        "net, im, fm, tree = pt_from_inductive_im(filtered_log_noSRM)\n",
        "visualize_pt(tree)\n",
        "#to_bpmn(tree, \"filtered_log_noSRM.bpmn\")\n",
        "#test(filtered_log_noSRM, net, im, fm)"
      ],
      "metadata": {
        "colab": {
          "base_uri": "https://localhost:8080/",
          "height": 364
        },
        "id": "uxl3ZPs4gXvu",
        "outputId": "7bc0ad95-1537-4996-d2a2-9992bfa847cf"
      },
      "execution_count": null,
      "outputs": [
        {
          "output_type": "display_data",
          "data": {
            "image/png": "[encoded data removed]",
            "text/plain": [
              "<IPython.core.display.Image object>"
            ]
          },
          "metadata": {}
        }
      ]
    },
    {
      "cell_type": "code",
      "source": [
        "score_petri_noSRM = get_best_petri(filtered_log_noSRM) # [[0.5, 0, 0, 3.6782737273570323]]"
      ],
      "metadata": {
        "id": "0P8F0o8TWUai"
      },
      "execution_count": null,
      "outputs": []
    },
    {
      "cell_type": "code",
      "source": [
        "net, im, fm = petri_from_heu(filtered_log_noSRM, 0.5, 0, 0)\n",
        "visualize_petri_heu(event_log_noSRM, net, im, fm) # ?????????\n",
        "test(filtered_log_noSRM, net, im, fm)"
      ],
      "metadata": {
        "colab": {
          "base_uri": "https://localhost:8080/",
          "height": 336,
          "referenced_widgets": [
            "bb85266a91324a61808db5340da4289c",
            "02b0a56cebd543b484dc0bf3933e56cd",
            "20fde60fc5a14abfabb8c1f1e5736a64",
            "3f0649bc61324236901acceb4b39b8aa",
            "c7a13917b7a5484f8c937d2b0943a163",
            "be5f33621398416e8da09dc66f566a6e",
            "4cb7dc0f7a074943a61e2673f349eaa1",
            "a0090cdc401145a3b868430c034be93d",
            "4d64812167414b628f0c25f6130262db",
            "f77d352d9ba84df58c2984c71c400c6b",
            "35b839912c06446dbcde1059744aa9d9",
            "de059201581c4fea8eb594bb5b7fa442",
            "71382cc0f2a74b1d871f6f314770de8a",
            "477eb56c0c5647108f67a46108a2dcff",
            "c0cddd1199d747caa764f7397472fda6",
            "82c4057541ea42f39363c577c3333a47",
            "a041cb80a1b74558933f8c57f9b92e66",
            "3a6b20a0b31a4254a5d211bc2bfdb8be",
            "4dbc806b6d724ea8896a118dbcc0283c",
            "5c9309bf76d24e07a0fe7f4a04c50b5e",
            "dc8323f0c02c4ea6bed96343900b0adc",
            "f9ea3a8618cf4f0b81e330891f50eb79",
            "e5fd816154754cf9a3ea3b6c6f05faab",
            "f85dad5b563d451799f7e5b4df3bf928",
            "626f2864af4f4e08b1a6d17f222a1b91",
            "39e7109af0054ccda4c42073231bc055",
            "7354e873795c42fc8ab04cc169bb7a9c",
            "646a224fad87497eb0b9b5a2b66ce185",
            "860932f7d67f494e964b2420d53cc6e0",
            "71e972bb72a54466a14a9dc8b25cd3ff",
            "7343186a2c7e408d98b0dc299291cb3b",
            "7872ff39590f4b9c9a26a41dc0481987",
            "68de141a658b4041a20b10c19c5066f8",
            "c6878e6364cb4161978b8e49900aa51c",
            "a66f30e38f3b4f60adaf0271cc8dde5f",
            "dd94ebb44a684745b746102454f251d9",
            "13b5e63127ca49f989996dd86cd9e7d6",
            "8d2e2fe694db4537822eb669795358a9",
            "7c5be9ed79d84805af7a0e8717f9db9b",
            "08b2289ae5124b9991ad1ccb66f75457",
            "ef603694e86f46f490acbac0e81ccc90",
            "6fc6329e26074684802961af6abd2811",
            "99391b247d8340f59f06e9eea9e3ebcf",
            "e68695e6edc7439c89e425ab2095a431"
          ]
        },
        "id": "N5alW9a5Bg-j",
        "outputId": "c7cf0eb1-41d5-41e4-e893-0ea01e497a6e"
      },
      "execution_count": null,
      "outputs": [
        {
          "output_type": "display_data",
          "data": {
            "application/vnd.jupyter.widget-view+json": {
              "model_id": "bb85266a91324a61808db5340da4289c",
              "version_minor": 0,
              "version_major": 2
            },
            "text/plain": [
              "replaying log with TBR, completed variants ::   0%|          | 0/3433 [00:00<?, ?it/s]"
            ]
          },
          "metadata": {}
        },
        {
          "output_type": "display_data",
          "data": {
            "image/png": "[encoded data removed]",
            "text/plain": [
              "<IPython.core.display.Image object>"
            ]
          },
          "metadata": {}
        },
        {
          "output_type": "display_data",
          "data": {
            "application/vnd.jupyter.widget-view+json": {
              "model_id": "de059201581c4fea8eb594bb5b7fa442",
              "version_minor": 0,
              "version_major": 2
            },
            "text/plain": [
              "replaying log with TBR, completed variants ::   0%|          | 0/4 [00:00<?, ?it/s]"
            ]
          },
          "metadata": {}
        },
        {
          "output_type": "stream",
          "name": "stdout",
          "text": [
            "Fitness:  {'perc_fit_traces': 79.7221416991443, 'average_trace_fitness': 0.9887345231648798, 'log_fitness': 0.9876396405829728, 'percentage_of_fitting_traces': 79.7221416991443}\n"
          ]
        },
        {
          "output_type": "display_data",
          "data": {
            "application/vnd.jupyter.widget-view+json": {
              "model_id": "e5fd816154754cf9a3ea3b6c6f05faab",
              "version_minor": 0,
              "version_major": 2
            },
            "text/plain": [
              "replaying log with TBR, completed variants ::   0%|          | 0/11 [00:00<?, ?it/s]"
            ]
          },
          "metadata": {}
        },
        {
          "output_type": "stream",
          "name": "stdout",
          "text": [
            "Precision:  1.0\n"
          ]
        },
        {
          "output_type": "display_data",
          "data": {
            "application/vnd.jupyter.widget-view+json": {
              "model_id": "c6878e6364cb4161978b8e49900aa51c",
              "version_minor": 0,
              "version_major": 2
            },
            "text/plain": [
              "replaying log with TBR, completed variants ::   0%|          | 0/4 [00:00<?, ?it/s]"
            ]
          },
          "metadata": {}
        },
        {
          "output_type": "stream",
          "name": "stdout",
          "text": [
            "Generalization:  0.996095793713821\n",
            "Simplicity:  0.7894736842105263\n"
          ]
        },
        {
          "output_type": "execute_result",
          "data": {
            "text/plain": [
              "3.6782737273570323"
            ]
          },
          "metadata": {},
          "execution_count": 50
        }
      ]
    },
    {
      "cell_type": "code",
      "source": [
        "petri_from_pt(tree, filtered_log_noSRM)"
      ],
      "metadata": {
        "id": "_vrxy1lEjGRR",
        "colab": {
          "base_uri": "https://localhost:8080/",
          "height": 250,
          "referenced_widgets": [
            "862007f1e560408cb92f336a7243515b",
            "6b3b8af71a424c128316d4b02305a99b",
            "974f2a5582e64aedb926d3fd8da97913",
            "7660de19b242447e8dc1f81092af99e9",
            "146a53aaee8a4128a2bbd6a37b27d369",
            "765c07b3898b4b97a1af505f7a30f190",
            "1a34ebc9ecc748cb82fdac492aade34d",
            "a58a553128874f20a1d1a03a53d436e5",
            "43bc44087bbe429984c78a333d3c1a18",
            "795bfec13e044676ba88beaf54b20bef",
            "a20fde615a3b43909e30906c3647f715"
          ]
        },
        "outputId": "f3eec305-276f-4696-f317-55cb7bcb93da"
      },
      "execution_count": null,
      "outputs": [
        {
          "output_type": "display_data",
          "data": {
            "application/vnd.jupyter.widget-view+json": {
              "model_id": "862007f1e560408cb92f336a7243515b",
              "version_minor": 0,
              "version_major": 2
            },
            "text/plain": [
              "replaying log with TBR, completed variants ::   0%|          | 0/4 [00:00<?, ?it/s]"
            ]
          },
          "metadata": {}
        },
        {
          "output_type": "display_data",
          "data": {
            "image/png": "[encoded data removed]",
            "text/plain": [
              "<IPython.core.display.Image object>"
            ]
          },
          "metadata": {}
        },
        {
          "output_type": "execute_result",
          "data": {
            "text/plain": [
              "(places: [ p_10, p_4, p_5, p_6, p_7, p_8, p_9, sink, source ]\n",
              " transitions: [ (0c51227b-ea8f-45d3-a502-890cb364679a, 'Record Invoice Receipt'), (43e5525e-5d67-4f60-a444-32fb00b36de4, 'Create Purchase Order Item'), (480fba64-43a5-49e7-b959-9c8cfae7c63e, 'Remove Payment Block'), (5818612f-ce1f-4580-a40e-daf112c4715a, 'Record Goods Receipt'), (5c49895f-52c2-4b2e-b9ff-588b899a110c, 'Vendor creates invoice'), (5dcbef13-3f72-4200-8d1e-f025e687bb5d, 'Clear Invoice'), (skip_3, None), (tauJoin_2, None) ]\n",
              " arcs: [ (0c51227b-ea8f-45d3-a502-890cb364679a, 'Record Invoice Receipt')->p_8, (43e5525e-5d67-4f60-a444-32fb00b36de4, 'Create Purchase Order Item')->p_5, (43e5525e-5d67-4f60-a444-32fb00b36de4, 'Create Purchase Order Item')->p_7, (480fba64-43a5-49e7-b959-9c8cfae7c63e, 'Remove Payment Block')->p_10, (5818612f-ce1f-4580-a40e-daf112c4715a, 'Record Goods Receipt')->p_6, (5c49895f-52c2-4b2e-b9ff-588b899a110c, 'Vendor creates invoice')->p_9, (5dcbef13-3f72-4200-8d1e-f025e687bb5d, 'Clear Invoice')->sink, (skip_3, None)->p_10, (tauJoin_2, None)->p_4, p_10->(5dcbef13-3f72-4200-8d1e-f025e687bb5d, 'Clear Invoice'), p_4->(480fba64-43a5-49e7-b959-9c8cfae7c63e, 'Remove Payment Block'), p_4->(skip_3, None), p_5->(5818612f-ce1f-4580-a40e-daf112c4715a, 'Record Goods Receipt'), p_6->(tauJoin_2, None), p_7->(5c49895f-52c2-4b2e-b9ff-588b899a110c, 'Vendor creates invoice'), p_8->(tauJoin_2, None), p_9->(0c51227b-ea8f-45d3-a502-890cb364679a, 'Record Invoice Receipt'), source->(43e5525e-5d67-4f60-a444-32fb00b36de4, 'Create Purchase Order Item') ],\n",
              " Marking({source: 1}),\n",
              " Marking({sink: 1}))"
            ]
          },
          "metadata": {},
          "execution_count": 51
        }
      ]
    }
  ]
}
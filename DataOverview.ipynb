{
  "nbformat": 4,
  "nbformat_minor": 0,
  "metadata": {
    "colab": {
      "name": "DataOverview.ipynb",
      "provenance": [],
      "authorship_tag": "ABX9TyPVzVav1w+/v+p9+MoFmFA1",
      "include_colab_link": true
    },
    "kernelspec": {
      "name": "python3",
      "display_name": "Python 3"
    },
    "language_info": {
      "name": "python"
    }
  },
  "cells": [
    {
      "cell_type": "markdown",
      "metadata": {
        "id": "view-in-github",
        "colab_type": "text"
      },
      "source": [
        "<a href=\"https://colab.research.google.com/github/MoritzHaw/BPI2019_Colabatory/blob/main/DataOverview.ipynb\" target=\"_parent\"><img src=\"https://colab.research.google.com/assets/colab-badge.svg\" alt=\"Open In Colab\"/></a>"
      ]
    },
    {
      "cell_type": "markdown",
      "source": [
        "# Pie Charts to get a better understanding of the data"
      ],
      "metadata": {
        "id": "a6eS-tfTE3ei"
      }
    },
    {
      "cell_type": "code",
      "execution_count": 1,
      "metadata": {
        "colab": {
          "base_uri": "https://localhost:8080/"
        },
        "id": "6kIy42PkEw4C",
        "outputId": "0f897d01-b794-4a93-fa25-0817795a7b7a"
      },
      "outputs": [
        {
          "output_type": "stream",
          "name": "stdout",
          "text": [
            "Collecting pm4py\n",
            "  Downloading pm4py-2.2.19-py3-none-any.whl (1.8 MB)\n",
            "\u001b[?25l\r\u001b[K     |▏                               | 10 kB 20.0 MB/s eta 0:00:01\r\u001b[K     |▍                               | 20 kB 12.2 MB/s eta 0:00:01\r\u001b[K     |▋                               | 30 kB 9.4 MB/s eta 0:00:01\r\u001b[K     |▊                               | 40 kB 8.7 MB/s eta 0:00:01\r\u001b[K     |█                               | 51 kB 5.1 MB/s eta 0:00:01\r\u001b[K     |█▏                              | 61 kB 5.3 MB/s eta 0:00:01\r\u001b[K     |█▎                              | 71 kB 5.5 MB/s eta 0:00:01\r\u001b[K     |█▌                              | 81 kB 6.1 MB/s eta 0:00:01\r\u001b[K     |█▊                              | 92 kB 4.7 MB/s eta 0:00:01\r\u001b[K     |█▉                              | 102 kB 5.1 MB/s eta 0:00:01\r\u001b[K     |██                              | 112 kB 5.1 MB/s eta 0:00:01\r\u001b[K     |██▎                             | 122 kB 5.1 MB/s eta 0:00:01\r\u001b[K     |██▍                             | 133 kB 5.1 MB/s eta 0:00:01\r\u001b[K     |██▋                             | 143 kB 5.1 MB/s eta 0:00:01\r\u001b[K     |██▉                             | 153 kB 5.1 MB/s eta 0:00:01\r\u001b[K     |███                             | 163 kB 5.1 MB/s eta 0:00:01\r\u001b[K     |███▏                            | 174 kB 5.1 MB/s eta 0:00:01\r\u001b[K     |███▍                            | 184 kB 5.1 MB/s eta 0:00:01\r\u001b[K     |███▌                            | 194 kB 5.1 MB/s eta 0:00:01\r\u001b[K     |███▊                            | 204 kB 5.1 MB/s eta 0:00:01\r\u001b[K     |████                            | 215 kB 5.1 MB/s eta 0:00:01\r\u001b[K     |████                            | 225 kB 5.1 MB/s eta 0:00:01\r\u001b[K     |████▎                           | 235 kB 5.1 MB/s eta 0:00:01\r\u001b[K     |████▌                           | 245 kB 5.1 MB/s eta 0:00:01\r\u001b[K     |████▋                           | 256 kB 5.1 MB/s eta 0:00:01\r\u001b[K     |████▉                           | 266 kB 5.1 MB/s eta 0:00:01\r\u001b[K     |█████                           | 276 kB 5.1 MB/s eta 0:00:01\r\u001b[K     |█████▏                          | 286 kB 5.1 MB/s eta 0:00:01\r\u001b[K     |█████▍                          | 296 kB 5.1 MB/s eta 0:00:01\r\u001b[K     |█████▋                          | 307 kB 5.1 MB/s eta 0:00:01\r\u001b[K     |█████▊                          | 317 kB 5.1 MB/s eta 0:00:01\r\u001b[K     |██████                          | 327 kB 5.1 MB/s eta 0:00:01\r\u001b[K     |██████▏                         | 337 kB 5.1 MB/s eta 0:00:01\r\u001b[K     |██████▍                         | 348 kB 5.1 MB/s eta 0:00:01\r\u001b[K     |██████▌                         | 358 kB 5.1 MB/s eta 0:00:01\r\u001b[K     |██████▊                         | 368 kB 5.1 MB/s eta 0:00:01\r\u001b[K     |███████                         | 378 kB 5.1 MB/s eta 0:00:01\r\u001b[K     |███████                         | 389 kB 5.1 MB/s eta 0:00:01\r\u001b[K     |███████▎                        | 399 kB 5.1 MB/s eta 0:00:01\r\u001b[K     |███████▌                        | 409 kB 5.1 MB/s eta 0:00:01\r\u001b[K     |███████▋                        | 419 kB 5.1 MB/s eta 0:00:01\r\u001b[K     |███████▉                        | 430 kB 5.1 MB/s eta 0:00:01\r\u001b[K     |████████                        | 440 kB 5.1 MB/s eta 0:00:01\r\u001b[K     |████████▏                       | 450 kB 5.1 MB/s eta 0:00:01\r\u001b[K     |████████▍                       | 460 kB 5.1 MB/s eta 0:00:01\r\u001b[K     |████████▋                       | 471 kB 5.1 MB/s eta 0:00:01\r\u001b[K     |████████▊                       | 481 kB 5.1 MB/s eta 0:00:01\r\u001b[K     |█████████                       | 491 kB 5.1 MB/s eta 0:00:01\r\u001b[K     |█████████▏                      | 501 kB 5.1 MB/s eta 0:00:01\r\u001b[K     |█████████▎                      | 512 kB 5.1 MB/s eta 0:00:01\r\u001b[K     |█████████▌                      | 522 kB 5.1 MB/s eta 0:00:01\r\u001b[K     |█████████▊                      | 532 kB 5.1 MB/s eta 0:00:01\r\u001b[K     |█████████▉                      | 542 kB 5.1 MB/s eta 0:00:01\r\u001b[K     |██████████                      | 552 kB 5.1 MB/s eta 0:00:01\r\u001b[K     |██████████▎                     | 563 kB 5.1 MB/s eta 0:00:01\r\u001b[K     |██████████▍                     | 573 kB 5.1 MB/s eta 0:00:01\r\u001b[K     |██████████▋                     | 583 kB 5.1 MB/s eta 0:00:01\r\u001b[K     |██████████▉                     | 593 kB 5.1 MB/s eta 0:00:01\r\u001b[K     |███████████                     | 604 kB 5.1 MB/s eta 0:00:01\r\u001b[K     |███████████▏                    | 614 kB 5.1 MB/s eta 0:00:01\r\u001b[K     |███████████▍                    | 624 kB 5.1 MB/s eta 0:00:01\r\u001b[K     |███████████▌                    | 634 kB 5.1 MB/s eta 0:00:01\r\u001b[K     |███████████▊                    | 645 kB 5.1 MB/s eta 0:00:01\r\u001b[K     |████████████                    | 655 kB 5.1 MB/s eta 0:00:01\r\u001b[K     |████████████▏                   | 665 kB 5.1 MB/s eta 0:00:01\r\u001b[K     |████████████▎                   | 675 kB 5.1 MB/s eta 0:00:01\r\u001b[K     |████████████▌                   | 686 kB 5.1 MB/s eta 0:00:01\r\u001b[K     |████████████▊                   | 696 kB 5.1 MB/s eta 0:00:01\r\u001b[K     |████████████▉                   | 706 kB 5.1 MB/s eta 0:00:01\r\u001b[K     |█████████████                   | 716 kB 5.1 MB/s eta 0:00:01\r\u001b[K     |█████████████▎                  | 727 kB 5.1 MB/s eta 0:00:01\r\u001b[K     |█████████████▍                  | 737 kB 5.1 MB/s eta 0:00:01\r\u001b[K     |█████████████▋                  | 747 kB 5.1 MB/s eta 0:00:01\r\u001b[K     |█████████████▉                  | 757 kB 5.1 MB/s eta 0:00:01\r\u001b[K     |██████████████                  | 768 kB 5.1 MB/s eta 0:00:01\r\u001b[K     |██████████████▏                 | 778 kB 5.1 MB/s eta 0:00:01\r\u001b[K     |██████████████▍                 | 788 kB 5.1 MB/s eta 0:00:01\r\u001b[K     |██████████████▌                 | 798 kB 5.1 MB/s eta 0:00:01\r\u001b[K     |██████████████▊                 | 808 kB 5.1 MB/s eta 0:00:01\r\u001b[K     |███████████████                 | 819 kB 5.1 MB/s eta 0:00:01\r\u001b[K     |███████████████                 | 829 kB 5.1 MB/s eta 0:00:01\r\u001b[K     |███████████████▎                | 839 kB 5.1 MB/s eta 0:00:01\r\u001b[K     |███████████████▌                | 849 kB 5.1 MB/s eta 0:00:01\r\u001b[K     |███████████████▋                | 860 kB 5.1 MB/s eta 0:00:01\r\u001b[K     |███████████████▉                | 870 kB 5.1 MB/s eta 0:00:01\r\u001b[K     |████████████████                | 880 kB 5.1 MB/s eta 0:00:01\r\u001b[K     |████████████████▏               | 890 kB 5.1 MB/s eta 0:00:01\r\u001b[K     |████████████████▍               | 901 kB 5.1 MB/s eta 0:00:01\r\u001b[K     |████████████████▋               | 911 kB 5.1 MB/s eta 0:00:01\r\u001b[K     |████████████████▊               | 921 kB 5.1 MB/s eta 0:00:01\r\u001b[K     |█████████████████               | 931 kB 5.1 MB/s eta 0:00:01\r\u001b[K     |█████████████████▏              | 942 kB 5.1 MB/s eta 0:00:01\r\u001b[K     |█████████████████▎              | 952 kB 5.1 MB/s eta 0:00:01\r\u001b[K     |█████████████████▌              | 962 kB 5.1 MB/s eta 0:00:01\r\u001b[K     |█████████████████▊              | 972 kB 5.1 MB/s eta 0:00:01\r\u001b[K     |██████████████████              | 983 kB 5.1 MB/s eta 0:00:01\r\u001b[K     |██████████████████              | 993 kB 5.1 MB/s eta 0:00:01\r\u001b[K     |██████████████████▎             | 1.0 MB 5.1 MB/s eta 0:00:01\r\u001b[K     |██████████████████▌             | 1.0 MB 5.1 MB/s eta 0:00:01\r\u001b[K     |██████████████████▋             | 1.0 MB 5.1 MB/s eta 0:00:01\r\u001b[K     |██████████████████▉             | 1.0 MB 5.1 MB/s eta 0:00:01\r\u001b[K     |███████████████████             | 1.0 MB 5.1 MB/s eta 0:00:01\r\u001b[K     |███████████████████▏            | 1.1 MB 5.1 MB/s eta 0:00:01\r\u001b[K     |███████████████████▍            | 1.1 MB 5.1 MB/s eta 0:00:01\r\u001b[K     |███████████████████▋            | 1.1 MB 5.1 MB/s eta 0:00:01\r\u001b[K     |███████████████████▊            | 1.1 MB 5.1 MB/s eta 0:00:01\r\u001b[K     |████████████████████            | 1.1 MB 5.1 MB/s eta 0:00:01\r\u001b[K     |████████████████████▏           | 1.1 MB 5.1 MB/s eta 0:00:01\r\u001b[K     |████████████████████▎           | 1.1 MB 5.1 MB/s eta 0:00:01\r\u001b[K     |████████████████████▌           | 1.1 MB 5.1 MB/s eta 0:00:01\r\u001b[K     |████████████████████▊           | 1.1 MB 5.1 MB/s eta 0:00:01\r\u001b[K     |████████████████████▉           | 1.1 MB 5.1 MB/s eta 0:00:01\r\u001b[K     |█████████████████████           | 1.2 MB 5.1 MB/s eta 0:00:01\r\u001b[K     |█████████████████████▎          | 1.2 MB 5.1 MB/s eta 0:00:01\r\u001b[K     |█████████████████████▍          | 1.2 MB 5.1 MB/s eta 0:00:01\r\u001b[K     |█████████████████████▋          | 1.2 MB 5.1 MB/s eta 0:00:01\r\u001b[K     |█████████████████████▉          | 1.2 MB 5.1 MB/s eta 0:00:01\r\u001b[K     |██████████████████████          | 1.2 MB 5.1 MB/s eta 0:00:01\r\u001b[K     |██████████████████████▏         | 1.2 MB 5.1 MB/s eta 0:00:01\r\u001b[K     |██████████████████████▍         | 1.2 MB 5.1 MB/s eta 0:00:01\r\u001b[K     |██████████████████████▌         | 1.2 MB 5.1 MB/s eta 0:00:01\r\u001b[K     |██████████████████████▊         | 1.2 MB 5.1 MB/s eta 0:00:01\r\u001b[K     |███████████████████████         | 1.3 MB 5.1 MB/s eta 0:00:01\r\u001b[K     |███████████████████████         | 1.3 MB 5.1 MB/s eta 0:00:01\r\u001b[K     |███████████████████████▎        | 1.3 MB 5.1 MB/s eta 0:00:01\r\u001b[K     |███████████████████████▌        | 1.3 MB 5.1 MB/s eta 0:00:01\r\u001b[K     |███████████████████████▋        | 1.3 MB 5.1 MB/s eta 0:00:01\r\u001b[K     |███████████████████████▉        | 1.3 MB 5.1 MB/s eta 0:00:01\r\u001b[K     |████████████████████████        | 1.3 MB 5.1 MB/s eta 0:00:01\r\u001b[K     |████████████████████████▎       | 1.3 MB 5.1 MB/s eta 0:00:01\r\u001b[K     |████████████████████████▍       | 1.3 MB 5.1 MB/s eta 0:00:01\r\u001b[K     |████████████████████████▋       | 1.4 MB 5.1 MB/s eta 0:00:01\r\u001b[K     |████████████████████████▉       | 1.4 MB 5.1 MB/s eta 0:00:01\r\u001b[K     |█████████████████████████       | 1.4 MB 5.1 MB/s eta 0:00:01\r\u001b[K     |█████████████████████████▏      | 1.4 MB 5.1 MB/s eta 0:00:01\r\u001b[K     |█████████████████████████▍      | 1.4 MB 5.1 MB/s eta 0:00:01\r\u001b[K     |█████████████████████████▌      | 1.4 MB 5.1 MB/s eta 0:00:01\r\u001b[K     |█████████████████████████▊      | 1.4 MB 5.1 MB/s eta 0:00:01\r\u001b[K     |██████████████████████████      | 1.4 MB 5.1 MB/s eta 0:00:01\r\u001b[K     |██████████████████████████      | 1.4 MB 5.1 MB/s eta 0:00:01\r\u001b[K     |██████████████████████████▎     | 1.4 MB 5.1 MB/s eta 0:00:01\r\u001b[K     |██████████████████████████▌     | 1.5 MB 5.1 MB/s eta 0:00:01\r\u001b[K     |██████████████████████████▋     | 1.5 MB 5.1 MB/s eta 0:00:01\r\u001b[K     |██████████████████████████▉     | 1.5 MB 5.1 MB/s eta 0:00:01\r\u001b[K     |███████████████████████████     | 1.5 MB 5.1 MB/s eta 0:00:01\r\u001b[K     |███████████████████████████▏    | 1.5 MB 5.1 MB/s eta 0:00:01\r\u001b[K     |███████████████████████████▍    | 1.5 MB 5.1 MB/s eta 0:00:01\r\u001b[K     |███████████████████████████▋    | 1.5 MB 5.1 MB/s eta 0:00:01\r\u001b[K     |███████████████████████████▊    | 1.5 MB 5.1 MB/s eta 0:00:01\r\u001b[K     |████████████████████████████    | 1.5 MB 5.1 MB/s eta 0:00:01\r\u001b[K     |████████████████████████████▏   | 1.5 MB 5.1 MB/s eta 0:00:01\r\u001b[K     |████████████████████████████▎   | 1.6 MB 5.1 MB/s eta 0:00:01\r\u001b[K     |████████████████████████████▌   | 1.6 MB 5.1 MB/s eta 0:00:01\r\u001b[K     |████████████████████████████▊   | 1.6 MB 5.1 MB/s eta 0:00:01\r\u001b[K     |████████████████████████████▉   | 1.6 MB 5.1 MB/s eta 0:00:01\r\u001b[K     |█████████████████████████████   | 1.6 MB 5.1 MB/s eta 0:00:01\r\u001b[K     |█████████████████████████████▎  | 1.6 MB 5.1 MB/s eta 0:00:01\r\u001b[K     |█████████████████████████████▍  | 1.6 MB 5.1 MB/s eta 0:00:01\r\u001b[K     |█████████████████████████████▋  | 1.6 MB 5.1 MB/s eta 0:00:01\r\u001b[K     |█████████████████████████████▉  | 1.6 MB 5.1 MB/s eta 0:00:01\r\u001b[K     |██████████████████████████████  | 1.6 MB 5.1 MB/s eta 0:00:01\r\u001b[K     |██████████████████████████████▏ | 1.7 MB 5.1 MB/s eta 0:00:01\r\u001b[K     |██████████████████████████████▍ | 1.7 MB 5.1 MB/s eta 0:00:01\r\u001b[K     |██████████████████████████████▋ | 1.7 MB 5.1 MB/s eta 0:00:01\r\u001b[K     |██████████████████████████████▊ | 1.7 MB 5.1 MB/s eta 0:00:01\r\u001b[K     |███████████████████████████████ | 1.7 MB 5.1 MB/s eta 0:00:01\r\u001b[K     |███████████████████████████████▏| 1.7 MB 5.1 MB/s eta 0:00:01\r\u001b[K     |███████████████████████████████▎| 1.7 MB 5.1 MB/s eta 0:00:01\r\u001b[K     |███████████████████████████████▌| 1.7 MB 5.1 MB/s eta 0:00:01\r\u001b[K     |███████████████████████████████▊| 1.7 MB 5.1 MB/s eta 0:00:01\r\u001b[K     |███████████████████████████████▉| 1.8 MB 5.1 MB/s eta 0:00:01\r\u001b[K     |████████████████████████████████| 1.8 MB 5.1 MB/s \n",
            "\u001b[?25hCollecting jsonpickle\n",
            "  Downloading jsonpickle-2.1.0-py2.py3-none-any.whl (38 kB)\n",
            "Requirement already satisfied: pytz in /usr/local/lib/python3.7/dist-packages (from pm4py) (2018.9)\n",
            "Collecting deprecation\n",
            "  Downloading deprecation-2.1.0-py2.py3-none-any.whl (11 kB)\n",
            "Requirement already satisfied: lxml in /usr/local/lib/python3.7/dist-packages (from pm4py) (4.2.6)\n",
            "Requirement already satisfied: matplotlib in /usr/local/lib/python3.7/dist-packages (from pm4py) (3.2.2)\n",
            "Requirement already satisfied: pydotplus in /usr/local/lib/python3.7/dist-packages (from pm4py) (2.0.2)\n",
            "Requirement already satisfied: cvxopt in /usr/local/lib/python3.7/dist-packages (from pm4py) (1.2.7)\n",
            "Collecting pyvis\n",
            "  Downloading pyvis-0.1.9-py3-none-any.whl (23 kB)\n",
            "Requirement already satisfied: tqdm in /usr/local/lib/python3.7/dist-packages (from pm4py) (4.62.3)\n",
            "Requirement already satisfied: scipy in /usr/local/lib/python3.7/dist-packages (from pm4py) (1.4.1)\n",
            "Requirement already satisfied: graphviz in /usr/local/lib/python3.7/dist-packages (from pm4py) (0.10.1)\n",
            "Requirement already satisfied: pandas>=1.1.5 in /usr/local/lib/python3.7/dist-packages (from pm4py) (1.1.5)\n",
            "Requirement already satisfied: networkx in /usr/local/lib/python3.7/dist-packages (from pm4py) (2.6.3)\n",
            "Requirement already satisfied: sympy in /usr/local/lib/python3.7/dist-packages (from pm4py) (1.7.1)\n",
            "Collecting stringdist\n",
            "  Downloading StringDist-1.0.9.tar.gz (7.4 kB)\n",
            "Requirement already satisfied: intervaltree in /usr/local/lib/python3.7/dist-packages (from pm4py) (2.1.0)\n",
            "Requirement already satisfied: numpy>=1.19.5 in /usr/local/lib/python3.7/dist-packages (from pm4py) (1.19.5)\n",
            "Requirement already satisfied: python-dateutil>=2.7.3 in /usr/local/lib/python3.7/dist-packages (from pandas>=1.1.5->pm4py) (2.8.2)\n",
            "Requirement already satisfied: six>=1.5 in /usr/local/lib/python3.7/dist-packages (from python-dateutil>=2.7.3->pandas>=1.1.5->pm4py) (1.15.0)\n",
            "Requirement already satisfied: packaging in /usr/local/lib/python3.7/dist-packages (from deprecation->pm4py) (21.3)\n",
            "Requirement already satisfied: sortedcontainers in /usr/local/lib/python3.7/dist-packages (from intervaltree->pm4py) (2.4.0)\n",
            "Requirement already satisfied: importlib-metadata in /usr/local/lib/python3.7/dist-packages (from jsonpickle->pm4py) (4.10.1)\n",
            "Requirement already satisfied: typing-extensions>=3.6.4 in /usr/local/lib/python3.7/dist-packages (from importlib-metadata->jsonpickle->pm4py) (3.10.0.2)\n",
            "Requirement already satisfied: zipp>=0.5 in /usr/local/lib/python3.7/dist-packages (from importlib-metadata->jsonpickle->pm4py) (3.7.0)\n",
            "Requirement already satisfied: kiwisolver>=1.0.1 in /usr/local/lib/python3.7/dist-packages (from matplotlib->pm4py) (1.3.2)\n",
            "Requirement already satisfied: cycler>=0.10 in /usr/local/lib/python3.7/dist-packages (from matplotlib->pm4py) (0.11.0)\n",
            "Requirement already satisfied: pyparsing!=2.0.4,!=2.1.2,!=2.1.6,>=2.0.1 in /usr/local/lib/python3.7/dist-packages (from matplotlib->pm4py) (3.0.7)\n",
            "Requirement already satisfied: jinja2>=2.9.6 in /usr/local/lib/python3.7/dist-packages (from pyvis->pm4py) (2.11.3)\n",
            "Requirement already satisfied: ipython>=5.3.0 in /usr/local/lib/python3.7/dist-packages (from pyvis->pm4py) (5.5.0)\n",
            "Requirement already satisfied: setuptools>=18.5 in /usr/local/lib/python3.7/dist-packages (from ipython>=5.3.0->pyvis->pm4py) (57.4.0)\n",
            "Requirement already satisfied: pickleshare in /usr/local/lib/python3.7/dist-packages (from ipython>=5.3.0->pyvis->pm4py) (0.7.5)\n",
            "Requirement already satisfied: simplegeneric>0.8 in /usr/local/lib/python3.7/dist-packages (from ipython>=5.3.0->pyvis->pm4py) (0.8.1)\n",
            "Requirement already satisfied: prompt-toolkit<2.0.0,>=1.0.4 in /usr/local/lib/python3.7/dist-packages (from ipython>=5.3.0->pyvis->pm4py) (1.0.18)\n",
            "Requirement already satisfied: pygments in /usr/local/lib/python3.7/dist-packages (from ipython>=5.3.0->pyvis->pm4py) (2.6.1)\n",
            "Requirement already satisfied: decorator in /usr/local/lib/python3.7/dist-packages (from ipython>=5.3.0->pyvis->pm4py) (4.4.2)\n",
            "Requirement already satisfied: traitlets>=4.2 in /usr/local/lib/python3.7/dist-packages (from ipython>=5.3.0->pyvis->pm4py) (5.1.1)\n",
            "Requirement already satisfied: pexpect in /usr/local/lib/python3.7/dist-packages (from ipython>=5.3.0->pyvis->pm4py) (4.8.0)\n",
            "Requirement already satisfied: MarkupSafe>=0.23 in /usr/local/lib/python3.7/dist-packages (from jinja2>=2.9.6->pyvis->pm4py) (2.0.1)\n",
            "Requirement already satisfied: wcwidth in /usr/local/lib/python3.7/dist-packages (from prompt-toolkit<2.0.0,>=1.0.4->ipython>=5.3.0->pyvis->pm4py) (0.2.5)\n",
            "Requirement already satisfied: ptyprocess>=0.5 in /usr/local/lib/python3.7/dist-packages (from pexpect->ipython>=5.3.0->pyvis->pm4py) (0.7.0)\n",
            "Requirement already satisfied: mpmath>=0.19 in /usr/local/lib/python3.7/dist-packages (from sympy->pm4py) (1.2.1)\n",
            "Building wheels for collected packages: stringdist\n",
            "  Building wheel for stringdist (setup.py) ... \u001b[?25l\u001b[?25hdone\n",
            "  Created wheel for stringdist: filename=StringDist-1.0.9-cp37-cp37m-linux_x86_64.whl size=23593 sha256=e0f10d5cf01cd39ecf03dff0bce11a77579294cef8c8c3ec0ffb2302f84b3bba\n",
            "  Stored in directory: /root/.cache/pip/wheels/d7/9c/d4/63bc3d8931de0980b9e4a724dea290bb40b8b1b2bd6227c8da\n",
            "Successfully built stringdist\n",
            "Installing collected packages: jsonpickle, stringdist, pyvis, deprecation, pm4py\n",
            "Successfully installed deprecation-2.1.0 jsonpickle-2.1.0 pm4py-2.2.19 pyvis-0.1.9 stringdist-1.0.9\n"
          ]
        }
      ],
      "source": [
        "%pip install pm4py"
      ]
    },
    {
      "cell_type": "code",
      "source": [
        "import pm4py\n",
        "import numpy as np\n",
        "import pandas as pd"
      ],
      "metadata": {
        "id": "FSE7Ha7jFCYR"
      },
      "execution_count": 2,
      "outputs": []
    },
    {
      "cell_type": "code",
      "source": [
        "from pm4py.objects.log.util import dataframe_utils\n",
        "from pm4py.objects.conversion.log import converter as log_converter\n",
        "\n",
        "log_csv = pd.read_csv('http://icpmconference.org/2019/wp-content/uploads/sites/6/2019/02/BPIChallenge2019CSV.zip', \n",
        "                      encoding='cp1252',sep=',')\n",
        "log_csv = dataframe_utils.convert_timestamp_columns_in_df(log_csv)"
      ],
      "metadata": {
        "id": "SULRsYdmFIc6"
      },
      "execution_count": 3,
      "outputs": []
    },
    {
      "cell_type": "code",
      "source": [
        "log_csv"
      ],
      "metadata": {
        "id": "Z_7AdVSWmjWm"
      },
      "execution_count": null,
      "outputs": []
    },
    {
      "cell_type": "code",
      "source": [
        "log_csv.rename(columns={'eventID':'eventID', 'case Spend area text': 'case:spend:area', 'case Company': 'case:company', \n",
        "                        'case Document Type':'case:doc:type', 'case Sub spend area text': 'case:spend:area:text',\n",
        "                        'case Purchasing Document':'case:doc:id', 'case Purch. Doc. Category name':'case:purch:category',\n",
        "                        'case Vendor':'case:vendor', 'case Item Type': 'case:item:type', 'case Item Category': 'case:item:category',\n",
        "                        'case Spend classification text':'case:purch:class',\t'case Source': 'case:source',\n",
        "                        'case Name':'case:vendor:name', 'case GR-Based Inv. Verif.': 'case:invoicing:required', \n",
        "                        'case Item': 'case:item','case concept:name': 'case:concept:name', 'case Goods Receipt': 'case:goods:receipt', \n",
        "                        'event User': 'event:user', 'event org:resource': 'org:resource', 'event concept:name': 'concept:name',\n",
        "                        'event Cumulative net worth (EUR)': 'cumulative:net:worth:EUR', 'event time:timestamp': 'time:timestamp'}, \n",
        "              inplace=True)"
      ],
      "metadata": {
        "id": "vlcs699fFQoO"
      },
      "execution_count": 26,
      "outputs": []
    },
    {
      "cell_type": "code",
      "source": [
        "def to_eventlog(dataset):\n",
        "  # Convert log_csv to event_log\n",
        "  parameters = {log_converter.Variants.TO_EVENT_LOG.value.Parameters.CASE_ID_KEY: 'case:concept:name'} \n",
        "  # identify the case_id_key name (if not change it will simply be the nane of the coloumn)\n",
        "  \n",
        "  event_log = log_converter.apply(dataset, parameters=parameters, variant=log_converter.Variants.TO_EVENT_LOG)\n",
        "  return event_log\n"
      ],
      "metadata": {
        "id": "KR04nTbCF7lS"
      },
      "execution_count": 25,
      "outputs": []
    },
    {
      "cell_type": "code",
      "source": [
        "from matplotlib.gridspec import GridSpec\n",
        "import matplotlib.pyplot as plt\n",
        "import seaborn as sns\n",
        "    \n",
        "\n",
        "def count_occurences(column: str, dataset): \n",
        "        \"\"\"\n",
        "        count occurences of columns to picture them in a donut chart\n",
        "        return: counted occurences of column values\n",
        "        \"\"\"\n",
        "        count_column = dataset.groupby(column).count()\n",
        "        return count_column\n",
        "\n",
        "def group_lower_ranking_values(column, dataset):  \n",
        "        '''\n",
        "        group smallest counts to get a higher visibility\n",
        "        return: dataset filtered by rating \n",
        "        '''\n",
        "        rating_counts = dataset.groupby(column).count()\n",
        "        pct_value = rating_counts[lambda x: \n",
        "                                  x.columns[0]].quantile(.75) \n",
        "                                  # 75 quantile \n",
        "        values_below_pct_value = rating_counts[lambda x:\n",
        "                                  x.columns[0]].loc[lambda s: \n",
        "                                  s < pct_value].index.values\n",
        "\n",
        "        def fix_values(row):\n",
        "            if row[column] in values_below_pct_value:\n",
        "                row[column] = 'Other'\n",
        "            return row\n",
        "\n",
        "        rating_grouped = log_csv.apply(fix_values, \n",
        "                                       axis=1).groupby(column).count()\n",
        "        return rating_grouped\n",
        "\n",
        "\n",
        "\n",
        "def pie_chart(column: str, dataset):\n",
        "\n",
        "        count_column = count_occurences(column, dataset)\n",
        "        #count_column = group_lower_ranking_values(column, dataset)\n",
        "\n",
        "        type_labels = count_column['case:concept:name'].sort_values(ascending=False).index\n",
        "        type_counts = count_column['case:concept:name'].sort_values(ascending=False)\n",
        "        total = sum(type_counts)\n",
        "\n",
        "        plt.figure(1, figsize=(15, 15))  # size\n",
        "        the_grid = GridSpec(2, 2)\n",
        "        #cmap = plt.get_cmap('tab20c')\n",
        "        #reversed_cmap = cmap.reversed()\n",
        "        colors = sns.color_palette('muted')[0:len(type_counts)]\n",
        "        #colors = [reversed_cmap(i) for i in np.linspace(0, 1, 8)]\n",
        "\n",
        "        plt.subplot(the_grid[0, 0], aspect=1)\n",
        "        type_spend_areas = plt.pie(type_counts, shadow=True, colors=colors, \n",
        "                                   wedgeprops= { 'linewidth' : 1, 'edgecolor' : 'white' })\n",
        "        plt.legend(bbox_to_anchor=(1, 1),frameon=False, loc='upper left', \n",
        "                   labels=[\"%s: %1.2f%%\" % (i, (float(p)/total)*100) for i, p in \n",
        "                           zip(type_labels, type_counts)])\n",
        "\n",
        "        plt.show()"
      ],
      "metadata": {
        "id": "6dqxQAThFzfz"
      },
      "execution_count": 21,
      "outputs": []
    },
    {
      "cell_type": "code",
      "source": [
        "def donut_pie(column: str, dataset):\n",
        "        count_column = count_occurences(column, dataset)\n",
        "        #count_column = group_lower_ranking_values(column, dataset)\n",
        "        \n",
        "        type_labels = count_column['case:concept:name'].sort_values(\n",
        "            ascending=False).index\n",
        "        type_counts = count_column['case:concept:name'].sort_values(\n",
        "            ascending=False)\n",
        "        total = sum(type_counts)\n",
        "\n",
        "        #print(type_counts)\n",
        "\n",
        "        plt.figure(1, figsize=(5, 5))  # size\n",
        "      \n",
        "        the_grid = GridSpec(2, 2)\n",
        "\n",
        "        #cmap = plt.get_cmap('tab20c')\n",
        "        #reversed_cmap = cmap.reversed()\n",
        "        colors = sns.color_palette('muted')[0:len(type_counts)]\n",
        "        # colors = [reversed_cmap(i) for i in np.linspace(0, 1, 8)]\n",
        "\n",
        "        # Create a circle at the center of the plot\n",
        "        my_circle = plt.Circle( (0,0), 0.7, color='white')\n",
        "\n",
        "        # Give color names\n",
        "        plt.pie(type_counts, shadow=True, colors=colors, \n",
        "                wedgeprops= { 'linewidth' : 1, 'edgecolor' : 'white' })\n",
        "        plt.legend(frameon=False, bbox_to_anchor=(1,1), \n",
        "                loc='upper left', labels=[\"%s: %1.2f%%\" % \n",
        "                (i, (float(p)/total)*100) for i, p in \n",
        "                zip(type_labels, type_counts)])\n",
        "        p = plt.gcf()\n",
        "        p.gca().add_artist(my_circle)\n",
        "\n",
        "        plt.show()"
      ],
      "metadata": {
        "id": "g4SU0apYJGgW"
      },
      "execution_count": 24,
      "outputs": []
    },
    {
      "cell_type": "code",
      "source": [
        "donut_pie('case:spend:area', log_csv)"
      ],
      "metadata": {
        "id": "LofynQZ-H8bw"
      },
      "execution_count": null,
      "outputs": []
    },
    {
      "cell_type": "code",
      "source": [
        "donut_pie('case:item:type', log_csv)"
      ],
      "metadata": {
        "id": "dZv877su0HcT"
      },
      "execution_count": null,
      "outputs": []
    },
    {
      "cell_type": "code",
      "source": [
        "donut_pie('case:item:category', log_csv)"
      ],
      "metadata": {
        "id": "IagGupGe0JM2"
      },
      "execution_count": null,
      "outputs": []
    },
    {
      "cell_type": "code",
      "source": [
        "donut_pie('case:doc:type', log_csv)"
      ],
      "metadata": {
        "id": "5VtjTio40K9s"
      },
      "execution_count": null,
      "outputs": []
    },
    {
      "cell_type": "code",
      "source": [
        "# create scatterplot\n",
        "import matplotlib.pyplot as plt\n",
        "\n",
        "scatterplot = plt.scatter(log_csv['concept:name'], log_csv['time:timestamp'], \n",
        "                          s=10, c=sns.color_palette('muted')[0])\n",
        "#plt.xlabel('Cases')\n",
        "scatterplot.axes.get_xaxis().set_visible(False)\n"
      ],
      "metadata": {
        "colab": {
          "base_uri": "https://localhost:8080/",
          "height": 289
        },
        "id": "_D2QoSIK_fLj",
        "outputId": "0ee1392c-33a7-4795-f076-15b100ca8082"
      },
      "execution_count": 51,
      "outputs": [
        {
          "output_type": "stream",
          "name": "stderr",
          "text": [
            "*c* argument looks like a single numeric RGB or RGBA sequence, which should be avoided as value-mapping will have precedence in case its length matches with *x* & *y*.  Please use the *color* keyword-argument or provide a 2-D array with a single row if you intend to specify the same RGB or RGBA value for all points.\n"
          ]
        },
        {
          "output_type": "display_data",
          "data": {
            "image/png": "[encoded data removed]",
            "text/plain": [
              "<Figure size 432x288 with 1 Axes>"
            ]
          },
          "metadata": {
            "needs_background": "light"
          }
        }
      ]
    },
    {
      "cell_type": "code",
      "source": [
        ""
      ],
      "metadata": {
        "id": "QT8QJ2vt_pZM"
      },
      "execution_count": null,
      "outputs": []
    }
  ]
}
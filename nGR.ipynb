{
  "nbformat": 4,
  "nbformat_minor": 0,
  "metadata": {
    "colab": {
      "name": "nGR.ipynb",
      "provenance": [],
      "collapsed_sections": [],
      "authorship_tag": "ABX9TyM/pYV9J9zaPOZaSF7rxNin",
      "include_colab_link": true
    },
    "kernelspec": {
      "name": "python3",
      "display_name": "Python 3"
    },
    "language_info": {
      "name": "python"
    },
    "widgets": {
      "application/vnd.jupyter.widget-state+json": {
        "f379e07c4de14cf8825920fb2f8cb0be": {
          "model_module": "@jupyter-widgets/controls",
          "model_name": "HBoxModel",
          "model_module_version": "1.5.0",
          "state": {
            "_view_name": "HBoxView",
            "_dom_classes": [],
            "_model_name": "HBoxModel",
            "_view_module": "@jupyter-widgets/controls",
            "_model_module_version": "1.5.0",
            "_view_count": null,
            "_view_module_version": "1.5.0",
            "box_style": "",
            "layout": "IPY_MODEL_2f4e08f98cbc48e6a8777dd0ec08a78e",
            "_model_module": "@jupyter-widgets/controls",
            "children": [
              "IPY_MODEL_65ba541f9a1a464e83236ff305a44803",
              "IPY_MODEL_0bde831de9e04d2a851b02f33d5b7fe6",
              "IPY_MODEL_5876bdaebb544ddb89502bc076a0ae38"
            ]
          }
        },
        "2f4e08f98cbc48e6a8777dd0ec08a78e": {
          "model_module": "@jupyter-widgets/base",
          "model_name": "LayoutModel",
          "model_module_version": "1.2.0",
          "state": {
            "_view_name": "LayoutView",
            "grid_template_rows": null,
            "right": null,
            "justify_content": null,
            "_view_module": "@jupyter-widgets/base",
            "overflow": null,
            "_model_module_version": "1.2.0",
            "_view_count": null,
            "flex_flow": null,
            "width": null,
            "min_width": null,
            "border": null,
            "align_items": null,
            "bottom": null,
            "_model_module": "@jupyter-widgets/base",
            "top": null,
            "grid_column": null,
            "overflow_y": null,
            "overflow_x": null,
            "grid_auto_flow": null,
            "grid_area": null,
            "grid_template_columns": null,
            "flex": null,
            "_model_name": "LayoutModel",
            "justify_items": null,
            "grid_row": null,
            "max_height": null,
            "align_content": null,
            "visibility": null,
            "align_self": null,
            "height": null,
            "min_height": null,
            "padding": null,
            "grid_auto_rows": null,
            "grid_gap": null,
            "max_width": null,
            "order": null,
            "_view_module_version": "1.2.0",
            "grid_template_areas": null,
            "object_position": null,
            "object_fit": null,
            "grid_auto_columns": null,
            "margin": null,
            "display": null,
            "left": null
          }
        },
        "65ba541f9a1a464e83236ff305a44803": {
          "model_module": "@jupyter-widgets/controls",
          "model_name": "HTMLModel",
          "model_module_version": "1.5.0",
          "state": {
            "_view_name": "HTMLView",
            "style": "IPY_MODEL_11353ea573594a0dbfb69f39c7ee01ff",
            "_dom_classes": [],
            "description": "",
            "_model_name": "HTMLModel",
            "placeholder": "​",
            "_view_module": "@jupyter-widgets/controls",
            "_model_module_version": "1.5.0",
            "value": "replaying log with TBR, completed variants :: 100%",
            "_view_count": null,
            "_view_module_version": "1.5.0",
            "description_tooltip": null,
            "_model_module": "@jupyter-widgets/controls",
            "layout": "IPY_MODEL_2edc40ba2f2e45c2babcb7a43cb6eb57"
          }
        },
        "0bde831de9e04d2a851b02f33d5b7fe6": {
          "model_module": "@jupyter-widgets/controls",
          "model_name": "FloatProgressModel",
          "model_module_version": "1.5.0",
          "state": {
            "_view_name": "ProgressView",
            "style": "IPY_MODEL_1e1a8966e69b4e8f868d7973853d6572",
            "_dom_classes": [],
            "description": "",
            "_model_name": "FloatProgressModel",
            "bar_style": "success",
            "max": 131,
            "_view_module": "@jupyter-widgets/controls",
            "_model_module_version": "1.5.0",
            "value": 131,
            "_view_count": null,
            "_view_module_version": "1.5.0",
            "orientation": "horizontal",
            "min": 0,
            "description_tooltip": null,
            "_model_module": "@jupyter-widgets/controls",
            "layout": "IPY_MODEL_e1c1862771a24e25aea4dcb4ef20cb20"
          }
        },
        "5876bdaebb544ddb89502bc076a0ae38": {
          "model_module": "@jupyter-widgets/controls",
          "model_name": "HTMLModel",
          "model_module_version": "1.5.0",
          "state": {
            "_view_name": "HTMLView",
            "style": "IPY_MODEL_04490bc129af44b0b56a909fe1e4062f",
            "_dom_classes": [],
            "description": "",
            "_model_name": "HTMLModel",
            "placeholder": "​",
            "_view_module": "@jupyter-widgets/controls",
            "_model_module_version": "1.5.0",
            "value": " 131/131 [00:00&lt;00:00, 388.06it/s]",
            "_view_count": null,
            "_view_module_version": "1.5.0",
            "description_tooltip": null,
            "_model_module": "@jupyter-widgets/controls",
            "layout": "IPY_MODEL_9f550d76f66d4fcc99325056d75cfa17"
          }
        },
        "11353ea573594a0dbfb69f39c7ee01ff": {
          "model_module": "@jupyter-widgets/controls",
          "model_name": "DescriptionStyleModel",
          "model_module_version": "1.5.0",
          "state": {
            "_view_name": "StyleView",
            "_model_name": "DescriptionStyleModel",
            "description_width": "",
            "_view_module": "@jupyter-widgets/base",
            "_model_module_version": "1.5.0",
            "_view_count": null,
            "_view_module_version": "1.2.0",
            "_model_module": "@jupyter-widgets/controls"
          }
        },
        "2edc40ba2f2e45c2babcb7a43cb6eb57": {
          "model_module": "@jupyter-widgets/base",
          "model_name": "LayoutModel",
          "model_module_version": "1.2.0",
          "state": {
            "_view_name": "LayoutView",
            "grid_template_rows": null,
            "right": null,
            "justify_content": null,
            "_view_module": "@jupyter-widgets/base",
            "overflow": null,
            "_model_module_version": "1.2.0",
            "_view_count": null,
            "flex_flow": null,
            "width": null,
            "min_width": null,
            "border": null,
            "align_items": null,
            "bottom": null,
            "_model_module": "@jupyter-widgets/base",
            "top": null,
            "grid_column": null,
            "overflow_y": null,
            "overflow_x": null,
            "grid_auto_flow": null,
            "grid_area": null,
            "grid_template_columns": null,
            "flex": null,
            "_model_name": "LayoutModel",
            "justify_items": null,
            "grid_row": null,
            "max_height": null,
            "align_content": null,
            "visibility": null,
            "align_self": null,
            "height": null,
            "min_height": null,
            "padding": null,
            "grid_auto_rows": null,
            "grid_gap": null,
            "max_width": null,
            "order": null,
            "_view_module_version": "1.2.0",
            "grid_template_areas": null,
            "object_position": null,
            "object_fit": null,
            "grid_auto_columns": null,
            "margin": null,
            "display": null,
            "left": null
          }
        },
        "1e1a8966e69b4e8f868d7973853d6572": {
          "model_module": "@jupyter-widgets/controls",
          "model_name": "ProgressStyleModel",
          "model_module_version": "1.5.0",
          "state": {
            "_view_name": "StyleView",
            "_model_name": "ProgressStyleModel",
            "description_width": "",
            "_view_module": "@jupyter-widgets/base",
            "_model_module_version": "1.5.0",
            "_view_count": null,
            "_view_module_version": "1.2.0",
            "bar_color": null,
            "_model_module": "@jupyter-widgets/controls"
          }
        },
        "e1c1862771a24e25aea4dcb4ef20cb20": {
          "model_module": "@jupyter-widgets/base",
          "model_name": "LayoutModel",
          "model_module_version": "1.2.0",
          "state": {
            "_view_name": "LayoutView",
            "grid_template_rows": null,
            "right": null,
            "justify_content": null,
            "_view_module": "@jupyter-widgets/base",
            "overflow": null,
            "_model_module_version": "1.2.0",
            "_view_count": null,
            "flex_flow": null,
            "width": null,
            "min_width": null,
            "border": null,
            "align_items": null,
            "bottom": null,
            "_model_module": "@jupyter-widgets/base",
            "top": null,
            "grid_column": null,
            "overflow_y": null,
            "overflow_x": null,
            "grid_auto_flow": null,
            "grid_area": null,
            "grid_template_columns": null,
            "flex": null,
            "_model_name": "LayoutModel",
            "justify_items": null,
            "grid_row": null,
            "max_height": null,
            "align_content": null,
            "visibility": null,
            "align_self": null,
            "height": null,
            "min_height": null,
            "padding": null,
            "grid_auto_rows": null,
            "grid_gap": null,
            "max_width": null,
            "order": null,
            "_view_module_version": "1.2.0",
            "grid_template_areas": null,
            "object_position": null,
            "object_fit": null,
            "grid_auto_columns": null,
            "margin": null,
            "display": null,
            "left": null
          }
        },
        "04490bc129af44b0b56a909fe1e4062f": {
          "model_module": "@jupyter-widgets/controls",
          "model_name": "DescriptionStyleModel",
          "model_module_version": "1.5.0",
          "state": {
            "_view_name": "StyleView",
            "_model_name": "DescriptionStyleModel",
            "description_width": "",
            "_view_module": "@jupyter-widgets/base",
            "_model_module_version": "1.5.0",
            "_view_count": null,
            "_view_module_version": "1.2.0",
            "_model_module": "@jupyter-widgets/controls"
          }
        },
        "9f550d76f66d4fcc99325056d75cfa17": {
          "model_module": "@jupyter-widgets/base",
          "model_name": "LayoutModel",
          "model_module_version": "1.2.0",
          "state": {
            "_view_name": "LayoutView",
            "grid_template_rows": null,
            "right": null,
            "justify_content": null,
            "_view_module": "@jupyter-widgets/base",
            "overflow": null,
            "_model_module_version": "1.2.0",
            "_view_count": null,
            "flex_flow": null,
            "width": null,
            "min_width": null,
            "border": null,
            "align_items": null,
            "bottom": null,
            "_model_module": "@jupyter-widgets/base",
            "top": null,
            "grid_column": null,
            "overflow_y": null,
            "overflow_x": null,
            "grid_auto_flow": null,
            "grid_area": null,
            "grid_template_columns": null,
            "flex": null,
            "_model_name": "LayoutModel",
            "justify_items": null,
            "grid_row": null,
            "max_height": null,
            "align_content": null,
            "visibility": null,
            "align_self": null,
            "height": null,
            "min_height": null,
            "padding": null,
            "grid_auto_rows": null,
            "grid_gap": null,
            "max_width": null,
            "order": null,
            "_view_module_version": "1.2.0",
            "grid_template_areas": null,
            "object_position": null,
            "object_fit": null,
            "grid_auto_columns": null,
            "margin": null,
            "display": null,
            "left": null
          }
        },
        "f6a291168b684039bcb600fc1bfa0b7d": {
          "model_module": "@jupyter-widgets/controls",
          "model_name": "HBoxModel",
          "model_module_version": "1.5.0",
          "state": {
            "_view_name": "HBoxView",
            "_dom_classes": [],
            "_model_name": "HBoxModel",
            "_view_module": "@jupyter-widgets/controls",
            "_model_module_version": "1.5.0",
            "_view_count": null,
            "_view_module_version": "1.5.0",
            "box_style": "",
            "layout": "IPY_MODEL_8a69ac1940754fbf921d8056072e4295",
            "_model_module": "@jupyter-widgets/controls",
            "children": [
              "IPY_MODEL_cd8326543a0d4972a55825a2daea35f1",
              "IPY_MODEL_ac373564c2ce45919f55490fd9e3e950",
              "IPY_MODEL_64faa14c75a9428498e510de135088bb"
            ]
          }
        },
        "8a69ac1940754fbf921d8056072e4295": {
          "model_module": "@jupyter-widgets/base",
          "model_name": "LayoutModel",
          "model_module_version": "1.2.0",
          "state": {
            "_view_name": "LayoutView",
            "grid_template_rows": null,
            "right": null,
            "justify_content": null,
            "_view_module": "@jupyter-widgets/base",
            "overflow": null,
            "_model_module_version": "1.2.0",
            "_view_count": null,
            "flex_flow": null,
            "width": null,
            "min_width": null,
            "border": null,
            "align_items": null,
            "bottom": null,
            "_model_module": "@jupyter-widgets/base",
            "top": null,
            "grid_column": null,
            "overflow_y": null,
            "overflow_x": null,
            "grid_auto_flow": null,
            "grid_area": null,
            "grid_template_columns": null,
            "flex": null,
            "_model_name": "LayoutModel",
            "justify_items": null,
            "grid_row": null,
            "max_height": null,
            "align_content": null,
            "visibility": null,
            "align_self": null,
            "height": null,
            "min_height": null,
            "padding": null,
            "grid_auto_rows": null,
            "grid_gap": null,
            "max_width": null,
            "order": null,
            "_view_module_version": "1.2.0",
            "grid_template_areas": null,
            "object_position": null,
            "object_fit": null,
            "grid_auto_columns": null,
            "margin": null,
            "display": null,
            "left": null
          }
        },
        "cd8326543a0d4972a55825a2daea35f1": {
          "model_module": "@jupyter-widgets/controls",
          "model_name": "HTMLModel",
          "model_module_version": "1.5.0",
          "state": {
            "_view_name": "HTMLView",
            "style": "IPY_MODEL_d4dff1cb3d7449f384982849dfbb1352",
            "_dom_classes": [],
            "description": "",
            "_model_name": "HTMLModel",
            "placeholder": "​",
            "_view_module": "@jupyter-widgets/controls",
            "_model_module_version": "1.5.0",
            "value": "replaying log with TBR, completed variants :: 100%",
            "_view_count": null,
            "_view_module_version": "1.5.0",
            "description_tooltip": null,
            "_model_module": "@jupyter-widgets/controls",
            "layout": "IPY_MODEL_3913b2ab77444ddd9e3f745d511a6389"
          }
        },
        "ac373564c2ce45919f55490fd9e3e950": {
          "model_module": "@jupyter-widgets/controls",
          "model_name": "FloatProgressModel",
          "model_module_version": "1.5.0",
          "state": {
            "_view_name": "ProgressView",
            "style": "IPY_MODEL_c51a99104cea46259afa00e0cade0b05",
            "_dom_classes": [],
            "description": "",
            "_model_name": "FloatProgressModel",
            "bar_style": "success",
            "max": 515,
            "_view_module": "@jupyter-widgets/controls",
            "_model_module_version": "1.5.0",
            "value": 515,
            "_view_count": null,
            "_view_module_version": "1.5.0",
            "orientation": "horizontal",
            "min": 0,
            "description_tooltip": null,
            "_model_module": "@jupyter-widgets/controls",
            "layout": "IPY_MODEL_475dc629ed3949a8883b16d92bc2b10f"
          }
        },
        "64faa14c75a9428498e510de135088bb": {
          "model_module": "@jupyter-widgets/controls",
          "model_name": "HTMLModel",
          "model_module_version": "1.5.0",
          "state": {
            "_view_name": "HTMLView",
            "style": "IPY_MODEL_d2b026cfee424b4db74f04c1942a3c23",
            "_dom_classes": [],
            "description": "",
            "_model_name": "HTMLModel",
            "placeholder": "​",
            "_view_module": "@jupyter-widgets/controls",
            "_model_module_version": "1.5.0",
            "value": " 515/515 [00:00&lt;00:00, 1016.96it/s]",
            "_view_count": null,
            "_view_module_version": "1.5.0",
            "description_tooltip": null,
            "_model_module": "@jupyter-widgets/controls",
            "layout": "IPY_MODEL_6073e98fdec8479fb4f147a697d1ac8b"
          }
        },
        "d4dff1cb3d7449f384982849dfbb1352": {
          "model_module": "@jupyter-widgets/controls",
          "model_name": "DescriptionStyleModel",
          "model_module_version": "1.5.0",
          "state": {
            "_view_name": "StyleView",
            "_model_name": "DescriptionStyleModel",
            "description_width": "",
            "_view_module": "@jupyter-widgets/base",
            "_model_module_version": "1.5.0",
            "_view_count": null,
            "_view_module_version": "1.2.0",
            "_model_module": "@jupyter-widgets/controls"
          }
        },
        "3913b2ab77444ddd9e3f745d511a6389": {
          "model_module": "@jupyter-widgets/base",
          "model_name": "LayoutModel",
          "model_module_version": "1.2.0",
          "state": {
            "_view_name": "LayoutView",
            "grid_template_rows": null,
            "right": null,
            "justify_content": null,
            "_view_module": "@jupyter-widgets/base",
            "overflow": null,
            "_model_module_version": "1.2.0",
            "_view_count": null,
            "flex_flow": null,
            "width": null,
            "min_width": null,
            "border": null,
            "align_items": null,
            "bottom": null,
            "_model_module": "@jupyter-widgets/base",
            "top": null,
            "grid_column": null,
            "overflow_y": null,
            "overflow_x": null,
            "grid_auto_flow": null,
            "grid_area": null,
            "grid_template_columns": null,
            "flex": null,
            "_model_name": "LayoutModel",
            "justify_items": null,
            "grid_row": null,
            "max_height": null,
            "align_content": null,
            "visibility": null,
            "align_self": null,
            "height": null,
            "min_height": null,
            "padding": null,
            "grid_auto_rows": null,
            "grid_gap": null,
            "max_width": null,
            "order": null,
            "_view_module_version": "1.2.0",
            "grid_template_areas": null,
            "object_position": null,
            "object_fit": null,
            "grid_auto_columns": null,
            "margin": null,
            "display": null,
            "left": null
          }
        },
        "c51a99104cea46259afa00e0cade0b05": {
          "model_module": "@jupyter-widgets/controls",
          "model_name": "ProgressStyleModel",
          "model_module_version": "1.5.0",
          "state": {
            "_view_name": "StyleView",
            "_model_name": "ProgressStyleModel",
            "description_width": "",
            "_view_module": "@jupyter-widgets/base",
            "_model_module_version": "1.5.0",
            "_view_count": null,
            "_view_module_version": "1.2.0",
            "bar_color": null,
            "_model_module": "@jupyter-widgets/controls"
          }
        },
        "475dc629ed3949a8883b16d92bc2b10f": {
          "model_module": "@jupyter-widgets/base",
          "model_name": "LayoutModel",
          "model_module_version": "1.2.0",
          "state": {
            "_view_name": "LayoutView",
            "grid_template_rows": null,
            "right": null,
            "justify_content": null,
            "_view_module": "@jupyter-widgets/base",
            "overflow": null,
            "_model_module_version": "1.2.0",
            "_view_count": null,
            "flex_flow": null,
            "width": null,
            "min_width": null,
            "border": null,
            "align_items": null,
            "bottom": null,
            "_model_module": "@jupyter-widgets/base",
            "top": null,
            "grid_column": null,
            "overflow_y": null,
            "overflow_x": null,
            "grid_auto_flow": null,
            "grid_area": null,
            "grid_template_columns": null,
            "flex": null,
            "_model_name": "LayoutModel",
            "justify_items": null,
            "grid_row": null,
            "max_height": null,
            "align_content": null,
            "visibility": null,
            "align_self": null,
            "height": null,
            "min_height": null,
            "padding": null,
            "grid_auto_rows": null,
            "grid_gap": null,
            "max_width": null,
            "order": null,
            "_view_module_version": "1.2.0",
            "grid_template_areas": null,
            "object_position": null,
            "object_fit": null,
            "grid_auto_columns": null,
            "margin": null,
            "display": null,
            "left": null
          }
        },
        "d2b026cfee424b4db74f04c1942a3c23": {
          "model_module": "@jupyter-widgets/controls",
          "model_name": "DescriptionStyleModel",
          "model_module_version": "1.5.0",
          "state": {
            "_view_name": "StyleView",
            "_model_name": "DescriptionStyleModel",
            "description_width": "",
            "_view_module": "@jupyter-widgets/base",
            "_model_module_version": "1.5.0",
            "_view_count": null,
            "_view_module_version": "1.2.0",
            "_model_module": "@jupyter-widgets/controls"
          }
        },
        "6073e98fdec8479fb4f147a697d1ac8b": {
          "model_module": "@jupyter-widgets/base",
          "model_name": "LayoutModel",
          "model_module_version": "1.2.0",
          "state": {
            "_view_name": "LayoutView",
            "grid_template_rows": null,
            "right": null,
            "justify_content": null,
            "_view_module": "@jupyter-widgets/base",
            "overflow": null,
            "_model_module_version": "1.2.0",
            "_view_count": null,
            "flex_flow": null,
            "width": null,
            "min_width": null,
            "border": null,
            "align_items": null,
            "bottom": null,
            "_model_module": "@jupyter-widgets/base",
            "top": null,
            "grid_column": null,
            "overflow_y": null,
            "overflow_x": null,
            "grid_auto_flow": null,
            "grid_area": null,
            "grid_template_columns": null,
            "flex": null,
            "_model_name": "LayoutModel",
            "justify_items": null,
            "grid_row": null,
            "max_height": null,
            "align_content": null,
            "visibility": null,
            "align_self": null,
            "height": null,
            "min_height": null,
            "padding": null,
            "grid_auto_rows": null,
            "grid_gap": null,
            "max_width": null,
            "order": null,
            "_view_module_version": "1.2.0",
            "grid_template_areas": null,
            "object_position": null,
            "object_fit": null,
            "grid_auto_columns": null,
            "margin": null,
            "display": null,
            "left": null
          }
        },
        "01b66ba6ce9c454a8012730f1bde198b": {
          "model_module": "@jupyter-widgets/controls",
          "model_name": "HBoxModel",
          "model_module_version": "1.5.0",
          "state": {
            "_view_name": "HBoxView",
            "_dom_classes": [],
            "_model_name": "HBoxModel",
            "_view_module": "@jupyter-widgets/controls",
            "_model_module_version": "1.5.0",
            "_view_count": null,
            "_view_module_version": "1.5.0",
            "box_style": "",
            "layout": "IPY_MODEL_e7aa97818f0f49eaad7dc12e07660813",
            "_model_module": "@jupyter-widgets/controls",
            "children": [
              "IPY_MODEL_b05a7ec695ce4b39ac2f8a78d1ec4fcf",
              "IPY_MODEL_de48a2a7d3f640db88a6ca975a3be9df",
              "IPY_MODEL_816060d194dd4ba0ba4d7974aecac29b"
            ]
          }
        },
        "e7aa97818f0f49eaad7dc12e07660813": {
          "model_module": "@jupyter-widgets/base",
          "model_name": "LayoutModel",
          "model_module_version": "1.2.0",
          "state": {
            "_view_name": "LayoutView",
            "grid_template_rows": null,
            "right": null,
            "justify_content": null,
            "_view_module": "@jupyter-widgets/base",
            "overflow": null,
            "_model_module_version": "1.2.0",
            "_view_count": null,
            "flex_flow": null,
            "width": null,
            "min_width": null,
            "border": null,
            "align_items": null,
            "bottom": null,
            "_model_module": "@jupyter-widgets/base",
            "top": null,
            "grid_column": null,
            "overflow_y": null,
            "overflow_x": null,
            "grid_auto_flow": null,
            "grid_area": null,
            "grid_template_columns": null,
            "flex": null,
            "_model_name": "LayoutModel",
            "justify_items": null,
            "grid_row": null,
            "max_height": null,
            "align_content": null,
            "visibility": null,
            "align_self": null,
            "height": null,
            "min_height": null,
            "padding": null,
            "grid_auto_rows": null,
            "grid_gap": null,
            "max_width": null,
            "order": null,
            "_view_module_version": "1.2.0",
            "grid_template_areas": null,
            "object_position": null,
            "object_fit": null,
            "grid_auto_columns": null,
            "margin": null,
            "display": null,
            "left": null
          }
        },
        "b05a7ec695ce4b39ac2f8a78d1ec4fcf": {
          "model_module": "@jupyter-widgets/controls",
          "model_name": "HTMLModel",
          "model_module_version": "1.5.0",
          "state": {
            "_view_name": "HTMLView",
            "style": "IPY_MODEL_6bb95ef040834b8aad081664ca671f53",
            "_dom_classes": [],
            "description": "",
            "_model_name": "HTMLModel",
            "placeholder": "​",
            "_view_module": "@jupyter-widgets/controls",
            "_model_module_version": "1.5.0",
            "value": "replaying log with TBR, completed variants :: 100%",
            "_view_count": null,
            "_view_module_version": "1.5.0",
            "description_tooltip": null,
            "_model_module": "@jupyter-widgets/controls",
            "layout": "IPY_MODEL_a1616efd976f4dd28d0540445a9d305d"
          }
        },
        "de48a2a7d3f640db88a6ca975a3be9df": {
          "model_module": "@jupyter-widgets/controls",
          "model_name": "FloatProgressModel",
          "model_module_version": "1.5.0",
          "state": {
            "_view_name": "ProgressView",
            "style": "IPY_MODEL_04652a99cdfd41bfbf02245c894bda71",
            "_dom_classes": [],
            "description": "",
            "_model_name": "FloatProgressModel",
            "bar_style": "success",
            "max": 131,
            "_view_module": "@jupyter-widgets/controls",
            "_model_module_version": "1.5.0",
            "value": 131,
            "_view_count": null,
            "_view_module_version": "1.5.0",
            "orientation": "horizontal",
            "min": 0,
            "description_tooltip": null,
            "_model_module": "@jupyter-widgets/controls",
            "layout": "IPY_MODEL_91cd18fbad394cb087fa0092aeb7f597"
          }
        },
        "816060d194dd4ba0ba4d7974aecac29b": {
          "model_module": "@jupyter-widgets/controls",
          "model_name": "HTMLModel",
          "model_module_version": "1.5.0",
          "state": {
            "_view_name": "HTMLView",
            "style": "IPY_MODEL_6dcaac64f8664ea8a8112a7160c1f3a1",
            "_dom_classes": [],
            "description": "",
            "_model_name": "HTMLModel",
            "placeholder": "​",
            "_view_module": "@jupyter-widgets/controls",
            "_model_module_version": "1.5.0",
            "value": " 131/131 [00:00&lt;00:00, 526.82it/s]",
            "_view_count": null,
            "_view_module_version": "1.5.0",
            "description_tooltip": null,
            "_model_module": "@jupyter-widgets/controls",
            "layout": "IPY_MODEL_1417259f670e460db47fe86ed3a6b89b"
          }
        },
        "6bb95ef040834b8aad081664ca671f53": {
          "model_module": "@jupyter-widgets/controls",
          "model_name": "DescriptionStyleModel",
          "model_module_version": "1.5.0",
          "state": {
            "_view_name": "StyleView",
            "_model_name": "DescriptionStyleModel",
            "description_width": "",
            "_view_module": "@jupyter-widgets/base",
            "_model_module_version": "1.5.0",
            "_view_count": null,
            "_view_module_version": "1.2.0",
            "_model_module": "@jupyter-widgets/controls"
          }
        },
        "a1616efd976f4dd28d0540445a9d305d": {
          "model_module": "@jupyter-widgets/base",
          "model_name": "LayoutModel",
          "model_module_version": "1.2.0",
          "state": {
            "_view_name": "LayoutView",
            "grid_template_rows": null,
            "right": null,
            "justify_content": null,
            "_view_module": "@jupyter-widgets/base",
            "overflow": null,
            "_model_module_version": "1.2.0",
            "_view_count": null,
            "flex_flow": null,
            "width": null,
            "min_width": null,
            "border": null,
            "align_items": null,
            "bottom": null,
            "_model_module": "@jupyter-widgets/base",
            "top": null,
            "grid_column": null,
            "overflow_y": null,
            "overflow_x": null,
            "grid_auto_flow": null,
            "grid_area": null,
            "grid_template_columns": null,
            "flex": null,
            "_model_name": "LayoutModel",
            "justify_items": null,
            "grid_row": null,
            "max_height": null,
            "align_content": null,
            "visibility": null,
            "align_self": null,
            "height": null,
            "min_height": null,
            "padding": null,
            "grid_auto_rows": null,
            "grid_gap": null,
            "max_width": null,
            "order": null,
            "_view_module_version": "1.2.0",
            "grid_template_areas": null,
            "object_position": null,
            "object_fit": null,
            "grid_auto_columns": null,
            "margin": null,
            "display": null,
            "left": null
          }
        },
        "04652a99cdfd41bfbf02245c894bda71": {
          "model_module": "@jupyter-widgets/controls",
          "model_name": "ProgressStyleModel",
          "model_module_version": "1.5.0",
          "state": {
            "_view_name": "StyleView",
            "_model_name": "ProgressStyleModel",
            "description_width": "",
            "_view_module": "@jupyter-widgets/base",
            "_model_module_version": "1.5.0",
            "_view_count": null,
            "_view_module_version": "1.2.0",
            "bar_color": null,
            "_model_module": "@jupyter-widgets/controls"
          }
        },
        "91cd18fbad394cb087fa0092aeb7f597": {
          "model_module": "@jupyter-widgets/base",
          "model_name": "LayoutModel",
          "model_module_version": "1.2.0",
          "state": {
            "_view_name": "LayoutView",
            "grid_template_rows": null,
            "right": null,
            "justify_content": null,
            "_view_module": "@jupyter-widgets/base",
            "overflow": null,
            "_model_module_version": "1.2.0",
            "_view_count": null,
            "flex_flow": null,
            "width": null,
            "min_width": null,
            "border": null,
            "align_items": null,
            "bottom": null,
            "_model_module": "@jupyter-widgets/base",
            "top": null,
            "grid_column": null,
            "overflow_y": null,
            "overflow_x": null,
            "grid_auto_flow": null,
            "grid_area": null,
            "grid_template_columns": null,
            "flex": null,
            "_model_name": "LayoutModel",
            "justify_items": null,
            "grid_row": null,
            "max_height": null,
            "align_content": null,
            "visibility": null,
            "align_self": null,
            "height": null,
            "min_height": null,
            "padding": null,
            "grid_auto_rows": null,
            "grid_gap": null,
            "max_width": null,
            "order": null,
            "_view_module_version": "1.2.0",
            "grid_template_areas": null,
            "object_position": null,
            "object_fit": null,
            "grid_auto_columns": null,
            "margin": null,
            "display": null,
            "left": null
          }
        },
        "6dcaac64f8664ea8a8112a7160c1f3a1": {
          "model_module": "@jupyter-widgets/controls",
          "model_name": "DescriptionStyleModel",
          "model_module_version": "1.5.0",
          "state": {
            "_view_name": "StyleView",
            "_model_name": "DescriptionStyleModel",
            "description_width": "",
            "_view_module": "@jupyter-widgets/base",
            "_model_module_version": "1.5.0",
            "_view_count": null,
            "_view_module_version": "1.2.0",
            "_model_module": "@jupyter-widgets/controls"
          }
        },
        "1417259f670e460db47fe86ed3a6b89b": {
          "model_module": "@jupyter-widgets/base",
          "model_name": "LayoutModel",
          "model_module_version": "1.2.0",
          "state": {
            "_view_name": "LayoutView",
            "grid_template_rows": null,
            "right": null,
            "justify_content": null,
            "_view_module": "@jupyter-widgets/base",
            "overflow": null,
            "_model_module_version": "1.2.0",
            "_view_count": null,
            "flex_flow": null,
            "width": null,
            "min_width": null,
            "border": null,
            "align_items": null,
            "bottom": null,
            "_model_module": "@jupyter-widgets/base",
            "top": null,
            "grid_column": null,
            "overflow_y": null,
            "overflow_x": null,
            "grid_auto_flow": null,
            "grid_area": null,
            "grid_template_columns": null,
            "flex": null,
            "_model_name": "LayoutModel",
            "justify_items": null,
            "grid_row": null,
            "max_height": null,
            "align_content": null,
            "visibility": null,
            "align_self": null,
            "height": null,
            "min_height": null,
            "padding": null,
            "grid_auto_rows": null,
            "grid_gap": null,
            "max_width": null,
            "order": null,
            "_view_module_version": "1.2.0",
            "grid_template_areas": null,
            "object_position": null,
            "object_fit": null,
            "grid_auto_columns": null,
            "margin": null,
            "display": null,
            "left": null
          }
        },
        "77a9a76e48984a5b9bc88a4dc370e43f": {
          "model_module": "@jupyter-widgets/controls",
          "model_name": "HBoxModel",
          "model_module_version": "1.5.0",
          "state": {
            "_view_name": "HBoxView",
            "_dom_classes": [],
            "_model_name": "HBoxModel",
            "_view_module": "@jupyter-widgets/controls",
            "_model_module_version": "1.5.0",
            "_view_count": null,
            "_view_module_version": "1.5.0",
            "box_style": "",
            "layout": "IPY_MODEL_32e606ac1c7f4bebb28c93acebedd2ca",
            "_model_module": "@jupyter-widgets/controls",
            "children": [
              "IPY_MODEL_440b6335cf8147a6a022fe56f20a3c19",
              "IPY_MODEL_6a451d6d224b491d9cbccfbf93276bcf",
              "IPY_MODEL_c3b2026a863442e3a8d706d70ba11b6b"
            ]
          }
        },
        "32e606ac1c7f4bebb28c93acebedd2ca": {
          "model_module": "@jupyter-widgets/base",
          "model_name": "LayoutModel",
          "model_module_version": "1.2.0",
          "state": {
            "_view_name": "LayoutView",
            "grid_template_rows": null,
            "right": null,
            "justify_content": null,
            "_view_module": "@jupyter-widgets/base",
            "overflow": null,
            "_model_module_version": "1.2.0",
            "_view_count": null,
            "flex_flow": null,
            "width": null,
            "min_width": null,
            "border": null,
            "align_items": null,
            "bottom": null,
            "_model_module": "@jupyter-widgets/base",
            "top": null,
            "grid_column": null,
            "overflow_y": null,
            "overflow_x": null,
            "grid_auto_flow": null,
            "grid_area": null,
            "grid_template_columns": null,
            "flex": null,
            "_model_name": "LayoutModel",
            "justify_items": null,
            "grid_row": null,
            "max_height": null,
            "align_content": null,
            "visibility": null,
            "align_self": null,
            "height": null,
            "min_height": null,
            "padding": null,
            "grid_auto_rows": null,
            "grid_gap": null,
            "max_width": null,
            "order": null,
            "_view_module_version": "1.2.0",
            "grid_template_areas": null,
            "object_position": null,
            "object_fit": null,
            "grid_auto_columns": null,
            "margin": null,
            "display": null,
            "left": null
          }
        },
        "440b6335cf8147a6a022fe56f20a3c19": {
          "model_module": "@jupyter-widgets/controls",
          "model_name": "HTMLModel",
          "model_module_version": "1.5.0",
          "state": {
            "_view_name": "HTMLView",
            "style": "IPY_MODEL_ff984fb1570b4e4c9bd27c55e50a3e3b",
            "_dom_classes": [],
            "description": "",
            "_model_name": "HTMLModel",
            "placeholder": "​",
            "_view_module": "@jupyter-widgets/controls",
            "_model_module_version": "1.5.0",
            "value": "replaying log with TBR, completed variants :: 100%",
            "_view_count": null,
            "_view_module_version": "1.5.0",
            "description_tooltip": null,
            "_model_module": "@jupyter-widgets/controls",
            "layout": "IPY_MODEL_f4eee43131ff4de4ae18296687bcc38a"
          }
        },
        "6a451d6d224b491d9cbccfbf93276bcf": {
          "model_module": "@jupyter-widgets/controls",
          "model_name": "FloatProgressModel",
          "model_module_version": "1.5.0",
          "state": {
            "_view_name": "ProgressView",
            "style": "IPY_MODEL_0f180b955a8d43c1b0a8c8ae6a19ca36",
            "_dom_classes": [],
            "description": "",
            "_model_name": "FloatProgressModel",
            "bar_style": "success",
            "max": 3,
            "_view_module": "@jupyter-widgets/controls",
            "_model_module_version": "1.5.0",
            "value": 3,
            "_view_count": null,
            "_view_module_version": "1.5.0",
            "orientation": "horizontal",
            "min": 0,
            "description_tooltip": null,
            "_model_module": "@jupyter-widgets/controls",
            "layout": "IPY_MODEL_9909c4bed5984574ac38512ea79c0733"
          }
        },
        "c3b2026a863442e3a8d706d70ba11b6b": {
          "model_module": "@jupyter-widgets/controls",
          "model_name": "HTMLModel",
          "model_module_version": "1.5.0",
          "state": {
            "_view_name": "HTMLView",
            "style": "IPY_MODEL_f9cef96d74fc457b9d8ea14c2e3432bd",
            "_dom_classes": [],
            "description": "",
            "_model_name": "HTMLModel",
            "placeholder": "​",
            "_view_module": "@jupyter-widgets/controls",
            "_model_module_version": "1.5.0",
            "value": " 3/3 [00:00&lt;00:00, 58.40it/s]",
            "_view_count": null,
            "_view_module_version": "1.5.0",
            "description_tooltip": null,
            "_model_module": "@jupyter-widgets/controls",
            "layout": "IPY_MODEL_1945a9ba8d104523ae2424e72a9451d2"
          }
        },
        "ff984fb1570b4e4c9bd27c55e50a3e3b": {
          "model_module": "@jupyter-widgets/controls",
          "model_name": "DescriptionStyleModel",
          "model_module_version": "1.5.0",
          "state": {
            "_view_name": "StyleView",
            "_model_name": "DescriptionStyleModel",
            "description_width": "",
            "_view_module": "@jupyter-widgets/base",
            "_model_module_version": "1.5.0",
            "_view_count": null,
            "_view_module_version": "1.2.0",
            "_model_module": "@jupyter-widgets/controls"
          }
        },
        "f4eee43131ff4de4ae18296687bcc38a": {
          "model_module": "@jupyter-widgets/base",
          "model_name": "LayoutModel",
          "model_module_version": "1.2.0",
          "state": {
            "_view_name": "LayoutView",
            "grid_template_rows": null,
            "right": null,
            "justify_content": null,
            "_view_module": "@jupyter-widgets/base",
            "overflow": null,
            "_model_module_version": "1.2.0",
            "_view_count": null,
            "flex_flow": null,
            "width": null,
            "min_width": null,
            "border": null,
            "align_items": null,
            "bottom": null,
            "_model_module": "@jupyter-widgets/base",
            "top": null,
            "grid_column": null,
            "overflow_y": null,
            "overflow_x": null,
            "grid_auto_flow": null,
            "grid_area": null,
            "grid_template_columns": null,
            "flex": null,
            "_model_name": "LayoutModel",
            "justify_items": null,
            "grid_row": null,
            "max_height": null,
            "align_content": null,
            "visibility": null,
            "align_self": null,
            "height": null,
            "min_height": null,
            "padding": null,
            "grid_auto_rows": null,
            "grid_gap": null,
            "max_width": null,
            "order": null,
            "_view_module_version": "1.2.0",
            "grid_template_areas": null,
            "object_position": null,
            "object_fit": null,
            "grid_auto_columns": null,
            "margin": null,
            "display": null,
            "left": null
          }
        },
        "0f180b955a8d43c1b0a8c8ae6a19ca36": {
          "model_module": "@jupyter-widgets/controls",
          "model_name": "ProgressStyleModel",
          "model_module_version": "1.5.0",
          "state": {
            "_view_name": "StyleView",
            "_model_name": "ProgressStyleModel",
            "description_width": "",
            "_view_module": "@jupyter-widgets/base",
            "_model_module_version": "1.5.0",
            "_view_count": null,
            "_view_module_version": "1.2.0",
            "bar_color": null,
            "_model_module": "@jupyter-widgets/controls"
          }
        },
        "9909c4bed5984574ac38512ea79c0733": {
          "model_module": "@jupyter-widgets/base",
          "model_name": "LayoutModel",
          "model_module_version": "1.2.0",
          "state": {
            "_view_name": "LayoutView",
            "grid_template_rows": null,
            "right": null,
            "justify_content": null,
            "_view_module": "@jupyter-widgets/base",
            "overflow": null,
            "_model_module_version": "1.2.0",
            "_view_count": null,
            "flex_flow": null,
            "width": null,
            "min_width": null,
            "border": null,
            "align_items": null,
            "bottom": null,
            "_model_module": "@jupyter-widgets/base",
            "top": null,
            "grid_column": null,
            "overflow_y": null,
            "overflow_x": null,
            "grid_auto_flow": null,
            "grid_area": null,
            "grid_template_columns": null,
            "flex": null,
            "_model_name": "LayoutModel",
            "justify_items": null,
            "grid_row": null,
            "max_height": null,
            "align_content": null,
            "visibility": null,
            "align_self": null,
            "height": null,
            "min_height": null,
            "padding": null,
            "grid_auto_rows": null,
            "grid_gap": null,
            "max_width": null,
            "order": null,
            "_view_module_version": "1.2.0",
            "grid_template_areas": null,
            "object_position": null,
            "object_fit": null,
            "grid_auto_columns": null,
            "margin": null,
            "display": null,
            "left": null
          }
        },
        "f9cef96d74fc457b9d8ea14c2e3432bd": {
          "model_module": "@jupyter-widgets/controls",
          "model_name": "DescriptionStyleModel",
          "model_module_version": "1.5.0",
          "state": {
            "_view_name": "StyleView",
            "_model_name": "DescriptionStyleModel",
            "description_width": "",
            "_view_module": "@jupyter-widgets/base",
            "_model_module_version": "1.5.0",
            "_view_count": null,
            "_view_module_version": "1.2.0",
            "_model_module": "@jupyter-widgets/controls"
          }
        },
        "1945a9ba8d104523ae2424e72a9451d2": {
          "model_module": "@jupyter-widgets/base",
          "model_name": "LayoutModel",
          "model_module_version": "1.2.0",
          "state": {
            "_view_name": "LayoutView",
            "grid_template_rows": null,
            "right": null,
            "justify_content": null,
            "_view_module": "@jupyter-widgets/base",
            "overflow": null,
            "_model_module_version": "1.2.0",
            "_view_count": null,
            "flex_flow": null,
            "width": null,
            "min_width": null,
            "border": null,
            "align_items": null,
            "bottom": null,
            "_model_module": "@jupyter-widgets/base",
            "top": null,
            "grid_column": null,
            "overflow_y": null,
            "overflow_x": null,
            "grid_auto_flow": null,
            "grid_area": null,
            "grid_template_columns": null,
            "flex": null,
            "_model_name": "LayoutModel",
            "justify_items": null,
            "grid_row": null,
            "max_height": null,
            "align_content": null,
            "visibility": null,
            "align_self": null,
            "height": null,
            "min_height": null,
            "padding": null,
            "grid_auto_rows": null,
            "grid_gap": null,
            "max_width": null,
            "order": null,
            "_view_module_version": "1.2.0",
            "grid_template_areas": null,
            "object_position": null,
            "object_fit": null,
            "grid_auto_columns": null,
            "margin": null,
            "display": null,
            "left": null
          }
        }
      }
    }
  },
  "cells": [
    {
      "cell_type": "markdown",
      "metadata": {
        "id": "view-in-github",
        "colab_type": "text"
      },
      "source": [
        "<a href=\"https://colab.research.google.com/github/MoritzHaw/BPI2019_Colabatory/blob/main/nGR.ipynb\" target=\"_parent\"><img src=\"https://colab.research.google.com/assets/colab-badge.svg\" alt=\"Open In Colab\"/></a>"
      ]
    },
    {
      "cell_type": "code",
      "execution_count": null,
      "metadata": {
        "id": "WifNu__T-Q46"
      },
      "outputs": [],
      "source": [
        "%pip install pm4py"
      ]
    },
    {
      "cell_type": "code",
      "source": [
        "import pm4py\n",
        "import numpy as np\n",
        "import pandas as pd\n",
        "import zipfile"
      ],
      "metadata": {
        "id": "Mk7xpqUe-UmL"
      },
      "execution_count": null,
      "outputs": []
    },
    {
      "cell_type": "code",
      "source": [
        "from pm4py.objects.log.util import dataframe_utils\n",
        "from pm4py.objects.conversion.log import converter as log_converter\n",
        "\n",
        "#zf = zipfile.ZipFile('/content/CSV_nGR_filtered') \n",
        "#log_csv = pd.read_pickle('/content/PKL_IVbGR_filtered')\n",
        "log_csv = pd.read_csv('/content/CSV_nGR_filtered', encoding='cp1252',sep=',')\n",
        "log_csv = dataframe_utils.convert_timestamp_columns_in_df(log_csv)"
      ],
      "metadata": {
        "id": "92Q79pa_-X6T"
      },
      "execution_count": null,
      "outputs": []
    },
    {
      "cell_type": "code",
      "source": [
        "log_csv"
      ],
      "metadata": {
        "id": "gdNWkfaX-q2x"
      },
      "execution_count": null,
      "outputs": []
    },
    {
      "cell_type": "code",
      "source": [
        "def to_eventlog(dataset):\n",
        "  # Convert log_csv to event_log\n",
        "  parameters = {log_converter.Variants.TO_EVENT_LOG.value.Parameters.CASE_ID_KEY: 'case:concept:name'}  # identify the case_id_key name (if not change it will simply be the nane of the coloumn)\n",
        "  event_log = log_converter.apply(dataset, parameters=parameters, variant=log_converter.Variants.TO_EVENT_LOG)\n",
        "  return event_log"
      ],
      "metadata": {
        "id": "rAzOVCKE-rf1"
      },
      "execution_count": null,
      "outputs": []
    },
    {
      "cell_type": "code",
      "source": [
        "event_log = to_eventlog(log_csv)"
      ],
      "metadata": {
        "id": "oOBRuolb-8lU"
      },
      "execution_count": null,
      "outputs": []
    },
    {
      "cell_type": "code",
      "source": [
        "from pm4py.statistics.traces.generic.pandas import case_statistics  # filter variants\n",
        "\n",
        "def filter_by_variants(dataset):\n",
        "        variants = case_statistics.get_variants_df(dataset, parameters={\n",
        "            case_statistics.Parameters.CASE_ID_KEY: \"case:concept:name\",\n",
        "            case_statistics.Parameters.ACTIVITY_KEY: \"concept:name\"})\n",
        "        return variants\n"
      ],
      "metadata": {
        "id": "Rme1E2UjwW3B"
      },
      "execution_count": null,
      "outputs": []
    },
    {
      "cell_type": "markdown",
      "source": [
        "# Miner & Graphen"
      ],
      "metadata": {
        "id": "BxOFgtmP_G64"
      }
    },
    {
      "cell_type": "code",
      "source": [
        "def direct_follow_graph(e_log):\n",
        "\n",
        "  # visualize as direct follow graph\n",
        "\n",
        "    from pm4py.algo.discovery.dfg import algorithm as dfg_discovery\n",
        "    dfg = dfg_discovery.apply(e_log)\n",
        "\n",
        "    # Filter direct followed graph\n",
        "    dfg, sa, ea = pm4py.discover_directly_follows_graph(e_log)\n",
        "    activities_count = pm4py.get_event_attribute_values(e_log, \"concept:name\")\n",
        "\n",
        "    # filter activites - only top 10 percent\n",
        "\n",
        "    from pm4py.algo.filtering.dfg import dfg_filtering\n",
        "    dfg, sa, ea, activities_count = dfg_filtering.filter_dfg_on_activities_percentage(dfg, sa, ea, activities_count, 0.2)\n",
        "\n",
        "    # filter paths - only 10 percent\n",
        "\n",
        "    dfg, sa, ea, activities_count = dfg_filtering.filter_dfg_on_paths_percentage(dfg, sa, ea, activities_count, 0.1)\n",
        "                                        \n",
        "                                        \n",
        "\n",
        "    from pm4py.visualization.dfg import visualizer as dfg_visualization\n",
        "    gviz = dfg_visualization.apply(dfg, log=e_log, variant=dfg_visualization.Variants.FREQUENCY)\n",
        "    dfg_visualization.view(gviz)"
      ],
      "metadata": {
        "id": "xs138uF8_Jl1"
      },
      "execution_count": null,
      "outputs": []
    },
    {
      "cell_type": "code",
      "source": [
        "# Heuristic miner\n",
        "from pm4py.algo.discovery.heuristics import algorithm as heuristics_miner\n",
        "import matplotlib.pyplot as plt\n",
        "from pm4py.visualization.heuristics_net import visualizer as hn_visualizer\n",
        "\n",
        "\n",
        "def heuristic_miner(e_log):\n",
        "\n",
        "    heu_net = heuristics_miner.apply_heu(event_log, parameters={heuristics_miner.Variants.CLASSIC.value.Parameters.DEPENDENCY_THRESH: 0.99, heuristics_miner.Variants.CLASSIC.value.Parameters.MIN_ACT_COUNT: 1000,\n",
        "                                                              heuristics_miner.Variants.CLASSIC.value.Parameters.MIN_DFG_OCCURRENCES: 1000})\n",
        "    plt.figure(figsize=(5,5))\n",
        "                        \n",
        "    gviz = hn_visualizer.apply(heu_net)\n",
        "    hn_visualizer.view(gviz)"
      ],
      "metadata": {
        "id": "TXkZdaoQ_Phd"
      },
      "execution_count": null,
      "outputs": []
    },
    {
      "cell_type": "code",
      "source": [
        "# petri net from heuristic miner\n",
        "from pm4py.visualization.petri_net import visualizer as pn_visualizer\n",
        "\n",
        "\n",
        "  # Visualise a Petri Net\n",
        "def visualize_petri_heu(e_log, net, im, fm):\n",
        "    gviz = pn_visualizer.apply(net, im, fm, log=e_log, variant=pn_visualizer.Variants.FREQUENCY)\n",
        "    pn_visualizer.view(gviz)\n",
        "\n",
        "def petri_from_heu(e_log, tresh: float, min_act_count, min_dfg_occurences):\n",
        "\n",
        "    parameters = {heuristics_miner.Variants.CLASSIC.value.Parameters.DEPENDENCY_THRESH: tresh, heuristics_miner.Variants.CLASSIC.value.Parameters.MIN_ACT_COUNT: min_act_count, heuristics_miner.Variants.CLASSIC.value.Parameters.MIN_DFG_OCCURRENCES: min_dfg_occurences} \n",
        "    net, im, fm = heuristics_miner.apply(e_log, parameters=parameters)\n",
        "\n",
        "    return net, im, fm      "
      ],
      "metadata": {
        "id": "Of6EKuVC_Rum"
      },
      "execution_count": null,
      "outputs": []
    },
    {
      "cell_type": "code",
      "source": [
        "# process tree from inductive miner\n",
        "\n",
        "from pm4py.algo.discovery.inductive import algorithm as inductive_miner\n",
        "from pm4py.visualization.process_tree import visualizer as pt_visualizer\n",
        "\n",
        "def visualize_pt(tree):\n",
        "    gviz = pt_visualizer.apply(tree, parameters={pt_visualizer.Variants.WO_DECORATION.value.Parameters.FORMAT: \"png\"})\n",
        "    pt_visualizer.view(gviz)\n",
        " \n",
        "def pt_from_inductive_im(e_log): # Produces a model with perfect replay fitness.\n",
        "\n",
        "    net, im, fm = inductive_miner.apply(e_log, variant=inductive_miner.Variants.IM)\n",
        "    tree = inductive_miner.apply_tree(e_log, variant=inductive_miner.Variants.IM)  \n",
        "          \n",
        "\n",
        "    #visualize_pt(tree)    \n",
        "  \n",
        "    return net, im, fm, tree\n",
        "\n",
        "def pt_from_inductive_imf(e_log, tresh): # Produces a more precise model, without fitness guarantees, by eliminating some behavior.\n",
        "    net, im, fm = inductive_miner.apply(e_log, variant=inductive_miner.Variants.IMf, parameters={inductive_miner.Variants.IMf.value.Parameters.NOISE_THRESHOLD: tresh})\n",
        "    tree = inductive_miner.apply_tree(e_log, variant=inductive_miner.Variants.IMf,\n",
        "                                          parameters={inductive_miner.Variants.IMf.value.Parameters.NOISE_THRESHOLD: tresh})  #The noise threshold (between 0.0 and 1.0) to be used. Default: 0.2\n",
        "          \n",
        " \n",
        "    #visualize_pt(tree) \n",
        "  \n",
        "    return net, im, fm, tree  \n",
        "\n",
        "\n",
        "def pt_from_inductive_imd(e_log, tresh): # A variant of inductive miner that considers only the directly-follows graph, for maximum performance. However, replay fitness guarantees are lost.\n",
        "    net, im, fm = inductive_miner.apply(e_log, variant=inductive_miner.Variants.IMd, parameters={inductive_miner.Variants.IMd.value.Parameters.NOISE_THRESHOLD: tresh})\n",
        "    tree = inductive_miner.apply_tree(e_log, variant=inductive_miner.Variants.IMd,\n",
        "                                          parameters={inductive_miner.Variants.IMd.value.Parameters.NOISE_THRESHOLD: tresh})  #The noise threshold (between 0.0 and 1.0) to be used. Default: 0.2\n",
        "          \n",
        "\n",
        "    #visualize_pt(tree) \n",
        "  \n",
        "    return net, im, fm, tree  \n"
      ],
      "metadata": {
        "id": "BW4Y6zn-_UxZ"
      },
      "execution_count": null,
      "outputs": []
    },
    {
      "cell_type": "code",
      "source": [
        "# Convert process tree into a Petri Net\n",
        "from pm4py.objects.conversion.process_tree import converter as pt_converter\n",
        "\n",
        "def petri_from_pt(tree, e_log):\n",
        "  \n",
        "  net, im, fm = pt_converter.apply(tree)\n",
        "  ## Visualise\n",
        "  gviz = pn_visualizer.apply(net, im, fm, \n",
        "                            variant=pn_visualizer.Variants.FREQUENCY, \n",
        "                            log=e_log)\n",
        "  pn_visualizer.view(gviz)\n",
        "\n",
        "  return net, im, fm"
      ],
      "metadata": {
        "id": "eO6aSPwla4-v"
      },
      "execution_count": null,
      "outputs": []
    },
    {
      "cell_type": "code",
      "source": [
        "\n",
        "from pm4py.objects.conversion.wf_net import converter as wf_net_converter\n",
        "\n",
        "def pt_from_alpha(e_log):\n",
        "  net, im, fm = pm4py.discover_petri_net_alpha(log)\n",
        "  \n",
        "\n",
        "  tree = wf_net_converter.apply(net, im, fm)\n",
        "  print(tree)"
      ],
      "metadata": {
        "id": "IHyHpPi7IIa6"
      },
      "execution_count": null,
      "outputs": []
    },
    {
      "cell_type": "markdown",
      "source": [
        "# BPMN"
      ],
      "metadata": {
        "id": "naqynk4gTk8N"
      }
    },
    {
      "cell_type": "code",
      "source": [
        "#bpmn\n",
        "\n",
        "from pm4py.objects.conversion.process_tree import converter\n",
        "from pm4py.objects.bpmn.layout import layouter\n",
        "\n",
        "\n",
        "def to_bpmn(pt_tree, name: str):\n",
        "\n",
        "  bpmn = converter.apply(pt_tree, variant=converter.Variants.TO_BPMN)\n",
        "  bpmn = layouter.apply(bpmn, variant=layouter.Variants.GRAPHVIZ)\n",
        "  #pm4py.visualization.bpmn.visualizer.matplotlib_view(bpmn)\n",
        "  pm4py.write_bpmn(bpmn, name, enable_layout=True)"
      ],
      "metadata": {
        "id": "ZlrQoAYNTmtY"
      },
      "execution_count": null,
      "outputs": []
    },
    {
      "cell_type": "markdown",
      "source": [
        "# Testing"
      ],
      "metadata": {
        "id": "1v6st8t5_gGg"
      }
    },
    {
      "cell_type": "code",
      "source": [
        "def calculate_score(fitness, prec, gen, simp):\n",
        "    fit_sum = fitness.get('perc_fit_traces') + (fitness.get('average_trace_fitness')*100) + (fitness.get('log_fitness')*100) + fitness.get('percentage_of_fitting_traces')\n",
        "    fit = (fit_sum/4)/100\n",
        "    score = fit + prec + gen + simp\n",
        "    return score"
      ],
      "metadata": {
        "id": "YSHz_Yln_hKz"
      },
      "execution_count": null,
      "outputs": []
    },
    {
      "cell_type": "code",
      "source": [
        "from pm4py.algo.evaluation.replay_fitness import algorithm as replay_fitness_evaluator\n",
        "from pm4py.algo.evaluation.precision import algorithm as precision_evaluator\n",
        "from pm4py.algo.evaluation.generalization import algorithm as generalization_evaluator\n",
        "from pm4py.algo.evaluation.simplicity import algorithm as simplicity_evaluator\n",
        "\n",
        "def test(e_log, net, im, fm):\n",
        "        fitness = replay_fitness_evaluator.apply(e_log, net, im, fm, variant=replay_fitness_evaluator.Variants.TOKEN_BASED)\n",
        "        print('Fitness: ', fitness)\n",
        "        \n",
        "        #perc_fit_traces': 87.56476683937824, 'average_trace_fitness': 0.9990753857628418, 'log_fitness': 0.9983287356471942, 'percentage_of_fitting_traces'\n",
        "        prec = precision_evaluator.apply(e_log, net, im, fm, variant=precision_evaluator.Variants.ETCONFORMANCE_TOKEN)\n",
        "        print('Precision: ', prec)\n",
        "\n",
        "        gen = generalization_evaluator.apply(e_log, net, im, fm)\n",
        "        print('Generalization: ', gen)\n",
        "\n",
        "        simp = simplicity_evaluator.apply(net)\n",
        "        print('Simplicity: ', simp)\n",
        "\n",
        "        score = calculate_score(fitness, prec, gen, simp)\n",
        "        return score"
      ],
      "metadata": {
        "id": "ozCwrxEJ_lVF"
      },
      "execution_count": null,
      "outputs": []
    },
    {
      "cell_type": "code",
      "source": [
        "\n",
        "def get_best_petri(e_log):\n",
        "\n",
        "   highest_score = []\n",
        "   min_dfg_occurences = [0, 300, 600]\n",
        "   min_act_count = [0,300, 600]\n",
        "   dependency_tresh = [0.0, 0.5, 0.99]\n",
        "   score = 0\n",
        "   \n",
        "   for k in dependency_tresh:\n",
        "    for j in min_act_count:\n",
        "     for i in min_dfg_occurences:\n",
        "          net, im, fm = petri_from_heu(e_log, k, j, i)\n",
        "          calc_score = test(e_log, net, im, fm)\n",
        "          if calc_score > score:\n",
        "            score = calc_score\n",
        "            highest_score.clear()\n",
        "            highest_score.append([k, j, i, score])\n",
        "\n",
        "   print(highest_score)\n",
        "   return highest_score"
      ],
      "metadata": {
        "id": "d7JFSRJB_n7m"
      },
      "execution_count": null,
      "outputs": []
    },
    {
      "cell_type": "code",
      "source": [
        "def get_best_pt_from_inductive(e_log):\n",
        "   \n",
        "   \n",
        "   dependency_tresh = [0.0, 0.19,  0.39,  0.59,  0.79, 0.99]\n",
        "   \n",
        "\n",
        "   def test_im():\n",
        "      score = 0\n",
        "      highest_score = []\n",
        "      net, im, fm, tree = pt_from_inductive_im(e_log)\n",
        "      calc_score = test(e_log, net, im, fm)\n",
        "      highest_score.append([calc_score])\n",
        "      return highest_score\n",
        "\n",
        "   def test_imf():\n",
        "      score = 0\n",
        "      highest_score = []\n",
        "      for k in dependency_tresh:\n",
        "              net, im, fm, tree = pt_from_inductive_imf(e_log, k)\n",
        "              calc_score = test(e_log, net, im, fm)\n",
        "              if calc_score > score:\n",
        "                score = calc_score\n",
        "                highest_score.clear()\n",
        "                highest_score.append([k, score])\n",
        "      return highest_score\n",
        "\n",
        "   def test_imd():\n",
        "      score = 0\n",
        "      highest_score = []\n",
        "      for k in dependency_tresh:\n",
        "              net, im, fm, tree = pt_from_inductive_imd(e_log, k)\n",
        "              calc_score = test(e_log, net, im, fm)\n",
        "              if calc_score > score:\n",
        "                score = calc_score\n",
        "                highest_score.clear()\n",
        "                highest_score.append([k, score])\n",
        "      return highest_score\n",
        "\n",
        "   im_score = test_im()\n",
        "   imf_score = test_imf()\n",
        "   imd_score = test_imd()\n",
        "\n",
        "   print('im_score: ', im_score)\n",
        "   print('imf_score: ', imf_score)\n",
        "   print('imd_score: ', imd_score)\n",
        "   return im_score, imf_score, imd_score"
      ],
      "metadata": {
        "id": "9N--Uysf__NA"
      },
      "execution_count": null,
      "outputs": []
    },
    {
      "cell_type": "code",
      "source": [
        ""
      ],
      "metadata": {
        "id": "uGIUlNp1PZeu"
      },
      "execution_count": null,
      "outputs": []
    },
    {
      "cell_type": "markdown",
      "source": [
        "# Filter Mehtods to improve visibility"
      ],
      "metadata": {
        "id": "xrUQC79cm2Fo"
      }
    },
    {
      "cell_type": "code",
      "source": [
        "# filter between EC Purchase Orders(SRM) and without SRM\n",
        "\n",
        "from pm4py.algo.filtering.pandas.attributes import attributes_filter\n",
        "\n",
        "def filter_log_by_x(dataset, doc_type: str, attr_key: str, pos_neg: bool):\n",
        "\n",
        "    df_traces = attributes_filter.apply(dataset, [doc_type],\n",
        "                                          parameters={attributes_filter.Parameters.CASE_ID_KEY: \"case:concept:name\", attributes_filter.Parameters.ATTRIBUTE_KEY: attr_key, attributes_filter.Parameters.POSITIVE: pos_neg})\n",
        "    \n",
        "    return df_traces\n",
        "\n",
        "\n",
        "def filter_eventlog_by_docType(e_log, doc_type: str):\n",
        "   \n",
        "  \n",
        "    tracefilter_pos = attributes_filter.apply(e_log, doc_Type,\n",
        "                                          parameters={attributes_filter.Parameters.ATTRIBUTE_KEY: \"case:doc:type\", attributes_filter.Parameters.POSITIVE: True})\n",
        "    \n",
        "    #tracefilter_neg = attributes_filter.apply(e_log, [doc_type],parameters={\n",
        "    #                                                  attributes_filter.Parameters.ATTRIBUTE_KEY: \"case:doc:type\", attributes_filter.Parameters.POSITIVE: False})\n",
        "    \n",
        "    return tracefilter_pos# tracefilter_neg"
      ],
      "metadata": {
        "id": "xV-lxtdCGWIc"
      },
      "execution_count": null,
      "outputs": []
    },
    {
      "cell_type": "code",
      "source": [
        "# compare before and after filtering date \n",
        "\n",
        "import matplotlib.pyplot as plt\n",
        "import seaborn as sns\n",
        "\n",
        "def comp_value_in_data(dataset1):\n",
        "\n",
        "    data = dict(dataset1)\n",
        "\n",
        "    plt.style.use('ggplot')\n",
        "\n",
        "    x = list(data.keys())\n",
        "    events = list(dataset1)\n",
        "\n",
        "    x_pos = [i for i, _ in enumerate(x)]\n",
        "    sns.set(rc={'axes.facecolor':'white', 'figure.facecolor':'white'})\n",
        "    color = sns.color_palette(\"muted\")\n",
        "    plt.figure(1, figsize=(5, 5))  # size\n",
        "    plt.bar(x_pos, events, color=color)\n",
        "    \n",
        " \n",
        "    plt.ylabel(\"Events\")\n",
        "    #plt.title(\"Energy output from various fuel sources\")\n",
        "    plt.grid(False)\n",
        "\n",
        "    plt.xticks(x_pos, x, rotation='vertical')\n",
        "    plt.axhline(y=0, color='black')\n",
        "\n",
        "    plt.show()"
      ],
      "metadata": {
        "id": "se3x1bd2tuGU"
      },
      "execution_count": null,
      "outputs": []
    },
    {
      "cell_type": "code",
      "source": [
        "from pm4py.algo.filtering.log.variants import variants_filter\n",
        "\n",
        "def filter_log_frequency(e_log, dataset):\n",
        "   filtered_log = variants_filter.filter_log_variants_percentage(e_log, percentage=calc_percentage_varfilter(dataset))\n",
        "   return filtered_log"
      ],
      "metadata": {
        "id": "VjpdfjtKKMpo"
      },
      "execution_count": null,
      "outputs": []
    },
    {
      "cell_type": "code",
      "source": [
        "# 5 most frequent variant \n",
        "\n",
        "def calc_percentage_varfilter(dataset):\n",
        "  share_of_frequent = 0\n",
        "  for i in range(0,4): \n",
        "    share_of_frequent = (dataset['variant'].value_counts()[i]/dataset['variant'].count()) + share_of_frequent\n",
        "  #if share_of_frequent < 0.5:\n",
        "    #share_of_frequent = share_of_frequent + (0.5-share_of_frequent)\n",
        "  print(share_of_frequent)\n",
        "  return share_of_frequent\n"
      ],
      "metadata": {
        "id": "ex2bgKGoEXZ0"
      },
      "execution_count": null,
      "outputs": []
    },
    {
      "cell_type": "markdown",
      "source": [
        "# MAIN"
      ],
      "metadata": {
        "id": "l_pGJWCXctTc"
      }
    },
    {
      "cell_type": "markdown",
      "source": [
        "1. Filter by 5 most frequent variants"
      ],
      "metadata": {
        "id": "lXvqsatKI7d9"
      }
    },
    {
      "cell_type": "code",
      "source": [
        "filtered_log = filter_log_frequency(event_log, log_csv)"
      ],
      "metadata": {
        "id": "oE1JOIreTXQX",
        "colab": {
          "base_uri": "https://localhost:8080/"
        },
        "outputId": "9d7b47ca-1d6c-4ee0-a8f0-3bf7181f470b"
      },
      "execution_count": null,
      "outputs": [
        {
          "output_type": "stream",
          "name": "stdout",
          "text": [
            "0.3174803946369846\n"
          ]
        }
      ]
    },
    {
      "cell_type": "code",
      "source": [
        "score_inductive_SRM = get_best_pt_from_inductive(filtered_log) \n",
        "#im_score:  [[3.92893309454813]]\n",
        "#imf_score:  [[0.0, 3.92893309454813]]\n",
        "#imd_score:  [[0.0, 3.92893309454813]]"
      ],
      "metadata": {
        "id": "Iwz3JasZz5w6"
      },
      "execution_count": null,
      "outputs": []
    },
    {
      "cell_type": "code",
      "source": [
        "log_csv['variant'].value_counts()"
      ],
      "metadata": {
        "colab": {
          "base_uri": "https://localhost:8080/"
        },
        "id": "Lznmaxdy4op8",
        "outputId": "b55937a3-286a-4a38-bc58-c93962076d91"
      },
      "execution_count": null,
      "outputs": [
        {
          "output_type": "execute_result",
          "data": {
            "text/plain": [
              "Vendor creates invoice,Create Purchase Order Item,Change Approval for Purchase Order,Record Invoice Receipt                                                                                                                                                                                                                                                                                                                                                                                792\n",
              "Vendor creates invoice,Create Purchase Order Item,Change Approval for Purchase Order,Record Invoice Receipt,Clear Invoice                                                                                                                                                                                                                                                                                                                                                                  240\n",
              "Vendor creates invoice,Create Purchase Order Item,Change Approval for Purchase Order,Record Invoice Receipt,Clear Invoice,Change Approval for Purchase Order,Change Approval for Purchase Order                                                                                                                                                                                                                                                                                            133\n",
              "Vendor creates invoice,Create Purchase Order Item,Change Approval for Purchase Order,Record Invoice Receipt,Change Approval for Purchase Order,Change Approval for Purchase Order                                                                                                                                                                                                                                                                                                           90\n",
              "Change Approval for Purchase Order,Change Approval for Purchase Order,Change Approval for Purchase Order,Change Approval for Purchase Order,Change Approval for Purchase Order,Vendor creates invoice,Create Purchase Order Item,Change Approval for Purchase Order,Change Approval for Purchase Order,Record Invoice Receipt,Change Approval for Purchase Order,Change Approval for Purchase Order,Clear Invoice,Change Approval for Purchase Order,Change Approval for Purchase Order     75\n",
              "                                                                                                                                                                                                                                                                                                                                                                                                                                                                                          ... \n",
              "Vendor creates invoice,Create Purchase Order Item,Change Approval for Purchase Order,Change Price,Change Approval for Purchase Order,Change Approval for Purchase Order,Record Invoice Receipt                                                                                                                                                                                                                                                                                               7\n",
              "Vendor creates invoice,Create Purchase Order Item,Change Approval for Purchase Order,Change Approval for Purchase Order,Change Approval for Purchase Order,Record Invoice Receipt                                                                                                                                                                                                                                                                                                            6\n",
              "Change Approval for Purchase Order,Change Approval for Purchase Order,Change Approval for Purchase Order,Vendor creates invoice,Create Purchase Order Item,Record Invoice Receipt                                                                                                                                                                                                                                                                                                            6\n",
              "Create Purchase Order Item,Vendor creates invoice,Change Approval for Purchase Order,Record Invoice Receipt,Clear Invoice                                                                                                                                                                                                                                                                                                                                                                    5\n",
              "Vendor creates invoice,Change Approval for Purchase Order,Create Purchase Order Item,Record Invoice Receipt,Clear Invoice                                                                                                                                                                                                                                                                                                                                                                    5\n",
              "Name: variant, Length: 131, dtype: int64"
            ]
          },
          "metadata": {},
          "execution_count": 47
        }
      ]
    },
    {
      "cell_type": "code",
      "source": [
        "net, im, fm, tree = pt_from_inductive_imf(filtered_log, 0)\n",
        "visualize_pt(tree)\n",
        "test(event_log, net, im, fm)\n",
        "to_bpmn(tree, \"event_log.bpmn\")"
      ],
      "metadata": {
        "colab": {
          "base_uri": "https://localhost:8080/",
          "height": 356,
          "referenced_widgets": [
            "f379e07c4de14cf8825920fb2f8cb0be",
            "2f4e08f98cbc48e6a8777dd0ec08a78e",
            "65ba541f9a1a464e83236ff305a44803",
            "0bde831de9e04d2a851b02f33d5b7fe6",
            "5876bdaebb544ddb89502bc076a0ae38",
            "11353ea573594a0dbfb69f39c7ee01ff",
            "2edc40ba2f2e45c2babcb7a43cb6eb57",
            "1e1a8966e69b4e8f868d7973853d6572",
            "e1c1862771a24e25aea4dcb4ef20cb20",
            "04490bc129af44b0b56a909fe1e4062f",
            "9f550d76f66d4fcc99325056d75cfa17",
            "f6a291168b684039bcb600fc1bfa0b7d",
            "8a69ac1940754fbf921d8056072e4295",
            "cd8326543a0d4972a55825a2daea35f1",
            "ac373564c2ce45919f55490fd9e3e950",
            "64faa14c75a9428498e510de135088bb",
            "d4dff1cb3d7449f384982849dfbb1352",
            "3913b2ab77444ddd9e3f745d511a6389",
            "c51a99104cea46259afa00e0cade0b05",
            "475dc629ed3949a8883b16d92bc2b10f",
            "d2b026cfee424b4db74f04c1942a3c23",
            "6073e98fdec8479fb4f147a697d1ac8b",
            "01b66ba6ce9c454a8012730f1bde198b",
            "e7aa97818f0f49eaad7dc12e07660813",
            "b05a7ec695ce4b39ac2f8a78d1ec4fcf",
            "de48a2a7d3f640db88a6ca975a3be9df",
            "816060d194dd4ba0ba4d7974aecac29b",
            "6bb95ef040834b8aad081664ca671f53",
            "a1616efd976f4dd28d0540445a9d305d",
            "04652a99cdfd41bfbf02245c894bda71",
            "91cd18fbad394cb087fa0092aeb7f597",
            "6dcaac64f8664ea8a8112a7160c1f3a1",
            "1417259f670e460db47fe86ed3a6b89b"
          ]
        },
        "id": "DIaCla0fu7et",
        "outputId": "b60d36c9-26f2-4162-c74a-ae9c2154eb5b"
      },
      "execution_count": null,
      "outputs": [
        {
          "output_type": "display_data",
          "data": {
            "image/png": "[encoded data removed]",
            "text/plain": [
              "<IPython.core.display.Image object>"
            ]
          },
          "metadata": {}
        },
        {
          "output_type": "display_data",
          "data": {
            "application/vnd.jupyter.widget-view+json": {
              "model_id": "f379e07c4de14cf8825920fb2f8cb0be",
              "version_minor": 0,
              "version_major": 2
            },
            "text/plain": [
              "replaying log with TBR, completed variants ::   0%|          | 0/131 [00:00<?, ?it/s]"
            ]
          },
          "metadata": {}
        },
        {
          "output_type": "stream",
          "name": "stdout",
          "text": [
            "Fitness:  {'perc_fit_traces': 45.45454545454545, 'average_trace_fitness': 0.7561612221471513, 'log_fitness': 0.6228276186002818, 'percentage_of_fitting_traces': 45.45454545454545}\n"
          ]
        },
        {
          "output_type": "display_data",
          "data": {
            "application/vnd.jupyter.widget-view+json": {
              "model_id": "f6a291168b684039bcb600fc1bfa0b7d",
              "version_minor": 0,
              "version_major": 2
            },
            "text/plain": [
              "replaying log with TBR, completed variants ::   0%|          | 0/515 [00:00<?, ?it/s]"
            ]
          },
          "metadata": {}
        },
        {
          "output_type": "stream",
          "name": "stdout",
          "text": [
            "Precision:  0.9993455497382199\n"
          ]
        },
        {
          "output_type": "display_data",
          "data": {
            "application/vnd.jupyter.widget-view+json": {
              "model_id": "01b66ba6ce9c454a8012730f1bde198b",
              "version_minor": 0,
              "version_major": 2
            },
            "text/plain": [
              "replaying log with TBR, completed variants ::   0%|          | 0/131 [00:00<?, ?it/s]"
            ]
          },
          "metadata": {}
        },
        {
          "output_type": "stream",
          "name": "stdout",
          "text": [
            "Generalization:  0.9625423536427422\n",
            "Simplicity:  1.0\n"
          ]
        }
      ]
    },
    {
      "cell_type": "code",
      "source": [
        "score_petri_SRM = get_best_petri(filtered_log) # [[0.0, 0, 0, 3.92893309454813]]"
      ],
      "metadata": {
        "id": "Npxq_7mESmTV"
      },
      "execution_count": null,
      "outputs": []
    },
    {
      "cell_type": "code",
      "source": [
        "net,im,fm = petri_from_heu(filtered_log, 0, 0, 0)\n",
        "visualize_petri_heu(filtered_log, net, im, fm) #### event_log\n",
        "test(filtered_log, net, im, fm)"
      ],
      "metadata": {
        "colab": {
          "base_uri": "https://localhost:8080/",
          "height": 207,
          "referenced_widgets": [
            "77a9a76e48984a5b9bc88a4dc370e43f",
            "32e606ac1c7f4bebb28c93acebedd2ca",
            "440b6335cf8147a6a022fe56f20a3c19",
            "6a451d6d224b491d9cbccfbf93276bcf",
            "c3b2026a863442e3a8d706d70ba11b6b",
            "ff984fb1570b4e4c9bd27c55e50a3e3b",
            "f4eee43131ff4de4ae18296687bcc38a",
            "0f180b955a8d43c1b0a8c8ae6a19ca36",
            "9909c4bed5984574ac38512ea79c0733",
            "f9cef96d74fc457b9d8ea14c2e3432bd",
            "1945a9ba8d104523ae2424e72a9451d2"
          ]
        },
        "id": "elLKx6tfTMqA",
        "outputId": "f91c7660-437f-4b07-9b62-a275b2fe8174"
      },
      "execution_count": null,
      "outputs": [
        {
          "output_type": "display_data",
          "data": {
            "image/png": "[encoded data removed]",
            "text/plain": [
              "<IPython.core.display.Image object>"
            ]
          },
          "metadata": {}
        },
        {
          "output_type": "stream",
          "name": "stdout",
          "text": [
            "Fitness:  {'perc_fit_traces': 100.0, 'average_trace_fitness': 1.0, 'log_fitness': 1.0, 'percentage_of_fitting_traces': 100.0}\n"
          ]
        },
        {
          "output_type": "display_data",
          "data": {
            "application/vnd.jupyter.widget-view+json": {
              "model_id": "77a9a76e48984a5b9bc88a4dc370e43f",
              "version_minor": 0,
              "version_major": 2
            },
            "text/plain": [
              "replaying log with TBR, completed variants ::   0%|          | 0/3 [00:00<?, ?it/s]"
            ]
          },
          "metadata": {}
        },
        {
          "output_type": "stream",
          "name": "stdout",
          "text": [
            "Precision:  1.0\n",
            "Generalization:  0.9289330945481299\n",
            "Simplicity:  1.0\n"
          ]
        },
        {
          "output_type": "execute_result",
          "data": {
            "text/plain": [
              "3.92893309454813"
            ]
          },
          "metadata": {},
          "execution_count": 51
        }
      ]
    },
    {
      "cell_type": "code",
      "source": [
        "petri_from_pt(tree, filtered_log) # event_log???"
      ],
      "metadata": {
        "colab": {
          "base_uri": "https://localhost:8080/",
          "height": 195
        },
        "id": "OUzrukGHTmSK",
        "outputId": "22d7802b-c714-4f6d-ee7e-b43b6dde3715"
      },
      "execution_count": null,
      "outputs": [
        {
          "output_type": "display_data",
          "data": {
            "image/png": "[encoded data removed]",
            "text/plain": [
              "<IPython.core.display.Image object>"
            ]
          },
          "metadata": {}
        },
        {
          "output_type": "execute_result",
          "data": {
            "text/plain": [
              "(places: [ p_3, p_4, p_5, sink, source ]\n",
              " transitions: [ (a7e1e9ee-5e26-49c2-8d5b-2a203068b8d8, 'Change Approval for Purchase Order'), (ed8ada3e-a12f-4965-bd95-a62e1e4a5274, 'Record Invoice Receipt'), (f8287a70-e575-4b65-8061-ce71adb6d7bc, 'Create Purchase Order Item'), (f9e63432-548d-4613-a898-16aabafc1b31, 'Vendor creates invoice') ]\n",
              " arcs: [ (a7e1e9ee-5e26-49c2-8d5b-2a203068b8d8, 'Change Approval for Purchase Order')->p_5, (ed8ada3e-a12f-4965-bd95-a62e1e4a5274, 'Record Invoice Receipt')->sink, (f8287a70-e575-4b65-8061-ce71adb6d7bc, 'Create Purchase Order Item')->p_4, (f9e63432-548d-4613-a898-16aabafc1b31, 'Vendor creates invoice')->p_3, p_3->(f8287a70-e575-4b65-8061-ce71adb6d7bc, 'Create Purchase Order Item'), p_4->(a7e1e9ee-5e26-49c2-8d5b-2a203068b8d8, 'Change Approval for Purchase Order'), p_5->(ed8ada3e-a12f-4965-bd95-a62e1e4a5274, 'Record Invoice Receipt'), source->(f9e63432-548d-4613-a898-16aabafc1b31, 'Vendor creates invoice') ],\n",
              " Marking({source: 1}),\n",
              " Marking({sink: 1}))"
            ]
          },
          "metadata": {},
          "execution_count": 52
        }
      ]
    }
  ]
}
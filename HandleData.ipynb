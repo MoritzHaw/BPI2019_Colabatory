{
  "cells": [
    {
      "cell_type": "markdown",
      "metadata": {
        "id": "view-in-github",
        "colab_type": "text"
      },
      "source": [
        "<a href=\"https://colab.research.google.com/github/MoritzHaw/BPI2019_Colabatory/blob/main/HandleData.ipynb\" target=\"_parent\"><img src=\"https://colab.research.google.com/assets/colab-badge.svg\" alt=\"Open In Colab\"/></a>"
      ]
    },
    {
      "cell_type": "code",
      "execution_count": 10,
      "metadata": {
        "colab": {
          "base_uri": "https://localhost:8080/"
        },
        "id": "fOc-HoE0wqJf",
        "outputId": "695187fc-85cb-47c4-ab5a-d07d999f387e"
      },
      "outputs": [
        {
          "output_type": "stream",
          "name": "stdout",
          "text": [
            "Requirement already satisfied: pm4py in /usr/local/lib/python3.7/dist-packages (2.2.19)\n",
            "Requirement already satisfied: deprecation in /usr/local/lib/python3.7/dist-packages (from pm4py) (2.1.0)\n",
            "Requirement already satisfied: jsonpickle in /usr/local/lib/python3.7/dist-packages (from pm4py) (2.1.0)\n",
            "Requirement already satisfied: pydotplus in /usr/local/lib/python3.7/dist-packages (from pm4py) (2.0.2)\n",
            "Requirement already satisfied: sympy in /usr/local/lib/python3.7/dist-packages (from pm4py) (1.7.1)\n",
            "Requirement already satisfied: cvxopt in /usr/local/lib/python3.7/dist-packages (from pm4py) (1.2.7)\n",
            "Requirement already satisfied: numpy>=1.19.5 in /usr/local/lib/python3.7/dist-packages (from pm4py) (1.19.5)\n",
            "Requirement already satisfied: graphviz in /usr/local/lib/python3.7/dist-packages (from pm4py) (0.10.1)\n",
            "Requirement already satisfied: matplotlib in /usr/local/lib/python3.7/dist-packages (from pm4py) (3.2.2)\n",
            "Requirement already satisfied: intervaltree in /usr/local/lib/python3.7/dist-packages (from pm4py) (2.1.0)\n",
            "Requirement already satisfied: networkx in /usr/local/lib/python3.7/dist-packages (from pm4py) (2.6.3)\n",
            "Requirement already satisfied: pytz in /usr/local/lib/python3.7/dist-packages (from pm4py) (2018.9)\n",
            "Requirement already satisfied: stringdist in /usr/local/lib/python3.7/dist-packages (from pm4py) (1.0.9)\n",
            "Requirement already satisfied: lxml in /usr/local/lib/python3.7/dist-packages (from pm4py) (4.2.6)\n",
            "Requirement already satisfied: pyvis in /usr/local/lib/python3.7/dist-packages (from pm4py) (0.1.9)\n",
            "Requirement already satisfied: tqdm in /usr/local/lib/python3.7/dist-packages (from pm4py) (4.62.3)\n",
            "Requirement already satisfied: pandas>=1.1.5 in /usr/local/lib/python3.7/dist-packages (from pm4py) (1.1.5)\n",
            "Requirement already satisfied: scipy in /usr/local/lib/python3.7/dist-packages (from pm4py) (1.4.1)\n",
            "Requirement already satisfied: python-dateutil>=2.7.3 in /usr/local/lib/python3.7/dist-packages (from pandas>=1.1.5->pm4py) (2.8.2)\n",
            "Requirement already satisfied: six>=1.5 in /usr/local/lib/python3.7/dist-packages (from python-dateutil>=2.7.3->pandas>=1.1.5->pm4py) (1.15.0)\n",
            "Requirement already satisfied: packaging in /usr/local/lib/python3.7/dist-packages (from deprecation->pm4py) (21.3)\n",
            "Requirement already satisfied: sortedcontainers in /usr/local/lib/python3.7/dist-packages (from intervaltree->pm4py) (2.4.0)\n",
            "Requirement already satisfied: importlib-metadata in /usr/local/lib/python3.7/dist-packages (from jsonpickle->pm4py) (4.10.1)\n",
            "Requirement already satisfied: zipp>=0.5 in /usr/local/lib/python3.7/dist-packages (from importlib-metadata->jsonpickle->pm4py) (3.7.0)\n",
            "Requirement already satisfied: typing-extensions>=3.6.4 in /usr/local/lib/python3.7/dist-packages (from importlib-metadata->jsonpickle->pm4py) (3.10.0.2)\n",
            "Requirement already satisfied: pyparsing!=2.0.4,!=2.1.2,!=2.1.6,>=2.0.1 in /usr/local/lib/python3.7/dist-packages (from matplotlib->pm4py) (3.0.7)\n",
            "Requirement already satisfied: cycler>=0.10 in /usr/local/lib/python3.7/dist-packages (from matplotlib->pm4py) (0.11.0)\n",
            "Requirement already satisfied: kiwisolver>=1.0.1 in /usr/local/lib/python3.7/dist-packages (from matplotlib->pm4py) (1.3.2)\n",
            "Requirement already satisfied: ipython>=5.3.0 in /usr/local/lib/python3.7/dist-packages (from pyvis->pm4py) (5.5.0)\n",
            "Requirement already satisfied: jinja2>=2.9.6 in /usr/local/lib/python3.7/dist-packages (from pyvis->pm4py) (2.11.3)\n",
            "Requirement already satisfied: pygments in /usr/local/lib/python3.7/dist-packages (from ipython>=5.3.0->pyvis->pm4py) (2.6.1)\n",
            "Requirement already satisfied: traitlets>=4.2 in /usr/local/lib/python3.7/dist-packages (from ipython>=5.3.0->pyvis->pm4py) (5.1.1)\n",
            "Requirement already satisfied: simplegeneric>0.8 in /usr/local/lib/python3.7/dist-packages (from ipython>=5.3.0->pyvis->pm4py) (0.8.1)\n",
            "Requirement already satisfied: prompt-toolkit<2.0.0,>=1.0.4 in /usr/local/lib/python3.7/dist-packages (from ipython>=5.3.0->pyvis->pm4py) (1.0.18)\n",
            "Requirement already satisfied: pickleshare in /usr/local/lib/python3.7/dist-packages (from ipython>=5.3.0->pyvis->pm4py) (0.7.5)\n",
            "Requirement already satisfied: setuptools>=18.5 in /usr/local/lib/python3.7/dist-packages (from ipython>=5.3.0->pyvis->pm4py) (57.4.0)\n",
            "Requirement already satisfied: decorator in /usr/local/lib/python3.7/dist-packages (from ipython>=5.3.0->pyvis->pm4py) (4.4.2)\n",
            "Requirement already satisfied: pexpect in /usr/local/lib/python3.7/dist-packages (from ipython>=5.3.0->pyvis->pm4py) (4.8.0)\n",
            "Requirement already satisfied: MarkupSafe>=0.23 in /usr/local/lib/python3.7/dist-packages (from jinja2>=2.9.6->pyvis->pm4py) (2.0.1)\n",
            "Requirement already satisfied: wcwidth in /usr/local/lib/python3.7/dist-packages (from prompt-toolkit<2.0.0,>=1.0.4->ipython>=5.3.0->pyvis->pm4py) (0.2.5)\n",
            "Requirement already satisfied: ptyprocess>=0.5 in /usr/local/lib/python3.7/dist-packages (from pexpect->ipython>=5.3.0->pyvis->pm4py) (0.7.0)\n",
            "Requirement already satisfied: mpmath>=0.19 in /usr/local/lib/python3.7/dist-packages (from sympy->pm4py) (1.2.1)\n"
          ]
        }
      ],
      "source": [
        "%pip install pm4py"
      ]
    },
    {
      "cell_type": "code",
      "execution_count": 11,
      "metadata": {
        "id": "GTsc4QZ2wviV"
      },
      "outputs": [],
      "source": [
        "import pm4py\n",
        "import pandas as pd\n",
        "import numpy as np"
      ]
    },
    {
      "cell_type": "code",
      "execution_count": 12,
      "metadata": {
        "id": "oo1eC7NZwz6i"
      },
      "outputs": [],
      "source": [
        "from pm4py.objects.log.util import dataframe_utils\n",
        "from pm4py.objects.conversion.log import converter as log_converter\n",
        "\n",
        "log_csv = pd.read_csv('http://icpmconference.org/2019/wp-content/uploads/sites/6/2019/02/BPIChallenge2019CSV.zip', encoding='cp1252',sep=',')\n",
        "log_csv = dataframe_utils.convert_timestamp_columns_in_df(log_csv)"
      ]
    },
    {
      "cell_type": "code",
      "execution_count": 13,
      "metadata": {
        "id": "UHbqYTNqw2mc"
      },
      "outputs": [],
      "source": [
        "log_csv.rename(columns={'eventID':'eventID', 'case Spend area text': 'case:spend:area', 'case Company': 'case:company', 'case Document Type':'case:doc:type',\\\n",
        "                        'case Sub spend area text': 'case:spend:area:text','case Purchasing Document':'case:doc:id',\\\n",
        "                        'case Purch. Doc. Category name':'case:purch:category', 'case Vendor':'case:vendor', 'case Item Type': 'case:item:type',\\\n",
        "                        'case Item Category': 'case:item:category', 'case Spend classification text':'case:purch:class',\t'case Source': 'case:source',\\\n",
        "                        'case Name':'case:vendor:name', 'case GR-Based Inv. Verif.': 'case:invoicing:required', 'case Item': 'case:item',\\\n",
        "                        'case concept:name': 'case:concept:name', 'case Goods Receipt': 'case:goods:receipt', 'event User': 'event:user',\\\n",
        "                        'event org:resource': 'org:resource', 'event concept:name': 'concept:name', 'event Cumulative net worth (EUR)': 'cumulative:net:worth:EUR',\\\n",
        "                        'event time:timestamp': 'time:timestamp'}, inplace=True)"
      ]
    },
    {
      "cell_type": "code",
      "execution_count": 13,
      "metadata": {
        "id": "QS5WSlxZaPCh"
      },
      "outputs": [],
      "source": [
        ""
      ]
    },
    {
      "cell_type": "code",
      "execution_count": 14,
      "metadata": {
        "colab": {
          "base_uri": "https://localhost:8080/"
        },
        "id": "-CvIj32IzvRP",
        "outputId": "c8c6ba13-69d4-4986-cdf1-2ed0936576d1"
      },
      "outputs": [
        {
          "output_type": "execute_result",
          "data": {
            "text/plain": [
              "1595923"
            ]
          },
          "metadata": {},
          "execution_count": 14
        }
      ],
      "source": [
        "log_csv['case:concept:name'].count()"
      ]
    },
    {
      "cell_type": "code",
      "execution_count": 15,
      "metadata": {
        "id": "Vs3L6VfxxJoa"
      },
      "outputs": [],
      "source": [
        "def to_eventlog(dataset):\n",
        "  # Convert log_csv to event_log\n",
        "  parameters = {log_converter.Variants.TO_EVENT_LOG.value.Parameters.CASE_ID_KEY: 'case:concept:name'}  # identify the case_id_key name (if not change it will simply be the nane of the coloumn)\n",
        "  event_log = log_converter.apply(dataset, parameters=parameters, variant=log_converter.Variants.TO_EVENT_LOG)\n",
        "  return event_log"
      ]
    },
    {
      "cell_type": "code",
      "execution_count": 16,
      "metadata": {
        "id": "04AYQuk-xKse"
      },
      "outputs": [],
      "source": [
        "event_log = to_eventlog(log_csv)"
      ]
    },
    {
      "cell_type": "code",
      "execution_count": 17,
      "metadata": {
        "colab": {
          "base_uri": "https://localhost:8080/"
        },
        "id": "1vWPRp0Bxt16",
        "outputId": "040cf7f7-d1d8-47ee-ed39-bbe42828144c"
      },
      "outputs": [
        {
          "output_type": "stream",
          "name": "stdout",
          "text": [
            "2.8481950570296846\n"
          ]
        }
      ],
      "source": [
        "# calculate percentage of cases which werent in 2018\n",
        "\n",
        "date_percentage = log_csv[log_csv['time:timestamp'].between('2018-01-01 00:00:00', '2018-12-31 23:59:00')].count()\n",
        "percentage = 100 - (date_percentage['case:concept:name']/log_csv['case:concept:name'].count()) * 100\n",
        "print(percentage)\n",
        "#log_csv.groupby['case:concept:name']('time:timestamp').between('2018-01-01 00:00:00', '2018-12-31 23:59:00').count()"
      ]
    },
    {
      "cell_type": "code",
      "execution_count": 18,
      "metadata": {
        "id": "YzL2aTSEx-Sq"
      },
      "outputs": [],
      "source": [
        "from pm4py.algo.filtering.log.timestamp import timestamp_filter # filter between dates\n",
        " \n",
        "def filter_by_period(dataset, eventlog, date1: str, date2: str):\n",
        "        '''\n",
        "        :param dataset: dataset, which should be filtered\n",
        "        :param date1: startdate\n",
        "        :param date2: enddate\n",
        "        :return: filtered eventlog\n",
        "        '''\n",
        "        filtered_log = timestamp_filter.filter_traces_contained(eventlog, date1, date2)\n",
        "        df_filtered_by_period = log_converter.apply(\n",
        "            filtered_log, variant=log_converter.Variants.TO_DATA_FRAME)\n",
        "        return df_filtered_by_period, filtered_log\n",
        "\n",
        "log_filtered_byDate, event_log_date = filter_by_period(log_csv, event_log, \n",
        "                                                       \"2018-01-01 00:00:00\", \n",
        "                                                       \"2019-01-28 23:59:00\")"
      ]
    },
    {
      "cell_type": "code",
      "execution_count": 19,
      "metadata": {
        "colab": {
          "base_uri": "https://localhost:8080/"
        },
        "id": "yqlqZcTnauSi",
        "outputId": "64c80d91-e745-42c8-b700-60471ac1d172"
      },
      "outputs": [
        {
          "output_type": "execute_result",
          "data": {
            "text/plain": [
              "case:item:type\n",
              "Standard          1088113\n",
              "Service            240987\n",
              "Consignment         34717\n",
              "Third-party         26014\n",
              "Subcontracting      20508\n",
              "Limit                4449\n",
              "dtype: int64"
            ]
          },
          "metadata": {},
          "execution_count": 19
        }
      ],
      "source": [
        "log_date_nunique = log_filtered_byDate.nunique().sort_values(ascending=False)\n",
        "#log_nunique.to_excel('/content/excel/log_nunique.xlsx')\n",
        "log_date_nunique\n",
        "log_filtered_byDate.value_counts('case:item:type')"
      ]
    },
    {
      "cell_type": "code",
      "execution_count": 20,
      "metadata": {
        "id": "N-qNT4y_yAR2"
      },
      "outputs": [],
      "source": [
        "# count occurrences of concept:name to analyze which values are important\n",
        "\n",
        "def count_occurrences(log, column: str):\n",
        "        \"\"\"\n",
        "        :param column: name of the column where the values should be counted\n",
        "        :return: counted occurences of column values\n",
        "        \"\"\"\n",
        "        count_column = log.groupby(column).count()\n",
        "        return count_column"
      ]
    },
    {
      "cell_type": "code",
      "execution_count": 20,
      "metadata": {
        "id": "D0zWtmiNgw0f"
      },
      "outputs": [],
      "source": [
        ""
      ]
    },
    {
      "cell_type": "code",
      "execution_count": 21,
      "metadata": {
        "colab": {
          "base_uri": "https://localhost:8080/"
        },
        "id": "DVlH4zMwmJIq",
        "outputId": "8fbe1537-919a-46fc-f2a7-9ad53aa41630"
      },
      "outputs": [
        {
          "output_type": "execute_result",
          "data": {
            "text/plain": [
              "[{'attributes': {'spend:area': 'Packaging', 'company': 'companyID_0000', 'doc:type': 'Standard PO', 'spend:area:text': 'Labels', 'doc:id': 4507000221, 'purch:category': 'Purchase order', 'vendor': 'vendorID_0103', 'item:type': 'Standard', 'item:category': '3-way match, invoice before GR', 'purch:class': 'PR', 'source': 'sourceSystemID_0000', 'vendor:name': 'vendor_0103', 'invoicing:required': False, 'item': 10, 'concept:name': '4507000221_00010', 'goods:receipt': True}, 'events': [{'eventID ': 1430224109568, 'event:user': 'batch_03', 'org:resource': 'batch_03', 'concept:name': 'Create Purchase Order Item', 'cumulative:net:worth:EUR': 208.0, 'time:timestamp': Timestamp('2018-01-01 03:42:00+0000', tz='UTC'), 'case:spend:area': 'Packaging', 'case:company': 'companyID_0000', 'case:doc:type': 'Standard PO', 'case:spend:area:text': 'Labels', 'case:doc:id': 4507000221, 'case:purch:category': 'Purchase order', 'case:vendor': 'vendorID_0103', 'case:item:type': 'Standard', 'case:item:category': '3-way match, invoice before GR', 'case:purch:class': 'PR', 'case:source': 'sourceSystemID_0000', 'case:vendor:name': 'vendor_0103', 'case:invoicing:required': False, 'case:item': 10, 'case:concept:name': '4507000221_00010', 'case:goods:receipt': True}, '..', {'eventID ': 1430224109573, 'event:user': 'user_002', 'org:resource': 'user_002', 'concept:name': 'Clear Invoice', 'cumulative:net:worth:EUR': 208.0, 'time:timestamp': Timestamp('2018-04-26 11:14:00+0000', tz='UTC'), 'case:spend:area': 'Packaging', 'case:company': 'companyID_0000', 'case:doc:type': 'Standard PO', 'case:spend:area:text': 'Labels', 'case:doc:id': 4507000221, 'case:purch:category': 'Purchase order', 'case:vendor': 'vendorID_0103', 'case:item:type': 'Standard', 'case:item:category': '3-way match, invoice before GR', 'case:purch:class': 'PR', 'case:source': 'sourceSystemID_0000', 'case:vendor:name': 'vendor_0103', 'case:invoicing:required': False, 'case:item': 10, 'case:concept:name': '4507000221_00010', 'case:goods:receipt': True}]}, '....', {'attributes': {'spend:area': nan, 'company': 'companyID_0000', 'doc:type': 'Standard PO', 'spend:area:text': nan, 'doc:id': 4508071717, 'purch:category': 'Purchase order', 'vendor': 'vendorID_1102', 'item:type': 'Standard', 'item:category': '3-way match, invoice before GR', 'purch:class': nan, 'source': 'sourceSystemID_0000', 'vendor:name': 'vendor_0172', 'invoicing:required': False, 'item': 20, 'concept:name': '4508071717_00020', 'goods:receipt': True}, 'events': [{'eventID ': 1015798420209664, 'event:user': 'user_075', 'org:resource': 'user_075', 'concept:name': 'Create Purchase Order Item', 'cumulative:net:worth:EUR': 3805.0, 'time:timestamp': Timestamp('2019-01-17 15:32:00+0000', tz='UTC'), 'case:spend:area': nan, 'case:company': 'companyID_0000', 'case:doc:type': 'Standard PO', 'case:spend:area:text': nan, 'case:doc:id': 4508071717, 'case:purch:category': 'Purchase order', 'case:vendor': 'vendorID_1102', 'case:item:type': 'Standard', 'case:item:category': '3-way match, invoice before GR', 'case:purch:class': nan, 'case:source': 'sourceSystemID_0000', 'case:vendor:name': 'vendor_0172', 'case:invoicing:required': False, 'case:item': 20, 'case:concept:name': '4508071717_00020', 'case:goods:receipt': True}]}]"
            ]
          },
          "metadata": {},
          "execution_count": 21
        }
      ],
      "source": [
        "event_log_date"
      ]
    },
    {
      "cell_type": "markdown",
      "metadata": {
        "id": "pE7DhEB6xyOT"
      },
      "source": [
        "# Bar chart to compare filter"
      ]
    },
    {
      "cell_type": "code",
      "execution_count": 22,
      "metadata": {
        "id": "rYVV6O6DALZv"
      },
      "outputs": [],
      "source": [
        "def count_events(dataset):\n",
        "  return dataset['case:concept:name'].count()"
      ]
    },
    {
      "cell_type": "code",
      "execution_count": 23,
      "metadata": {
        "id": "EjueB3U--wGN"
      },
      "outputs": [],
      "source": [
        "# decrease percent\n",
        "\n",
        "def decrease_in_perc(dataset1, dataset2):\n",
        "  return 1 - count_events(dataset2)/count_events(dataset1)"
      ]
    },
    {
      "cell_type": "code",
      "execution_count": 24,
      "metadata": {
        "id": "MVBaBqb9xxKp"
      },
      "outputs": [],
      "source": [
        "# compare before and after filtering date \n",
        "\n",
        "import matplotlib.pyplot as plt\n",
        "import seaborn as sns\n",
        "\n",
        "def comp_bef_aft(dataset1 , dataset2):\n",
        "\n",
        "    plt.style.use('ggplot')\n",
        "\n",
        "    x = ['without filtering', 'after filtering']\n",
        "    events = [count_events(dataset1), count_events(dataset2)]\n",
        "\n",
        "    x_pos = [i for i, _ in enumerate(x)]\n",
        "    sns.set(rc={'axes.facecolor':'white', 'figure.facecolor':'white'})\n",
        "    color = sns.color_palette(\"muted\")\n",
        "    plt.figure(1, figsize=(5, 5))  # size\n",
        "    plt.bar(x_pos, events, color=color)\n",
        "    plt.xlabel(\"Filter\")\n",
        " \n",
        "    plt.ylabel(\"Events\")\n",
        "    #plt.title(\"Energy output from various fuel sources\")\n",
        "    plt.grid(False)\n",
        "\n",
        "    plt.xticks(x_pos, x)\n",
        "    plt.axhline(y=0, color='black')\n",
        "\n",
        "    plt.show()"
      ]
    },
    {
      "cell_type": "code",
      "execution_count": null,
      "metadata": {
        "id": "hIFhUNwPBAkf"
      },
      "outputs": [],
      "source": [
        "comp_bef_aft(log_csv, log_filtered_byDate)"
      ]
    },
    {
      "cell_type": "markdown",
      "metadata": {
        "id": "C80xohRQiwue"
      },
      "source": [
        "# Filtering Data Functions"
      ]
    },
    {
      "cell_type": "code",
      "execution_count": 26,
      "metadata": {
        "id": "MFmaglkJkfgX"
      },
      "outputs": [],
      "source": [
        "#from pm4py.algo.filtering.log.attributes import attributes_filter\n",
        "from pm4py.algo.filtering.pandas.attributes import attributes_filter\n",
        "\n",
        "def filter_log_by_cat(log, item_category: str):\n",
        "    '''\n",
        "    :log: dataset\n",
        "    :item_category: e.g. \"3-way match, invoice after GR\"\n",
        "    filter data by case item category\n",
        "    :return: filtered data IVaGR\n",
        "    '''\n",
        "    \n",
        "    df_tracefilter_cat = attributes_filter.apply(\n",
        "        log, [item_category], parameters={attributes_filter.Parameters.CASE_ID_KEY: \n",
        "                                          \"case:concept:name\",\n",
        "                                          attributes_filter.Parameters.ATTRIBUTE_KEY: \n",
        "                                          \"case:item:category\", \n",
        "                                          attributes_filter.Parameters.POSITIVE: True})\n",
        "\n",
        "    return df_tracefilter_cat"
      ]
    },
    {
      "cell_type": "code",
      "execution_count": 26,
      "metadata": {
        "id": "zMt6TzLZeIjY"
      },
      "outputs": [],
      "source": [
        ""
      ]
    },
    {
      "cell_type": "code",
      "execution_count": 27,
      "metadata": {
        "id": "SE3y7VR7jKbV"
      },
      "outputs": [],
      "source": [
        "from pm4py.algo.filtering.log.variants import variants_filter\n",
        "from pm4py.statistics.traces.generic.pandas import case_statistics\n",
        "\n",
        "def filter_by_variants(dataset):\n",
        "      variants = case_statistics.get_variants_df(\n",
        "          dataset, parameters={case_statistics.Parameters.CASE_ID_KEY: \n",
        "                               \"case:concept:name\",\n",
        "                               case_statistics.Parameters.ACTIVITY_KEY: \n",
        "                               \"concept:name\"})\n",
        "      return variants\n",
        "\n",
        "def variants_statistics(dataset):\n",
        "      variants_count = case_statistics.get_variant_statistics(dataset,\n",
        "                                          parameters={case_statistics.Parameters.CASE_ID_KEY: \"case:concept:name\",\n",
        "                                                      case_statistics.Parameters.ACTIVITY_KEY: \"concept:name\"})\n",
        "      return variants_count"
      ]
    },
    {
      "cell_type": "code",
      "execution_count": 28,
      "metadata": {
        "id": "XUMhCHyPjx9R"
      },
      "outputs": [],
      "source": [
        "def merge_df(data1, data2, on):\n",
        "      merge_df = pd.merge(data1, data2, on=on)\n",
        "      return merge_df"
      ]
    },
    {
      "cell_type": "markdown",
      "metadata": {
        "id": "1dasPNwjip2z"
      },
      "source": [
        "# Filtering IVaGR"
      ]
    },
    {
      "cell_type": "code",
      "execution_count": null,
      "metadata": {
        "id": "th_rVLGElPwL"
      },
      "outputs": [],
      "source": [
        "log_filtered_IVaGR = filter_log_by_cat(log_filtered_byDate, \"3-way match, invoice after GR\")\n",
        "log_filtered_IVaGR"
      ]
    },
    {
      "cell_type": "code",
      "execution_count": null,
      "metadata": {
        "id": "WIYgy9GjsfVV"
      },
      "outputs": [],
      "source": [
        "variants_IVaGR = filter_by_variants(log_filtered_IVaGR)\n",
        "variants_IVaGR"
      ]
    },
    {
      "cell_type": "code",
      "execution_count": null,
      "metadata": {
        "id": "U1gvYsineD2G"
      },
      "outputs": [],
      "source": [
        "variants_contains_GR_IV = variants_IVaGR[(variants_IVaGR['variant'].str.contains('Goods Receipt')) & (variants_IVaGR['variant'].str.contains('Invoice Receipt'))]\n",
        "variants_contains_GR_IV"
      ]
    },
    {
      "cell_type": "code",
      "execution_count": null,
      "metadata": {
        "id": "9uDxHPvP0oEm"
      },
      "outputs": [],
      "source": [
        "variants_contains_GR_IV['value_GR'] = variants_contains_GR_IV['variant'].str.count('Record Goods Receipt')\n",
        "variants_contains_GR_IV['value_IV'] = variants_contains_GR_IV['variant'].str.count('Record Invoice Receipt')\n",
        "\n",
        "#merged_values = pd.merge(variants_value_GR, variants_value_IV, on=['case:concept:name'], how='inner')\n",
        "#merged_values\n",
        "\n",
        "#variants_contains_GR_IV.drop(['case:concept:name'])\n",
        "\n",
        "variants_contains_GR_IV = variants_contains_GR_IV[variants_contains_GR_IV.value_IV == variants_contains_GR_IV.value_GR]\n",
        "variants_contains_GR_IV\n",
        "\n"
      ]
    },
    {
      "cell_type": "code",
      "execution_count": null,
      "metadata": {
        "id": "k2szKZl8_7eK"
      },
      "outputs": [],
      "source": [
        "# merge dataframes\n",
        "df_IVaGR = merge_df(log_filtered_IVaGR, variants_contains_GR_IV, 'case:concept:name')\n",
        "#df_IVaGR_containsGR_IV.value_counts('concept:name')\n",
        "\n",
        "#df_IVaGR_containsGR_IV.to_csv('CSV_IVaGR_filtered',  encoding='cp1252',sep=',')\n",
        "df_IVaGR.to_pickle('PKL_IVaGR_filtered')\n",
        "comp_bef_aft(log_filtered_byDate, log_filtered_IVaGR)\n",
        "comp_bef_aft(log_filtered_IVaGR, df_IVaGR)"
      ]
    },
    {
      "cell_type": "code",
      "execution_count": null,
      "metadata": {
        "id": "mtxkcKG-G71T"
      },
      "outputs": [],
      "source": [
        "count_events(df_IVaGR)\n",
        "decrease_in_perc(log_filtered_IVaGR, df_IVaGR)"
      ]
    },
    {
      "cell_type": "code",
      "execution_count": 35,
      "metadata": {
        "id": "GTiMZn0272Y-"
      },
      "outputs": [],
      "source": [
        "#filtered_log = pm4py.filter_variants_top_k(df_IVaGR , 25)\n",
        "#filtered_log.value_counts('concept:name')"
      ]
    },
    {
      "cell_type": "code",
      "execution_count": 36,
      "metadata": {
        "id": "UIk-1wny8lxk"
      },
      "outputs": [],
      "source": [
        "#filtered_log_2 = variants_filter.filter_variants_variants_percentage(event_log, variants_contains_GR_IV, variants_percentage=0.5)\n",
        "\n",
        "#filtered_log_2"
      ]
    },
    {
      "cell_type": "markdown",
      "metadata": {
        "id": "vAJ1ojgRkN9z"
      },
      "source": [
        "# Filtering IVbGR"
      ]
    },
    {
      "cell_type": "code",
      "execution_count": null,
      "metadata": {
        "id": "tjZfg7g3kRTn"
      },
      "outputs": [],
      "source": [
        "log_filtered_IVbGR = filter_log_by_cat(log_filtered_byDate, \"3-way match, invoice before GR\") \n",
        "comp_bef_aft(log_filtered_byDate, log_filtered_IVbGR)\n",
        "decrease_in_perc(log_filtered_byDate, log_filtered_IVbGR)\n",
        "count_events(log_filtered_IVbGR)"
      ]
    },
    {
      "cell_type": "code",
      "execution_count": null,
      "metadata": {
        "id": "nl_7fUlmkaqg"
      },
      "outputs": [],
      "source": [
        "variants_IVbGR = filter_by_variants(log_filtered_IVbGR)\n",
        "variants_IVbGR"
      ]
    },
    {
      "cell_type": "code",
      "execution_count": null,
      "metadata": {
        "id": "gBFGAo23lig3"
      },
      "outputs": [],
      "source": [
        "variants_contains_GR = variants_IVbGR[(variants_IVbGR['variant'].str.contains('Goods Receipt'))]\n",
        "variants_contains_GR"
      ]
    },
    {
      "cell_type": "code",
      "execution_count": null,
      "metadata": {
        "id": "pTbAZx1La_cz"
      },
      "outputs": [],
      "source": [
        "# Value of invoice receipts = value of clear invoice message = value of vendor creates invoice\n",
        "\n",
        "variants_contains_GR['value_CIV'] = variants_contains_GR['variant'].str.count('Clear Invoice')\n",
        "variants_contains_GR['value_IV'] = variants_contains_GR['variant'].str.count('Record Invoice Receipt')\n",
        "variants_contains_GR['value_NIV'] = variants_contains_GR['variant'].str.count('Vendor creates invoice')\n",
        "\n",
        "#merged_values = pd.merge(variants_value_GR, variants_value_IV, on=['case:concept:name'], how='inner')\n",
        "#merged_values\n",
        "\n",
        "#variants_contains_GR_IV.drop(['case:concept:name'])\n",
        "\n",
        "variants_contains_CIV_IV_NIV = variants_contains_GR[(variants_contains_GR.value_CIV == variants_contains_GR.value_IV) & (variants_contains_GR.value_CIV == variants_contains_GR.value_NIV)]\n",
        "variants_contains_CIV_IV_NIV\n"
      ]
    },
    {
      "cell_type": "code",
      "execution_count": null,
      "metadata": {
        "id": "lmludGq2qZQY"
      },
      "outputs": [],
      "source": [
        "# merge dataframes\n",
        "df_IVbGR = merge_df(log_filtered_IVbGR, variants_contains_CIV_IV_NIV, 'case:concept:name')\n",
        "df_IVbGR\n",
        "\n",
        "#df_IVbGR.to_csv('CSV_IVaGR_filtered',  encoding='cp1252',sep=',')\n",
        "df_IVbGR.to_pickle('PKL_IVbGR_filtered')\n",
        "decrease_in_perc(log_filtered_IVbGR, df_IVbGR)\n",
        "#comp_bef_aft(log_filtered_IVbGR, df_IVbGR)\n",
        "count_events(df_IVbGR)"
      ]
    },
    {
      "cell_type": "code",
      "execution_count": 42,
      "metadata": {
        "id": "pnV4xZHbmIDK"
      },
      "outputs": [],
      "source": [
        "#df_IVbGR.to_csv('CSV_IVbGR_filtered',  encoding='cp1252',sep=',')"
      ]
    },
    {
      "cell_type": "markdown",
      "source": [
        "# Outer Join on IVaGR and IVbGR for Task2"
      ],
      "metadata": {
        "id": "tt-5MHkUXOGv"
      }
    },
    {
      "cell_type": "code",
      "source": [
        "IVaGR_IVbGR = pd.merge(df_IVaGR, df_IVbGR, how='outer')\n",
        "IVaGR_IVbGR.to_csv('IVaGR_IVbGR.zip', compression='zip')"
      ],
      "metadata": {
        "id": "SzaHKK7KXTSu"
      },
      "execution_count": 43,
      "outputs": []
    },
    {
      "cell_type": "markdown",
      "metadata": {
        "id": "DLua1_5AmKWZ"
      },
      "source": [
        "# Filtering nGR"
      ]
    },
    {
      "cell_type": "code",
      "execution_count": null,
      "metadata": {
        "id": "gUggVwfAmOt1"
      },
      "outputs": [],
      "source": [
        "log_filtered_nGR = filter_log_by_cat(log_filtered_byDate, \"2-way match\")\n",
        "comp_bef_aft(log_filtered_byDate, log_filtered_nGR) \n",
        "count_events(log_filtered_nGR)\n",
        "decrease_in_perc(log_filtered_byDate, log_filtered_nGR)"
      ]
    },
    {
      "cell_type": "code",
      "execution_count": null,
      "metadata": {
        "id": "_QddTRJqmWFt"
      },
      "outputs": [],
      "source": [
        "variants_nGR = filter_by_variants(log_filtered_nGR)\n",
        "variants_nGR"
      ]
    },
    {
      "cell_type": "code",
      "execution_count": null,
      "metadata": {
        "id": "ohDGd5bAmguA"
      },
      "outputs": [],
      "source": [
        "variants_contains_IV = variants_nGR[(variants_nGR['variant'].str.contains('Invoice Receipt'))]\n",
        "variants_contains_IV"
      ]
    },
    {
      "cell_type": "code",
      "execution_count": null,
      "metadata": {
        "id": "5CJXANAUrjAD"
      },
      "outputs": [],
      "source": [
        "variants_contains_IV['value_IV'] = variants_contains_IV['variant'].str.count('Record Invoice Receipt')\n",
        "variants_contains_IV['value_NIV'] = variants_contains_IV['variant'].str.count('Vendor creates invoice')\n",
        "\n",
        "#merged_values = pd.merge(variants_value_GR, variants_value_IV, on=['case:concept:name'], how='inner')\n",
        "#merged_values\n",
        "\n",
        "#variants_contains_GR_IV.drop(['case:concept:name'])\n",
        "\n",
        "variants_contains_IV_NIV = variants_contains_IV[variants_contains_IV.value_IV == variants_contains_IV.value_NIV]\n",
        "variants_contains_IV_NIV"
      ]
    },
    {
      "cell_type": "code",
      "execution_count": null,
      "metadata": {
        "id": "vFwk3xrw96P-"
      },
      "outputs": [],
      "source": [
        "df_nGR = merge_df(log_filtered_nGR, variants_contains_IV_NIV, 'case:concept:name')\n",
        "\n",
        "df_nGR.to_pickle('PKL_nGR_filtered')\n",
        "#df_nGR.to_csv('CSV_IVaGR_filtered',  encoding='cp1252',sep=',')\n",
        "decrease_in_perc(log_filtered_nGR, df_nGR)\n",
        "comp_bef_aft(log_filtered_nGR, df_nGR)\n",
        "#count_events(df_nGR)"
      ]
    },
    {
      "cell_type": "code",
      "execution_count": 49,
      "metadata": {
        "id": "EbnjxcXs49mI"
      },
      "outputs": [],
      "source": [
        "#df_nGR_containsIV.to_csv('CSV_nGR_filtered',  encoding='cp1252',sep=',')"
      ]
    },
    {
      "cell_type": "markdown",
      "metadata": {
        "id": "wJGSScE3tZoJ"
      },
      "source": [
        "# Filtering Con"
      ]
    },
    {
      "cell_type": "code",
      "execution_count": null,
      "metadata": {
        "id": "yWi9NVRjtZSK"
      },
      "outputs": [],
      "source": [
        "log_filtered_Con = filter_log_by_cat(log_filtered_byDate, \"Consignment\")\n",
        "log_filtered_Con\n",
        "\n",
        "#count_events(log_filtered_Con)\n",
        "#decrease_in_perc(log_filtered_byDate, log_filtered_Con)\n",
        "#comp_bef_aft(log_filtered_byDate, log_filtered_Con)"
      ]
    },
    {
      "cell_type": "code",
      "execution_count": null,
      "metadata": {
        "id": "rVJyKna-tuzR"
      },
      "outputs": [],
      "source": [
        "variants_Con = filter_by_variants(log_filtered_Con)\n",
        "variants_Con"
      ]
    },
    {
      "cell_type": "code",
      "execution_count": null,
      "metadata": {
        "id": "XOZfpXoKt1Cs"
      },
      "outputs": [],
      "source": [
        "# check if GR > 0 and IV = 0\n",
        "\n",
        "variants_contains_GR = variants_Con[(variants_Con['variant'].str.contains('Goods Receipt')) & (variants_Con['variant'].str.contains('Invoice') == False)]\n",
        "variants_contains_GR"
      ]
    },
    {
      "cell_type": "code",
      "execution_count": null,
      "metadata": {
        "id": "wFBTBM5iEzp-"
      },
      "outputs": [],
      "source": [
        "# merge \n",
        "df_Con = merge_df(log_filtered_Con, variants_contains_GR, 'case:concept:name')\n",
        "\n",
        "df_IVaGR.to_pickle('PKL_Con_filtered')\n",
        "#df_Con.to_csv('CSV_IVaGR_filtered',  encoding='cp1252',sep=',')\n",
        "decrease_in_perc(log_filtered_Con, df_Con)\n",
        "comp_bef_aft(log_filtered_Con, df_Con)\n",
        "#count_events(df_Con)"
      ]
    },
    {
      "cell_type": "code",
      "execution_count": 54,
      "metadata": {
        "id": "wLhomPCI18KM"
      },
      "outputs": [],
      "source": [
        "#df_Con.to_csv('CSV_Con_filtered',  encoding='cp1252',sep=',')"
      ]
    },
    {
      "cell_type": "markdown",
      "metadata": {
        "id": "Jp6kk782itUf"
      },
      "source": [
        "# Check on SRM in categories"
      ]
    },
    {
      "cell_type": "code",
      "execution_count": null,
      "metadata": {
        "id": "MjmBt2v15JkJ"
      },
      "outputs": [],
      "source": [
        "#if ((df_Con['variant'].str.contains('SRM')) == True):\n",
        "\n",
        "#df_Con[df_Con['variant'].str.contains('SRM')].value_counts('case:doc:type')\n",
        "#df_nGR[df_nGR['variant'].str.contains('SRM')].value_counts('case:doc:type')\n",
        "df_IVaGR[df_IVaGR['variant'].str.contains('SRM')].value_counts('case:doc:type')\n",
        "#df_IVbGR[df_IVbGR['variant'].str.contains('SRM')].value_counts('case:doc:type')\n",
        "#df_IVbGR.value_counts('case:doc:type')\n",
        "#df_Con.value_counts('case:spend:area')\n",
        "df_IVaGR.value_counts('case:doc:type')"
      ]
    }
  ],
  "metadata": {
    "colab": {
      "collapsed_sections": [],
      "name": "HandleData.ipynb",
      "provenance": [],
      "authorship_tag": "ABX9TyOh+9E6bqLKoylOAcCi2qKD",
      "include_colab_link": true
    },
    "kernelspec": {
      "display_name": "Python 3",
      "name": "python3"
    },
    "language_info": {
      "name": "python"
    }
  },
  "nbformat": 4,
  "nbformat_minor": 0
}
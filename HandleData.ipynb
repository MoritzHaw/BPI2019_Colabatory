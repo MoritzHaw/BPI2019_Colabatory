{
  "cells": [
    {
      "cell_type": "markdown",
      "metadata": {
        "id": "view-in-github",
        "colab_type": "text"
      },
      "source": [
        "<a href=\"https://colab.research.google.com/github/MoritzHaw/BPI2019_Colabatory/blob/main/HandleData.ipynb\" target=\"_parent\"><img src=\"https://colab.research.google.com/assets/colab-badge.svg\" alt=\"Open In Colab\"/></a>"
      ]
    },
    {
      "cell_type": "code",
      "execution_count": null,
      "metadata": {
        "id": "fOc-HoE0wqJf"
      },
      "outputs": [],
      "source": [
        "%pip install pm4py"
      ]
    },
    {
      "cell_type": "code",
      "execution_count": null,
      "metadata": {
        "id": "GTsc4QZ2wviV"
      },
      "outputs": [],
      "source": [
        "import pm4py\n",
        "import pandas as pd\n",
        "import numpy as np"
      ]
    },
    {
      "cell_type": "code",
      "execution_count": null,
      "metadata": {
        "id": "oo1eC7NZwz6i"
      },
      "outputs": [],
      "source": [
        "from pm4py.objects.log.util import dataframe_utils\n",
        "from pm4py.objects.conversion.log import converter as log_converter\n",
        "\n",
        "log_csv = pd.read_csv('http://icpmconference.org/2019/wp-content/uploads/sites/6/2019/02/BPIChallenge2019CSV.zip', encoding='cp1252',sep=',')\n",
        "log_csv = dataframe_utils.convert_timestamp_columns_in_df(log_csv)"
      ]
    },
    {
      "cell_type": "code",
      "execution_count": null,
      "metadata": {
        "id": "UHbqYTNqw2mc"
      },
      "outputs": [],
      "source": [
        "log_csv.rename(columns={'eventID':'eventID', 'case Spend area text': 'case:spend:area', 'case Company': 'case:company', 'case Document Type':'case:doc:type',\\\n",
        "                        'case Sub spend area text': 'case:spend:area:text','case Purchasing Document':'case:doc:id',\\\n",
        "                        'case Purch. Doc. Category name':'case:purch:category', 'case Vendor':'case:vendor', 'case Item Type': 'case:item:type',\\\n",
        "                        'case Item Category': 'case:item:category', 'case Spend classification text':'case:purch:class',\t'case Source': 'case:source',\\\n",
        "                        'case Name':'case:vendor:name', 'case GR-Based Inv. Verif.': 'case:invoicing:required', 'case Item': 'case:item',\\\n",
        "                        'case concept:name': 'case:concept:name', 'case Goods Receipt': 'case:goods:receipt', 'event User': 'event:user',\\\n",
        "                        'event org:resource': 'org:resource', 'event concept:name': 'concept:name', 'event Cumulative net worth (EUR)': 'cumulative:net:worth:EUR',\\\n",
        "                        'event time:timestamp': 'time:timestamp'}, inplace=True)"
      ]
    },
    {
      "cell_type": "code",
      "execution_count": null,
      "metadata": {
        "id": "QS5WSlxZaPCh"
      },
      "outputs": [],
      "source": [
        ""
      ]
    },
    {
      "cell_type": "code",
      "execution_count": null,
      "metadata": {
        "colab": {
          "base_uri": "https://localhost:8080/"
        },
        "id": "-CvIj32IzvRP",
        "outputId": "6feeea32-1529-48c0-e985-91098ec91705"
      },
      "outputs": [
        {
          "output_type": "execute_result",
          "data": {
            "text/plain": [
              "1595923"
            ]
          },
          "metadata": {},
          "execution_count": 5
        }
      ],
      "source": [
        "log_csv['case:concept:name'].count()"
      ]
    },
    {
      "cell_type": "code",
      "execution_count": null,
      "metadata": {
        "id": "Vs3L6VfxxJoa"
      },
      "outputs": [],
      "source": [
        "def to_eventlog(dataset):\n",
        "  # Convert log_csv to event_log\n",
        "  parameters = {log_converter.Variants.TO_EVENT_LOG.value.Parameters.CASE_ID_KEY: 'case:concept:name'}  # identify the case_id_key name (if not change it will simply be the nane of the coloumn)\n",
        "  event_log = log_converter.apply(dataset, parameters=parameters, variant=log_converter.Variants.TO_EVENT_LOG)\n",
        "  return event_log"
      ]
    },
    {
      "cell_type": "code",
      "execution_count": null,
      "metadata": {
        "id": "04AYQuk-xKse"
      },
      "outputs": [],
      "source": [
        "event_log = to_eventlog(log_csv)"
      ]
    },
    {
      "cell_type": "code",
      "execution_count": null,
      "metadata": {
        "colab": {
          "base_uri": "https://localhost:8080/"
        },
        "id": "1vWPRp0Bxt16",
        "outputId": "44d5f43f-8505-4b73-f38f-c254c29f3e3f"
      },
      "outputs": [
        {
          "output_type": "stream",
          "name": "stdout",
          "text": [
            "2.8481950570296846\n"
          ]
        }
      ],
      "source": [
        "# calculate percentage of cases which werent in 2018\n",
        "\n",
        "date_percentage = log_csv[log_csv['time:timestamp'].between('2018-01-01 00:00:00', '2018-12-31 23:59:00')].count()\n",
        "percentage = 100 - (date_percentage['case:concept:name']/log_csv['case:concept:name'].count()) * 100\n",
        "print(percentage)\n",
        "#log_csv.groupby['case:concept:name']('time:timestamp').between('2018-01-01 00:00:00', '2018-12-31 23:59:00').count()"
      ]
    },
    {
      "cell_type": "code",
      "execution_count": null,
      "metadata": {
        "id": "YzL2aTSEx-Sq"
      },
      "outputs": [],
      "source": [
        "from pm4py.algo.filtering.log.timestamp import timestamp_filter # filter between dates\n",
        " \n",
        "def filter_by_period(dataset, eventlog, date1: str, date2: str):\n",
        "        '''\n",
        "        :param dataset: dataset, which should be filtered\n",
        "        :param date1: startdate\n",
        "        :param date2: enddate\n",
        "        :return: filtered eventlog\n",
        "        '''\n",
        "        filtered_log = timestamp_filter.filter_traces_contained(eventlog, date1, date2)\n",
        "        df_filtered_by_period = log_converter.apply(\n",
        "            filtered_log, variant=log_converter.Variants.TO_DATA_FRAME)\n",
        "        return df_filtered_by_period, filtered_log\n",
        "\n",
        "log_filtered_byDate, event_log_date = filter_by_period(log_csv, event_log, \n",
        "                                                       \"2018-01-01 00:00:00\", \n",
        "                                                       \"2019-01-28 23:59:00\")"
      ]
    },
    {
      "cell_type": "code",
      "execution_count": null,
      "metadata": {
        "colab": {
          "base_uri": "https://localhost:8080/"
        },
        "id": "yqlqZcTnauSi",
        "outputId": "7fd3538d-0105-4b48-d4ae-988d3cb31bb8"
      },
      "outputs": [
        {
          "output_type": "execute_result",
          "data": {
            "text/plain": [
              "case:item:type\n",
              "Standard          1088113\n",
              "Service            240987\n",
              "Consignment         34717\n",
              "Third-party         26014\n",
              "Subcontracting      20508\n",
              "Limit                4449\n",
              "dtype: int64"
            ]
          },
          "metadata": {},
          "execution_count": 10
        }
      ],
      "source": [
        "log_date_nunique = log_filtered_byDate.nunique().sort_values(ascending=False)\n",
        "#log_nunique.to_excel('/content/excel/log_nunique.xlsx')\n",
        "log_date_nunique\n",
        "log_filtered_byDate.value_counts('case:item:type')"
      ]
    },
    {
      "cell_type": "code",
      "execution_count": null,
      "metadata": {
        "id": "N-qNT4y_yAR2"
      },
      "outputs": [],
      "source": [
        "# count occurrences of concept:name to analyze which values are important\n",
        "\n",
        "def count_occurrences(log, column: str):\n",
        "        \"\"\"\n",
        "        :param column: name of the column where the values should be counted\n",
        "        :return: counted occurences of column values\n",
        "        \"\"\"\n",
        "        count_column = log.groupby(column).count()\n",
        "        return count_column"
      ]
    },
    {
      "cell_type": "markdown",
      "metadata": {
        "id": "pE7DhEB6xyOT"
      },
      "source": [
        "# Bar chart to compare filter"
      ]
    },
    {
      "cell_type": "code",
      "execution_count": null,
      "metadata": {
        "id": "rYVV6O6DALZv"
      },
      "outputs": [],
      "source": [
        "def count_events(dataset):\n",
        "  return dataset['case:concept:name'].count()"
      ]
    },
    {
      "cell_type": "code",
      "execution_count": null,
      "metadata": {
        "id": "EjueB3U--wGN"
      },
      "outputs": [],
      "source": [
        "# decrease percent\n",
        "\n",
        "def decrease_in_perc(dataset1, dataset2):\n",
        "  return 1 - count_events(dataset2)/count_events(dataset1)"
      ]
    },
    {
      "cell_type": "code",
      "execution_count": null,
      "metadata": {
        "id": "MVBaBqb9xxKp"
      },
      "outputs": [],
      "source": [
        "# compare before and after filtering date \n",
        "\n",
        "import matplotlib.pyplot as plt\n",
        "import seaborn as sns\n",
        "\n",
        "def comp_bef_aft(dataset1 , dataset2):\n",
        "\n",
        "    plt.style.use('ggplot')\n",
        "\n",
        "    x = ['without filtering', 'after filtering']\n",
        "    events = [count_events(dataset1), count_events(dataset2)]\n",
        "\n",
        "    x_pos = [i for i, _ in enumerate(x)]\n",
        "    sns.set(rc={'axes.facecolor':'white', 'figure.facecolor':'white'})\n",
        "    color = sns.color_palette(\"muted\")\n",
        "    plt.figure(1, figsize=(5, 5))  # size\n",
        "    plt.bar(x_pos, events, color=color)\n",
        "    plt.xlabel(\"Filter\")\n",
        " \n",
        "    plt.ylabel(\"Events\")\n",
        "    #plt.title(\"Energy output from various fuel sources\")\n",
        "    plt.grid(False)\n",
        "\n",
        "    plt.xticks(x_pos, x)\n",
        "    plt.axhline(y=0, color='black')\n",
        "\n",
        "    plt.show()"
      ]
    },
    {
      "cell_type": "code",
      "execution_count": null,
      "metadata": {
        "colab": {
          "base_uri": "https://localhost:8080/",
          "height": 350
        },
        "id": "hIFhUNwPBAkf",
        "outputId": "20a01ed4-6281-41f9-d4a1-19809bc2843f"
      },
      "outputs": [
        {
          "output_type": "display_data",
          "data": {
            "image/png": "[encoded data removed]",
            "text/plain": [
              "<Figure size 360x360 with 1 Axes>"
            ]
          },
          "metadata": {}
        }
      ],
      "source": [
        "comp_bef_aft(log_csv, log_filtered_byDate)"
      ]
    },
    {
      "cell_type": "markdown",
      "metadata": {
        "id": "C80xohRQiwue"
      },
      "source": [
        "# Filtering Data Functions"
      ]
    },
    {
      "cell_type": "code",
      "execution_count": null,
      "metadata": {
        "id": "MFmaglkJkfgX"
      },
      "outputs": [],
      "source": [
        "#from pm4py.algo.filtering.log.attributes import attributes_filter\n",
        "from pm4py.algo.filtering.pandas.attributes import attributes_filter\n",
        "\n",
        "def filter_log_by_cat(log, item_category: str):\n",
        "    '''\n",
        "    :log: dataset\n",
        "    :item_category: e.g. \"3-way match, invoice after GR\"\n",
        "    filter data by case item category\n",
        "    :return: filtered data IVaGR\n",
        "    '''\n",
        "    \n",
        "    df_tracefilter_cat = attributes_filter.apply(\n",
        "        log, [item_category], parameters={attributes_filter.Parameters.CASE_ID_KEY: \n",
        "                                          \"case:concept:name\",\n",
        "                                          attributes_filter.Parameters.ATTRIBUTE_KEY: \n",
        "                                          \"case:item:category\", \n",
        "                                          attributes_filter.Parameters.POSITIVE: True})\n",
        "\n",
        "    return df_tracefilter_cat"
      ]
    },
    {
      "cell_type": "code",
      "execution_count": null,
      "metadata": {
        "id": "SE3y7VR7jKbV"
      },
      "outputs": [],
      "source": [
        "from pm4py.algo.filtering.log.variants import variants_filter\n",
        "from pm4py.statistics.traces.generic.pandas import case_statistics\n",
        "\n",
        "def filter_by_variants(dataset):\n",
        "      variants = case_statistics.get_variants_df(\n",
        "          dataset, parameters={case_statistics.Parameters.CASE_ID_KEY: \n",
        "                               \"case:concept:name\",\n",
        "                               case_statistics.Parameters.ACTIVITY_KEY: \n",
        "                               \"concept:name\"})\n",
        "      return variants\n",
        "\n",
        "def variants_statistics(dataset):\n",
        "      variants_count = case_statistics.get_variant_statistics(dataset,\n",
        "                                          parameters={case_statistics.Parameters.CASE_ID_KEY: \"case:concept:name\",\n",
        "                                                      case_statistics.Parameters.ACTIVITY_KEY: \"concept:name\"})\n",
        "      return variants_count"
      ]
    },
    {
      "cell_type": "code",
      "execution_count": null,
      "metadata": {
        "id": "XUMhCHyPjx9R"
      },
      "outputs": [],
      "source": [
        "def merge_df(data1, data2, on):\n",
        "      merge_df = pd.merge(data1, data2, on=on)\n",
        "      return merge_df"
      ]
    },
    {
      "cell_type": "markdown",
      "metadata": {
        "id": "1dasPNwjip2z"
      },
      "source": [
        "# Filtering IVaGR"
      ]
    },
    {
      "cell_type": "code",
      "execution_count": null,
      "metadata": {
        "id": "th_rVLGElPwL"
      },
      "outputs": [],
      "source": [
        "log_filtered_IVaGR = filter_log_by_cat(log_filtered_byDate, \"3-way match, invoice after GR\")\n",
        "#log_filtered_IVaGR"
      ]
    },
    {
      "cell_type": "code",
      "execution_count": null,
      "metadata": {
        "id": "WIYgy9GjsfVV"
      },
      "outputs": [],
      "source": [
        "variants_IVaGR = filter_by_variants(log_filtered_IVaGR)\n",
        "#variants_IVaGR"
      ]
    },
    {
      "cell_type": "code",
      "execution_count": null,
      "metadata": {
        "id": "U1gvYsineD2G"
      },
      "outputs": [],
      "source": [
        "variants_contains_GR_IV = variants_IVaGR[\n",
        "  (variants_IVaGR['variant'].str.contains('Goods Receipt')) & \n",
        "  (variants_IVaGR['variant'].str.contains('Invoice Receipt'))]\n",
        "#variants_contains_GR_IV"
      ]
    },
    {
      "cell_type": "code",
      "execution_count": null,
      "metadata": {
        "colab": {
          "base_uri": "https://localhost:8080/"
        },
        "id": "9uDxHPvP0oEm",
        "outputId": "4f218791-110f-4f33-f54e-1a4ef5ed7d87"
      },
      "outputs": [
        {
          "output_type": "stream",
          "name": "stderr",
          "text": [
            "/usr/local/lib/python3.7/dist-packages/ipykernel_launcher.py:2: SettingWithCopyWarning: \n",
            "A value is trying to be set on a copy of a slice from a DataFrame.\n",
            "Try using .loc[row_indexer,col_indexer] = value instead\n",
            "\n",
            "See the caveats in the documentation: https://pandas.pydata.org/pandas-docs/stable/user_guide/indexing.html#returning-a-view-versus-a-copy\n",
            "  \n",
            "/usr/local/lib/python3.7/dist-packages/ipykernel_launcher.py:4: SettingWithCopyWarning: \n",
            "A value is trying to be set on a copy of a slice from a DataFrame.\n",
            "Try using .loc[row_indexer,col_indexer] = value instead\n",
            "\n",
            "See the caveats in the documentation: https://pandas.pydata.org/pandas-docs/stable/user_guide/indexing.html#returning-a-view-versus-a-copy\n",
            "  after removing the cwd from sys.path.\n"
          ]
        }
      ],
      "source": [
        "variants_contains_GR_IV['value_GR'] = variants_contains_GR_IV['variant'].str.count(\n",
        "    'Record Goods Receipt')\n",
        "variants_contains_GR_IV['value_IV'] = variants_contains_GR_IV['variant'].str.count(\n",
        "    'Record Invoice Receipt')\n",
        "\n",
        "variants_contains_GR_IV = variants_contains_GR_IV[variants_contains_GR_IV.value_IV ==\n",
        "                                                  variants_contains_GR_IV.value_GR]\n",
        "#variants_contains_GR_IV\n",
        "\n"
      ]
    },
    {
      "cell_type": "code",
      "execution_count": null,
      "metadata": {
        "colab": {
          "base_uri": "https://localhost:8080/",
          "height": 675
        },
        "id": "k2szKZl8_7eK",
        "outputId": "5d640217-794e-43fe-a055-93b8824d3bb5"
      },
      "outputs": [
        {
          "output_type": "display_data",
          "data": {
            "image/png": "[encoded data removed]",
            "text/plain": [
              "<Figure size 360x360 with 1 Axes>"
            ]
          },
          "metadata": {}
        },
        {
          "output_type": "display_data",
          "data": {
            "image/png": "[encoded data removed]",
            "text/plain": [
              "<Figure size 360x360 with 1 Axes>"
            ]
          },
          "metadata": {}
        }
      ],
      "source": [
        "# merge dataframes\n",
        "df_IVaGR = merge_df(log_filtered_IVaGR, variants_contains_GR_IV, 'case:concept:name')\n",
        "#df_IVaGR_containsGR_IV.value_counts('concept:name')\n",
        "\n",
        "#df_IVaGR_containsGR_IV.to_csv('CSV_IVaGR_filtered',  encoding='cp1252',sep=',')\n",
        "df_IVaGR.to_pickle('PKL_IVaGR_filtered')\n",
        "comp_bef_aft(log_filtered_byDate, log_filtered_IVaGR)\n",
        "comp_bef_aft(log_filtered_IVaGR, df_IVaGR)"
      ]
    },
    {
      "cell_type": "code",
      "execution_count": null,
      "metadata": {
        "colab": {
          "base_uri": "https://localhost:8080/"
        },
        "id": "mtxkcKG-G71T",
        "outputId": "f88f7006-ab1d-4564-c4e2-e19c06c65832"
      },
      "outputs": [
        {
          "output_type": "execute_result",
          "data": {
            "text/plain": [
              "0.8181967024660092"
            ]
          },
          "metadata": {},
          "execution_count": 24
        }
      ],
      "source": [
        "count_events(df_IVaGR)\n",
        "decrease_in_perc(log_filtered_IVaGR, df_IVaGR)"
      ]
    },
    {
      "cell_type": "code",
      "execution_count": null,
      "metadata": {
        "id": "GTiMZn0272Y-"
      },
      "outputs": [],
      "source": [
        "#filtered_log = pm4py.filter_variants_top_k(df_IVaGR , 25)\n",
        "#filtered_log.value_counts('concept:name')"
      ]
    },
    {
      "cell_type": "code",
      "execution_count": null,
      "metadata": {
        "id": "UIk-1wny8lxk"
      },
      "outputs": [],
      "source": [
        "#filtered_log_2 = variants_filter.filter_variants_variants_percentage(event_log, variants_contains_GR_IV, variants_percentage=0.5)\n",
        "\n",
        "#filtered_log_2"
      ]
    },
    {
      "cell_type": "markdown",
      "metadata": {
        "id": "vAJ1ojgRkN9z"
      },
      "source": [
        "# Filtering IVbGR"
      ]
    },
    {
      "cell_type": "code",
      "execution_count": null,
      "metadata": {
        "colab": {
          "base_uri": "https://localhost:8080/",
          "height": 367
        },
        "id": "tjZfg7g3kRTn",
        "outputId": "c5340335-db34-4a55-e30d-b36727ce90b2"
      },
      "outputs": [
        {
          "output_type": "display_data",
          "data": {
            "image/png": "[encoded data removed]",
            "text/plain": [
              "<Figure size 360x360 with 1 Axes>"
            ]
          },
          "metadata": {}
        },
        {
          "output_type": "execute_result",
          "data": {
            "text/plain": [
              "1088559"
            ]
          },
          "metadata": {},
          "execution_count": 27
        }
      ],
      "source": [
        "log_filtered_IVbGR = filter_log_by_cat(log_filtered_byDate, \"3-way match, invoice before GR\") \n",
        "comp_bef_aft(log_filtered_byDate, log_filtered_IVbGR)\n",
        "decrease_in_perc(log_filtered_byDate, log_filtered_IVbGR)\n",
        "count_events(log_filtered_IVbGR)"
      ]
    },
    {
      "cell_type": "code",
      "execution_count": null,
      "metadata": {
        "id": "nl_7fUlmkaqg"
      },
      "outputs": [],
      "source": [
        "variants_IVbGR = filter_by_variants(log_filtered_IVbGR)\n",
        "#variants_IVbGR"
      ]
    },
    {
      "cell_type": "code",
      "execution_count": null,
      "metadata": {
        "id": "gBFGAo23lig3"
      },
      "outputs": [],
      "source": [
        "variants_contains_GR = variants_IVbGR[(variants_IVbGR['variant'].str.contains(\n",
        "    'Goods Receipt'))]\n",
        "#variants_contains_GR"
      ]
    },
    {
      "cell_type": "code",
      "execution_count": null,
      "metadata": {
        "colab": {
          "base_uri": "https://localhost:8080/"
        },
        "id": "pTbAZx1La_cz",
        "outputId": "c7576b11-9796-43a7-e928-c6f7ce255f82"
      },
      "outputs": [
        {
          "output_type": "stream",
          "name": "stderr",
          "text": [
            "/usr/local/lib/python3.7/dist-packages/ipykernel_launcher.py:5: SettingWithCopyWarning: \n",
            "A value is trying to be set on a copy of a slice from a DataFrame.\n",
            "Try using .loc[row_indexer,col_indexer] = value instead\n",
            "\n",
            "See the caveats in the documentation: https://pandas.pydata.org/pandas-docs/stable/user_guide/indexing.html#returning-a-view-versus-a-copy\n",
            "  \"\"\"\n",
            "/usr/local/lib/python3.7/dist-packages/ipykernel_launcher.py:7: SettingWithCopyWarning: \n",
            "A value is trying to be set on a copy of a slice from a DataFrame.\n",
            "Try using .loc[row_indexer,col_indexer] = value instead\n",
            "\n",
            "See the caveats in the documentation: https://pandas.pydata.org/pandas-docs/stable/user_guide/indexing.html#returning-a-view-versus-a-copy\n",
            "  import sys\n",
            "/usr/local/lib/python3.7/dist-packages/ipykernel_launcher.py:9: SettingWithCopyWarning: \n",
            "A value is trying to be set on a copy of a slice from a DataFrame.\n",
            "Try using .loc[row_indexer,col_indexer] = value instead\n",
            "\n",
            "See the caveats in the documentation: https://pandas.pydata.org/pandas-docs/stable/user_guide/indexing.html#returning-a-view-versus-a-copy\n",
            "  if __name__ == '__main__':\n"
          ]
        }
      ],
      "source": [
        "# Value of invoice receipts = value of clear invoice message = value of vendor \n",
        "# creates invoice\n",
        "\n",
        "variants_contains_GR['value_CIV'] = variants_contains_GR['variant'].str.count(\n",
        "    'Clear Invoice')\n",
        "variants_contains_GR['value_IV'] = variants_contains_GR['variant'].str.count(\n",
        "    'Record Invoice Receipt')\n",
        "variants_contains_GR['value_NIV'] = variants_contains_GR['variant'].str.count(\n",
        "    'Vendor creates invoice')\n",
        "\n",
        "#merged_values = pd.merge(variants_value_GR, variants_value_IV, on=['case:concept:name'], how='inner')\n",
        "#merged_values\n",
        "\n",
        "#variants_contains_GR_IV.drop(['case:concept:name'])\n",
        "\n",
        "variants_contains_CIV_IV_NIV = variants_contains_GR[(\n",
        "    variants_contains_GR.value_CIV == variants_contains_GR.value_IV) & \n",
        "    (variants_contains_GR.value_CIV == variants_contains_GR.value_NIV)]\n",
        "#variants_contains_CIV_IV_NIV\n"
      ]
    },
    {
      "cell_type": "code",
      "execution_count": null,
      "metadata": {
        "colab": {
          "base_uri": "https://localhost:8080/"
        },
        "id": "lmludGq2qZQY",
        "outputId": "8edc3f83-b326-4d28-acc7-aa15292c24f8"
      },
      "outputs": [
        {
          "output_type": "execute_result",
          "data": {
            "text/plain": [
              "889866"
            ]
          },
          "metadata": {},
          "execution_count": 31
        }
      ],
      "source": [
        "# merge dataframes\n",
        "df_IVbGR = merge_df(log_filtered_IVbGR, variants_contains_CIV_IV_NIV, 'case:concept:name')\n",
        "#df_IVbGR\n",
        "\n",
        "#df_IVbGR.to_csv('CSV_IVaGR_filtered',  encoding='cp1252',sep=',')\n",
        "df_IVbGR.to_pickle('PKL_IVbGR_filtered')\n",
        "decrease_in_perc(log_filtered_IVbGR, df_IVbGR)\n",
        "#comp_bef_aft(log_filtered_IVbGR, df_IVbGR)\n",
        "count_events(df_IVbGR)"
      ]
    },
    {
      "cell_type": "code",
      "execution_count": null,
      "metadata": {
        "id": "pnV4xZHbmIDK"
      },
      "outputs": [],
      "source": [
        "#df_IVbGR.to_csv('CSV_IVbGR_filtered',  encoding='cp1252',sep=',')"
      ]
    },
    {
      "cell_type": "markdown",
      "metadata": {
        "id": "DLua1_5AmKWZ"
      },
      "source": [
        "# Filtering nGR"
      ]
    },
    {
      "cell_type": "code",
      "execution_count": null,
      "metadata": {
        "colab": {
          "base_uri": "https://localhost:8080/",
          "height": 367
        },
        "id": "gUggVwfAmOt1",
        "outputId": "0e80ed56-8d0d-4407-ae59-ca9bb20efdf6"
      },
      "outputs": [
        {
          "output_type": "display_data",
          "data": {
            "image/png": "[encoded data removed]",
            "text/plain": [
              "<Figure size 360x360 with 1 Axes>"
            ]
          },
          "metadata": {}
        },
        {
          "output_type": "execute_result",
          "data": {
            "text/plain": [
              "0.99685535924817"
            ]
          },
          "metadata": {},
          "execution_count": 33
        }
      ],
      "source": [
        "log_filtered_nGR = filter_log_by_cat(log_filtered_byDate, \"2-way match\")\n",
        "comp_bef_aft(log_filtered_byDate, log_filtered_nGR) \n",
        "count_events(log_filtered_nGR)\n",
        "decrease_in_perc(log_filtered_byDate, log_filtered_nGR)"
      ]
    },
    {
      "cell_type": "code",
      "execution_count": null,
      "metadata": {
        "id": "_QddTRJqmWFt"
      },
      "outputs": [],
      "source": [
        "variants_nGR = filter_by_variants(log_filtered_nGR)\n",
        "#variants_nGR"
      ]
    },
    {
      "cell_type": "code",
      "execution_count": null,
      "metadata": {
        "id": "ohDGd5bAmguA"
      },
      "outputs": [],
      "source": [
        "variants_contains_IV = variants_nGR[(variants_nGR['variant'].str.contains(\n",
        "    'Invoice Receipt'))]\n",
        "#variants_contains_IV"
      ]
    },
    {
      "cell_type": "code",
      "execution_count": null,
      "metadata": {
        "colab": {
          "base_uri": "https://localhost:8080/"
        },
        "id": "5CJXANAUrjAD",
        "outputId": "a0fa616f-4f9f-4652-8963-dd3219e46b46"
      },
      "outputs": [
        {
          "output_type": "stream",
          "name": "stderr",
          "text": [
            "/usr/local/lib/python3.7/dist-packages/ipykernel_launcher.py:2: SettingWithCopyWarning: \n",
            "A value is trying to be set on a copy of a slice from a DataFrame.\n",
            "Try using .loc[row_indexer,col_indexer] = value instead\n",
            "\n",
            "See the caveats in the documentation: https://pandas.pydata.org/pandas-docs/stable/user_guide/indexing.html#returning-a-view-versus-a-copy\n",
            "  \n",
            "/usr/local/lib/python3.7/dist-packages/ipykernel_launcher.py:4: SettingWithCopyWarning: \n",
            "A value is trying to be set on a copy of a slice from a DataFrame.\n",
            "Try using .loc[row_indexer,col_indexer] = value instead\n",
            "\n",
            "See the caveats in the documentation: https://pandas.pydata.org/pandas-docs/stable/user_guide/indexing.html#returning-a-view-versus-a-copy\n",
            "  after removing the cwd from sys.path.\n"
          ]
        }
      ],
      "source": [
        "variants_contains_IV['value_IV'] = variants_contains_IV['variant'].str.count(\n",
        "    'Record Invoice Receipt')\n",
        "variants_contains_IV['value_NIV'] = variants_contains_IV['variant'].str.count(\n",
        "    'Vendor creates invoice')\n",
        "\n",
        "#merged_values = pd.merge(variants_value_GR, variants_value_IV, on=['case:concept:name'], how='inner')\n",
        "#merged_values\n",
        "\n",
        "#variants_contains_GR_IV.drop(['case:concept:name'])\n",
        "\n",
        "variants_contains_IV_NIV = variants_contains_IV[variants_contains_IV.value_IV == \n",
        "                                                variants_contains_IV.value_NIV]\n",
        "#variants_contains_IV_NIV"
      ]
    },
    {
      "cell_type": "code",
      "execution_count": null,
      "metadata": {
        "colab": {
          "base_uri": "https://localhost:8080/",
          "height": 339
        },
        "id": "vFwk3xrw96P-",
        "outputId": "546b0fc1-927d-499d-e579-77bcc5ddf542"
      },
      "outputs": [
        {
          "output_type": "display_data",
          "data": {
            "image/png": "[encoded data removed]",
            "text/plain": [
              "<Figure size 360x360 with 1 Axes>"
            ]
          },
          "metadata": {}
        }
      ],
      "source": [
        "df_nGR = merge_df(log_filtered_nGR, variants_contains_IV_NIV, 'case:concept:name')\n",
        "\n",
        "df_nGR.to_pickle('PKL_nGR_filtered')\n",
        "#df_nGR.to_csv('CSV_IVaGR_filtered',  encoding='cp1252',sep=',')\n",
        "decrease_in_perc(log_filtered_nGR, df_nGR)\n",
        "comp_bef_aft(log_filtered_nGR, df_nGR)\n",
        "#count_events(df_nGR)"
      ]
    },
    {
      "cell_type": "code",
      "execution_count": null,
      "metadata": {
        "id": "EbnjxcXs49mI"
      },
      "outputs": [],
      "source": [
        "#df_nGR_containsIV.to_csv('CSV_nGR_filtered',  encoding='cp1252',sep=',')"
      ]
    },
    {
      "cell_type": "markdown",
      "metadata": {
        "id": "wJGSScE3tZoJ"
      },
      "source": [
        "# Filtering Con"
      ]
    },
    {
      "cell_type": "code",
      "execution_count": null,
      "metadata": {
        "id": "yWi9NVRjtZSK"
      },
      "outputs": [],
      "source": [
        "log_filtered_Con = filter_log_by_cat(log_filtered_byDate, \"Consignment\")\n",
        "#log_filtered_Con\n",
        "\n",
        "#count_events(log_filtered_Con)\n",
        "#decrease_in_perc(log_filtered_byDate, log_filtered_Con)\n",
        "#comp_bef_aft(log_filtered_byDate, log_filtered_Con)"
      ]
    },
    {
      "cell_type": "code",
      "execution_count": null,
      "metadata": {
        "id": "rVJyKna-tuzR"
      },
      "outputs": [],
      "source": [
        "variants_Con = filter_by_variants(log_filtered_Con)\n",
        "#variants_Con"
      ]
    },
    {
      "cell_type": "code",
      "execution_count": null,
      "metadata": {
        "id": "XOZfpXoKt1Cs"
      },
      "outputs": [],
      "source": [
        "# check if GR > 0 and IV = 0\n",
        "\n",
        "variants_contains_GR = variants_Con[\n",
        "  (variants_Con['variant'].str.contains('Goods Receipt')) & \n",
        "  (variants_Con['variant'].str.contains('Invoice') == False)]\n",
        "#variants_contains_GR"
      ]
    },
    {
      "cell_type": "code",
      "execution_count": null,
      "metadata": {
        "colab": {
          "base_uri": "https://localhost:8080/",
          "height": 339
        },
        "id": "wFBTBM5iEzp-",
        "outputId": "08eb5f73-6fc6-4a3c-b37e-53e4445582b1"
      },
      "outputs": [
        {
          "output_type": "display_data",
          "data": {
            "image/png": "[encoded data removed]",
            "text/plain": [
              "<Figure size 360x360 with 1 Axes>"
            ]
          },
          "metadata": {}
        }
      ],
      "source": [
        "# merge \n",
        "df_Con = merge_df(log_filtered_Con, variants_contains_GR, 'case:concept:name')\n",
        "\n",
        "df_Con.to_pickle('PKL_Con_filtered')\n",
        "#df_Con.to_csv('CSV_IVaGR_filtered',  encoding='cp1252',sep=',')\n",
        "decrease_in_perc(log_filtered_Con, df_Con)\n",
        "comp_bef_aft(log_filtered_Con, df_Con)\n",
        "#count_events(df_Con)"
      ]
    },
    {
      "cell_type": "code",
      "execution_count": null,
      "metadata": {
        "id": "wLhomPCI18KM"
      },
      "outputs": [],
      "source": [
        "#df_Con.to_csv('CSV_Con_filtered',  encoding='cp1252',sep=',')"
      ]
    },
    {
      "cell_type": "markdown",
      "metadata": {
        "id": "Jp6kk782itUf"
      },
      "source": [
        "# Check on most frequent variants of the whole data\n",
        "\n",
        "---\n",
        "\n"
      ]
    },
    {
      "cell_type": "code",
      "source": [
        "# Pareto principle\n",
        "from pm4py.algo.filtering.log.variants import variants_filter\n",
        "\n",
        "def filter_pareto(e_log):\n",
        "   filtered_log = variants_filter.filter_log_variants_percentage(e_log, percentage=0.2)\n",
        "   return filtered_log"
      ],
      "metadata": {
        "id": "cy-zQF_oh7gk"
      },
      "execution_count": null,
      "outputs": []
    },
    {
      "cell_type": "code",
      "source": [
        "# count variants \n",
        "\n",
        "from pm4py.statistics.traces.generic.log import case_statistics\n",
        "variants_count = case_statistics.get_variant_statistics(event_log)\n",
        "variants_count = sorted(variants_count, key=lambda x: x['count'], reverse=True)\n"
      ],
      "metadata": {
        "id": "gUiAsFBMb7ol"
      },
      "execution_count": null,
      "outputs": []
    },
    {
      "cell_type": "code",
      "source": [
        "# Transform records (a list of dicts) into a dataframe\n",
        "# used to convert the variants_count dictionary into a data frame\n",
        "\n",
        "log_csv_variants = pd.DataFrame.from_records(variants_count)\n",
        "log_csv_variants['count'].head(5).sum()/log_csv_variants['count'].sum()"
      ],
      "metadata": {
        "colab": {
          "base_uri": "https://localhost:8080/"
        },
        "id": "KJ_Krjb3butA",
        "outputId": "96e35fba-995f-4c2a-d883-7d31515ef7b7"
      },
      "execution_count": null,
      "outputs": [
        {
          "output_type": "execute_result",
          "data": {
            "text/plain": [
              "0.45103561696076017"
            ]
          },
          "metadata": {},
          "execution_count": 46
        }
      ]
    },
    {
      "cell_type": "code",
      "execution_count": null,
      "metadata": {
        "colab": {
          "base_uri": "https://localhost:8080/",
          "height": 372
        },
        "id": "MjmBt2v15JkJ",
        "outputId": "384a71ef-b0f3-4162-e79d-76ff489f411f"
      },
      "outputs": [
        {
          "output_type": "execute_result",
          "data": {
            "text/plain": [
              "Text(0.5, 1.0, 'bar chart of variants frequency')"
            ]
          },
          "metadata": {},
          "execution_count": 47
        },
        {
          "output_type": "display_data",
          "data": {
            "image/png": "[encoded data removed]",
            "text/plain": [
              "<Figure size 1080x360 with 1 Axes>"
            ]
          },
          "metadata": {}
        }
      ],
      "source": [
        "import math\n",
        "# Prepare the dimensions to plot\n",
        "# Put variants and counts into lists of prefered length\n",
        "\n",
        "variant = log_csv_variants.head(100).index\n",
        "frequency = log_csv_variants['count'].head(100)\n",
        "# return a list of log values from a list \n",
        "#frequency_log = [math.log(i, 2) for i in frequency] \n",
        "#print(frequency)\n",
        "#print(frequency_log)\n",
        "\n",
        "# Plot the histogram of the frequencies\n",
        "\n",
        "fig = plt.figure(figsize = (15, 5))\n",
        " \n",
        "# creating the bar plot\n",
        "plt.bar(variant, frequency, color ='orange',\n",
        "        width = 0.4)\n",
        " \n",
        "plt.xlabel(\"variants sorted by frequency\")\n",
        "plt.ylabel(\"frequency\")\n",
        "plt.title(\"bar chart of variants frequency\")\n",
        "#plt.show()\n",
        "\n",
        "# Convert the string of activites in a variant to a list \n",
        "#print(String2List(variants_df['variant'][2],\",\"))"
      ]
    }
  ],
  "metadata": {
    "colab": {
      "collapsed_sections": [],
      "name": "HandleData.ipynb",
      "provenance": [],
      "authorship_tag": "ABX9TyPo5Z/7BPu6yIcN1CJzREp8",
      "include_colab_link": true
    },
    "kernelspec": {
      "display_name": "Python 3",
      "name": "python3"
    },
    "language_info": {
      "name": "python"
    }
  },
  "nbformat": 4,
  "nbformat_minor": 0
}